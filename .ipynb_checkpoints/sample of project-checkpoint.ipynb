{
 "cells": [
  {
   "cell_type": "markdown",
   "metadata": {},
   "source": [
    "# NYC-Taxi-FHV-Project\n"
   ]
  },
  {
   "cell_type": "code",
   "execution_count": 141,
   "metadata": {},
   "outputs": [
    {
     "data": {
      "text/html": [
       "\n",
       "    <div class=\"bk-root\">\n",
       "        <a href=\"https://bokeh.pydata.org\" target=\"_blank\" class=\"bk-logo bk-logo-small bk-logo-notebook\"></a>\n",
       "        <span id=\"1006\">Loading BokehJS ...</span>\n",
       "    </div>"
      ]
     },
     "metadata": {},
     "output_type": "display_data"
    },
    {
     "data": {
      "application/javascript": [
       "\n",
       "(function(root) {\n",
       "  function now() {\n",
       "    return new Date();\n",
       "  }\n",
       "\n",
       "  var force = true;\n",
       "\n",
       "  if (typeof (root._bokeh_onload_callbacks) === \"undefined\" || force === true) {\n",
       "    root._bokeh_onload_callbacks = [];\n",
       "    root._bokeh_is_loading = undefined;\n",
       "  }\n",
       "\n",
       "  var JS_MIME_TYPE = 'application/javascript';\n",
       "  var HTML_MIME_TYPE = 'text/html';\n",
       "  var EXEC_MIME_TYPE = 'application/vnd.bokehjs_exec.v0+json';\n",
       "  var CLASS_NAME = 'output_bokeh rendered_html';\n",
       "\n",
       "  /**\n",
       "   * Render data to the DOM node\n",
       "   */\n",
       "  function render(props, node) {\n",
       "    var script = document.createElement(\"script\");\n",
       "    node.appendChild(script);\n",
       "  }\n",
       "\n",
       "  /**\n",
       "   * Handle when an output is cleared or removed\n",
       "   */\n",
       "  function handleClearOutput(event, handle) {\n",
       "    var cell = handle.cell;\n",
       "\n",
       "    var id = cell.output_area._bokeh_element_id;\n",
       "    var server_id = cell.output_area._bokeh_server_id;\n",
       "    // Clean up Bokeh references\n",
       "    if (id != null && id in Bokeh.index) {\n",
       "      Bokeh.index[id].model.document.clear();\n",
       "      delete Bokeh.index[id];\n",
       "    }\n",
       "\n",
       "    if (server_id !== undefined) {\n",
       "      // Clean up Bokeh references\n",
       "      var cmd = \"from bokeh.io.state import curstate; print(curstate().uuid_to_server['\" + server_id + \"'].get_sessions()[0].document.roots[0]._id)\";\n",
       "      cell.notebook.kernel.execute(cmd, {\n",
       "        iopub: {\n",
       "          output: function(msg) {\n",
       "            var id = msg.content.text.trim();\n",
       "            if (id in Bokeh.index) {\n",
       "              Bokeh.index[id].model.document.clear();\n",
       "              delete Bokeh.index[id];\n",
       "            }\n",
       "          }\n",
       "        }\n",
       "      });\n",
       "      // Destroy server and session\n",
       "      var cmd = \"import bokeh.io.notebook as ion; ion.destroy_server('\" + server_id + \"')\";\n",
       "      cell.notebook.kernel.execute(cmd);\n",
       "    }\n",
       "  }\n",
       "\n",
       "  /**\n",
       "   * Handle when a new output is added\n",
       "   */\n",
       "  function handleAddOutput(event, handle) {\n",
       "    var output_area = handle.output_area;\n",
       "    var output = handle.output;\n",
       "\n",
       "    // limit handleAddOutput to display_data with EXEC_MIME_TYPE content only\n",
       "    if ((output.output_type != \"display_data\") || (!output.data.hasOwnProperty(EXEC_MIME_TYPE))) {\n",
       "      return\n",
       "    }\n",
       "\n",
       "    var toinsert = output_area.element.find(\".\" + CLASS_NAME.split(' ')[0]);\n",
       "\n",
       "    if (output.metadata[EXEC_MIME_TYPE][\"id\"] !== undefined) {\n",
       "      toinsert[toinsert.length - 1].firstChild.textContent = output.data[JS_MIME_TYPE];\n",
       "      // store reference to embed id on output_area\n",
       "      output_area._bokeh_element_id = output.metadata[EXEC_MIME_TYPE][\"id\"];\n",
       "    }\n",
       "    if (output.metadata[EXEC_MIME_TYPE][\"server_id\"] !== undefined) {\n",
       "      var bk_div = document.createElement(\"div\");\n",
       "      bk_div.innerHTML = output.data[HTML_MIME_TYPE];\n",
       "      var script_attrs = bk_div.children[0].attributes;\n",
       "      for (var i = 0; i < script_attrs.length; i++) {\n",
       "        toinsert[toinsert.length - 1].firstChild.setAttribute(script_attrs[i].name, script_attrs[i].value);\n",
       "      }\n",
       "      // store reference to server id on output_area\n",
       "      output_area._bokeh_server_id = output.metadata[EXEC_MIME_TYPE][\"server_id\"];\n",
       "    }\n",
       "  }\n",
       "\n",
       "  function register_renderer(events, OutputArea) {\n",
       "\n",
       "    function append_mime(data, metadata, element) {\n",
       "      // create a DOM node to render to\n",
       "      var toinsert = this.create_output_subarea(\n",
       "        metadata,\n",
       "        CLASS_NAME,\n",
       "        EXEC_MIME_TYPE\n",
       "      );\n",
       "      this.keyboard_manager.register_events(toinsert);\n",
       "      // Render to node\n",
       "      var props = {data: data, metadata: metadata[EXEC_MIME_TYPE]};\n",
       "      render(props, toinsert[toinsert.length - 1]);\n",
       "      element.append(toinsert);\n",
       "      return toinsert\n",
       "    }\n",
       "\n",
       "    /* Handle when an output is cleared or removed */\n",
       "    events.on('clear_output.CodeCell', handleClearOutput);\n",
       "    events.on('delete.Cell', handleClearOutput);\n",
       "\n",
       "    /* Handle when a new output is added */\n",
       "    events.on('output_added.OutputArea', handleAddOutput);\n",
       "\n",
       "    /**\n",
       "     * Register the mime type and append_mime function with output_area\n",
       "     */\n",
       "    OutputArea.prototype.register_mime_type(EXEC_MIME_TYPE, append_mime, {\n",
       "      /* Is output safe? */\n",
       "      safe: true,\n",
       "      /* Index of renderer in `output_area.display_order` */\n",
       "      index: 0\n",
       "    });\n",
       "  }\n",
       "\n",
       "  // register the mime type if in Jupyter Notebook environment and previously unregistered\n",
       "  if (root.Jupyter !== undefined) {\n",
       "    var events = require('base/js/events');\n",
       "    var OutputArea = require('notebook/js/outputarea').OutputArea;\n",
       "\n",
       "    if (OutputArea.prototype.mime_types().indexOf(EXEC_MIME_TYPE) == -1) {\n",
       "      register_renderer(events, OutputArea);\n",
       "    }\n",
       "  }\n",
       "\n",
       "  \n",
       "  if (typeof (root._bokeh_timeout) === \"undefined\" || force === true) {\n",
       "    root._bokeh_timeout = Date.now() + 5000;\n",
       "    root._bokeh_failed_load = false;\n",
       "  }\n",
       "\n",
       "  var NB_LOAD_WARNING = {'data': {'text/html':\n",
       "     \"<div style='background-color: #fdd'>\\n\"+\n",
       "     \"<p>\\n\"+\n",
       "     \"BokehJS does not appear to have successfully loaded. If loading BokehJS from CDN, this \\n\"+\n",
       "     \"may be due to a slow or bad network connection. Possible fixes:\\n\"+\n",
       "     \"</p>\\n\"+\n",
       "     \"<ul>\\n\"+\n",
       "     \"<li>re-rerun `output_notebook()` to attempt to load from CDN again, or</li>\\n\"+\n",
       "     \"<li>use INLINE resources instead, as so:</li>\\n\"+\n",
       "     \"</ul>\\n\"+\n",
       "     \"<code>\\n\"+\n",
       "     \"from bokeh.resources import INLINE\\n\"+\n",
       "     \"output_notebook(resources=INLINE)\\n\"+\n",
       "     \"</code>\\n\"+\n",
       "     \"</div>\"}};\n",
       "\n",
       "  function display_loaded() {\n",
       "    var el = document.getElementById(\"1006\");\n",
       "    if (el != null) {\n",
       "      el.textContent = \"BokehJS is loading...\";\n",
       "    }\n",
       "    if (root.Bokeh !== undefined) {\n",
       "      if (el != null) {\n",
       "        el.textContent = \"BokehJS \" + root.Bokeh.version + \" successfully loaded.\";\n",
       "      }\n",
       "    } else if (Date.now() < root._bokeh_timeout) {\n",
       "      setTimeout(display_loaded, 100)\n",
       "    }\n",
       "  }\n",
       "\n",
       "\n",
       "  function run_callbacks() {\n",
       "    try {\n",
       "      root._bokeh_onload_callbacks.forEach(function(callback) { callback() });\n",
       "    }\n",
       "    finally {\n",
       "      delete root._bokeh_onload_callbacks\n",
       "    }\n",
       "    console.info(\"Bokeh: all callbacks have finished\");\n",
       "  }\n",
       "\n",
       "  function load_libs(js_urls, callback) {\n",
       "    root._bokeh_onload_callbacks.push(callback);\n",
       "    if (root._bokeh_is_loading > 0) {\n",
       "      console.log(\"Bokeh: BokehJS is being loaded, scheduling callback at\", now());\n",
       "      return null;\n",
       "    }\n",
       "    if (js_urls == null || js_urls.length === 0) {\n",
       "      run_callbacks();\n",
       "      return null;\n",
       "    }\n",
       "    console.log(\"Bokeh: BokehJS not loaded, scheduling load and callback at\", now());\n",
       "    root._bokeh_is_loading = js_urls.length;\n",
       "    for (var i = 0; i < js_urls.length; i++) {\n",
       "      var url = js_urls[i];\n",
       "      var s = document.createElement('script');\n",
       "      s.src = url;\n",
       "      s.async = false;\n",
       "      s.onreadystatechange = s.onload = function() {\n",
       "        root._bokeh_is_loading--;\n",
       "        if (root._bokeh_is_loading === 0) {\n",
       "          console.log(\"Bokeh: all BokehJS libraries loaded\");\n",
       "          run_callbacks()\n",
       "        }\n",
       "      };\n",
       "      s.onerror = function() {\n",
       "        console.warn(\"failed to load library \" + url);\n",
       "      };\n",
       "      console.log(\"Bokeh: injecting script tag for BokehJS library: \", url);\n",
       "      document.getElementsByTagName(\"head\")[0].appendChild(s);\n",
       "    }\n",
       "  };var element = document.getElementById(\"1006\");\n",
       "  if (element == null) {\n",
       "    console.log(\"Bokeh: ERROR: autoload.js configured with elementid '1006' but no matching script tag was found. \")\n",
       "    return false;\n",
       "  }\n",
       "\n",
       "  var js_urls = [\"https://cdn.pydata.org/bokeh/release/bokeh-1.0.4.min.js\", \"https://cdn.pydata.org/bokeh/release/bokeh-widgets-1.0.4.min.js\", \"https://cdn.pydata.org/bokeh/release/bokeh-tables-1.0.4.min.js\", \"https://cdn.pydata.org/bokeh/release/bokeh-gl-1.0.4.min.js\"];\n",
       "\n",
       "  var inline_js = [\n",
       "    function(Bokeh) {\n",
       "      Bokeh.set_log_level(\"info\");\n",
       "    },\n",
       "    \n",
       "    function(Bokeh) {\n",
       "      \n",
       "    },\n",
       "    function(Bokeh) {\n",
       "      console.log(\"Bokeh: injecting CSS: https://cdn.pydata.org/bokeh/release/bokeh-1.0.4.min.css\");\n",
       "      Bokeh.embed.inject_css(\"https://cdn.pydata.org/bokeh/release/bokeh-1.0.4.min.css\");\n",
       "      console.log(\"Bokeh: injecting CSS: https://cdn.pydata.org/bokeh/release/bokeh-widgets-1.0.4.min.css\");\n",
       "      Bokeh.embed.inject_css(\"https://cdn.pydata.org/bokeh/release/bokeh-widgets-1.0.4.min.css\");\n",
       "      console.log(\"Bokeh: injecting CSS: https://cdn.pydata.org/bokeh/release/bokeh-tables-1.0.4.min.css\");\n",
       "      Bokeh.embed.inject_css(\"https://cdn.pydata.org/bokeh/release/bokeh-tables-1.0.4.min.css\");\n",
       "    }\n",
       "  ];\n",
       "\n",
       "  function run_inline_js() {\n",
       "    \n",
       "    if ((root.Bokeh !== undefined) || (force === true)) {\n",
       "      for (var i = 0; i < inline_js.length; i++) {\n",
       "        inline_js[i].call(root, root.Bokeh);\n",
       "      }if (force === true) {\n",
       "        display_loaded();\n",
       "      }} else if (Date.now() < root._bokeh_timeout) {\n",
       "      setTimeout(run_inline_js, 100);\n",
       "    } else if (!root._bokeh_failed_load) {\n",
       "      console.log(\"Bokeh: BokehJS failed to load within specified timeout.\");\n",
       "      root._bokeh_failed_load = true;\n",
       "    } else if (force !== true) {\n",
       "      var cell = $(document.getElementById(\"1006\")).parents('.cell').data().cell;\n",
       "      cell.output_area.append_execute_result(NB_LOAD_WARNING)\n",
       "    }\n",
       "\n",
       "  }\n",
       "\n",
       "  if (root._bokeh_is_loading === 0) {\n",
       "    console.log(\"Bokeh: BokehJS loaded, going straight to plotting\");\n",
       "    run_inline_js();\n",
       "  } else {\n",
       "    load_libs(js_urls, function() {\n",
       "      console.log(\"Bokeh: BokehJS plotting callback run at\", now());\n",
       "      run_inline_js();\n",
       "    });\n",
       "  }\n",
       "}(window));"
      ],
      "application/vnd.bokehjs_load.v0+json": "\n(function(root) {\n  function now() {\n    return new Date();\n  }\n\n  var force = true;\n\n  if (typeof (root._bokeh_onload_callbacks) === \"undefined\" || force === true) {\n    root._bokeh_onload_callbacks = [];\n    root._bokeh_is_loading = undefined;\n  }\n\n  \n\n  \n  if (typeof (root._bokeh_timeout) === \"undefined\" || force === true) {\n    root._bokeh_timeout = Date.now() + 5000;\n    root._bokeh_failed_load = false;\n  }\n\n  var NB_LOAD_WARNING = {'data': {'text/html':\n     \"<div style='background-color: #fdd'>\\n\"+\n     \"<p>\\n\"+\n     \"BokehJS does not appear to have successfully loaded. If loading BokehJS from CDN, this \\n\"+\n     \"may be due to a slow or bad network connection. Possible fixes:\\n\"+\n     \"</p>\\n\"+\n     \"<ul>\\n\"+\n     \"<li>re-rerun `output_notebook()` to attempt to load from CDN again, or</li>\\n\"+\n     \"<li>use INLINE resources instead, as so:</li>\\n\"+\n     \"</ul>\\n\"+\n     \"<code>\\n\"+\n     \"from bokeh.resources import INLINE\\n\"+\n     \"output_notebook(resources=INLINE)\\n\"+\n     \"</code>\\n\"+\n     \"</div>\"}};\n\n  function display_loaded() {\n    var el = document.getElementById(\"1006\");\n    if (el != null) {\n      el.textContent = \"BokehJS is loading...\";\n    }\n    if (root.Bokeh !== undefined) {\n      if (el != null) {\n        el.textContent = \"BokehJS \" + root.Bokeh.version + \" successfully loaded.\";\n      }\n    } else if (Date.now() < root._bokeh_timeout) {\n      setTimeout(display_loaded, 100)\n    }\n  }\n\n\n  function run_callbacks() {\n    try {\n      root._bokeh_onload_callbacks.forEach(function(callback) { callback() });\n    }\n    finally {\n      delete root._bokeh_onload_callbacks\n    }\n    console.info(\"Bokeh: all callbacks have finished\");\n  }\n\n  function load_libs(js_urls, callback) {\n    root._bokeh_onload_callbacks.push(callback);\n    if (root._bokeh_is_loading > 0) {\n      console.log(\"Bokeh: BokehJS is being loaded, scheduling callback at\", now());\n      return null;\n    }\n    if (js_urls == null || js_urls.length === 0) {\n      run_callbacks();\n      return null;\n    }\n    console.log(\"Bokeh: BokehJS not loaded, scheduling load and callback at\", now());\n    root._bokeh_is_loading = js_urls.length;\n    for (var i = 0; i < js_urls.length; i++) {\n      var url = js_urls[i];\n      var s = document.createElement('script');\n      s.src = url;\n      s.async = false;\n      s.onreadystatechange = s.onload = function() {\n        root._bokeh_is_loading--;\n        if (root._bokeh_is_loading === 0) {\n          console.log(\"Bokeh: all BokehJS libraries loaded\");\n          run_callbacks()\n        }\n      };\n      s.onerror = function() {\n        console.warn(\"failed to load library \" + url);\n      };\n      console.log(\"Bokeh: injecting script tag for BokehJS library: \", url);\n      document.getElementsByTagName(\"head\")[0].appendChild(s);\n    }\n  };var element = document.getElementById(\"1006\");\n  if (element == null) {\n    console.log(\"Bokeh: ERROR: autoload.js configured with elementid '1006' but no matching script tag was found. \")\n    return false;\n  }\n\n  var js_urls = [\"https://cdn.pydata.org/bokeh/release/bokeh-1.0.4.min.js\", \"https://cdn.pydata.org/bokeh/release/bokeh-widgets-1.0.4.min.js\", \"https://cdn.pydata.org/bokeh/release/bokeh-tables-1.0.4.min.js\", \"https://cdn.pydata.org/bokeh/release/bokeh-gl-1.0.4.min.js\"];\n\n  var inline_js = [\n    function(Bokeh) {\n      Bokeh.set_log_level(\"info\");\n    },\n    \n    function(Bokeh) {\n      \n    },\n    function(Bokeh) {\n      console.log(\"Bokeh: injecting CSS: https://cdn.pydata.org/bokeh/release/bokeh-1.0.4.min.css\");\n      Bokeh.embed.inject_css(\"https://cdn.pydata.org/bokeh/release/bokeh-1.0.4.min.css\");\n      console.log(\"Bokeh: injecting CSS: https://cdn.pydata.org/bokeh/release/bokeh-widgets-1.0.4.min.css\");\n      Bokeh.embed.inject_css(\"https://cdn.pydata.org/bokeh/release/bokeh-widgets-1.0.4.min.css\");\n      console.log(\"Bokeh: injecting CSS: https://cdn.pydata.org/bokeh/release/bokeh-tables-1.0.4.min.css\");\n      Bokeh.embed.inject_css(\"https://cdn.pydata.org/bokeh/release/bokeh-tables-1.0.4.min.css\");\n    }\n  ];\n\n  function run_inline_js() {\n    \n    if ((root.Bokeh !== undefined) || (force === true)) {\n      for (var i = 0; i < inline_js.length; i++) {\n        inline_js[i].call(root, root.Bokeh);\n      }if (force === true) {\n        display_loaded();\n      }} else if (Date.now() < root._bokeh_timeout) {\n      setTimeout(run_inline_js, 100);\n    } else if (!root._bokeh_failed_load) {\n      console.log(\"Bokeh: BokehJS failed to load within specified timeout.\");\n      root._bokeh_failed_load = true;\n    } else if (force !== true) {\n      var cell = $(document.getElementById(\"1006\")).parents('.cell').data().cell;\n      cell.output_area.append_execute_result(NB_LOAD_WARNING)\n    }\n\n  }\n\n  if (root._bokeh_is_loading === 0) {\n    console.log(\"Bokeh: BokehJS loaded, going straight to plotting\");\n    run_inline_js();\n  } else {\n    load_libs(js_urls, function() {\n      console.log(\"Bokeh: BokehJS plotting callback run at\", now());\n      run_inline_js();\n    });\n  }\n}(window));"
     },
     "metadata": {},
     "output_type": "display_data"
    }
   ],
   "source": [
    "import pandas as pd\n",
    "import numpy as np\n",
    "import os\n",
    "from math import sin, cos, sqrt, atan2, radians, log\n",
    "import time\n",
    "import matplotlib.pyplot as plt\n",
    "import datetime\n",
    "import holidays\n",
    "import urllib        #for url stuff\n",
    "import re            #for processing regular expressions\n",
    "from sklearn.cluster import KMeans # for doing K-means clustering\n",
    "import seaborn as sns #for making plots\n",
    "import os  # for os commands\n",
    "from scipy.misc import imread, imresize, imsave  # for plots \n",
    "from bokeh.palettes import Spectral4\n",
    "from bokeh.plotting import figure, output_notebook, show\n",
    "from IPython.display import HTML\n",
    "from matplotlib.pyplot import *\n",
    "from matplotlib import cm\n",
    "from matplotlib import animation\n",
    "import io\n",
    "import base64\n",
    "import geopandas as gpd\n",
    "import shapely\n",
    "import pysal as ps\n",
    "from fiona.crs import from_epsg\n",
    "from shapely.geometry import Polygon\n",
    "import geopandas as gpd\n",
    "import geohash_hilbert as ghh\n",
    "import choroplethNYC as cp\n",
    "\n",
    "pd.set_option('display.max_columns', 500)\n",
    "#os.environ[\"GOOGLE_APPLICATION_CREDENTIALS\"]=\"E:/GitHub/NYU-Taxi-project/My First Project-b3735f3b3a9d.json\"\n",
    "os.environ[\"GOOGLE_APPLICATION_CREDENTIALS\"]=\"D:/Projects/NYC-Taxi-FHV-Project/My First Project-b3735f3b3a9d.json\"\n",
    "from google.cloud import bigquery\n",
    "client = bigquery.Client()\n",
    "\n",
    "import geopandas as gpd\n",
    "import shapely\n",
    "import pysal as ps\n",
    "from fiona.crs import from_epsg\n",
    "from shapely.geometry import Polygon\n",
    "import geopandas as gpd\n",
    "import geohash_hilbert as ghh\n",
    "import choroplethNYC as cp\n",
    "\n",
    "from sklearn.model_selection import train_test_split\n",
    "from sklearn.metrics import mean_squared_error, mean_squared_log_error, r2_score\n",
    "from sklearn.ensemble import RandomForestRegressor\n",
    "from sklearn.model_selection import GridSearchCV\n",
    "from sklearn.ensemble import RandomForestRegressor\n",
    "from sklearn.metrics import make_scorer\n",
    "import xgboost as xgb\n",
    "from sklearn.cluster import MiniBatchKMeans\n",
    "\n",
    "%matplotlib inline\n",
    "output_notebook()"
   ]
  },
  {
   "cell_type": "markdown",
   "metadata": {},
   "source": [
    "## Query Data from BigQuery"
   ]
  },
  {
   "cell_type": "code",
   "execution_count": 186,
   "metadata": {},
   "outputs": [
    {
     "name": "stdout",
     "output_type": "stream",
     "text": [
      "Time taken by above cell is 0.6590200424194336.\n"
     ]
    }
   ],
   "source": [
    "start = time.time()\n",
    "query = (\n",
    "\"\"\"\n",
    "SELECT travel_time, date_of_year, month_of_year, day_of_year, pickup_hour,\n",
    "    dropoff_datetime,pickup_datetime,\n",
    "    pickup_longitude,pickup_latitude,dropoff_longitude,dropoff_latitude,passenger_count,\n",
    "    temp,visib,mxpsd,wdsp,gust,max,min,prcp,sndp,fog,rain_drizzle,snow_ice_pellets,hail,thunder\n",
    "FROM\n",
    "(\n",
    "      SELECT *,ROW_NUMBER() OVER(partition by date_of_year, pickup_hour) as row_number\n",
    "      FROM\n",
    "      (\n",
    "            SELECT pickup_datetime, dropoff_datetime, pickup_latitude, pickup_longitude, dropoff_latitude, dropoff_longitude,\n",
    "            EXTRACT (HOUR FROM pickup_datetime) as pickup_hour,\n",
    "            EXTRACT (DAY FROM pickup_datetime) as day_of_year,\n",
    "            EXTRACT (MONTH FROM pickup_datetime) as month_of_year,\n",
    "            EXTRACT (DATE FROM pickup_datetime) as date_of_year,\n",
    "            TIMESTAMP_DIFF(TIMESTAMP(dropoff_datetime), TIMESTAMP(pickup_datetime), SECOND) as travel_time,\n",
    "            passenger_count\n",
    "            FROM `bigquery-public-data.new_york_taxi_trips.tlc_yellow_trips_2016`\n",
    "            WHERE pickup_latitude IS NOT NULL AND pickup_longitude IS NOT NULL and\n",
    "                dropoff_longitude IS NOT NULL and dropoff_latitude IS NOT NULL\n",
    "      ) x\n",
    ") x\n",
    "JOIN\n",
    "(\n",
    " select cast(mo as int64) as month,cast(da as int64) as day,temp,visib,mxpsd,wdsp,gust,max,min,prcp,sndp,fog,rain_drizzle,snow_ice_pellets,hail,thunder\n",
    " from `bigquery-public-data.noaa_gsod.gsod2016` where stn='725053'\n",
    ") y on x.month_of_year = y.month and x.day_of_year = y.day\n",
    "where x.row_number <= 30\n",
    "\"\"\"\n",
    ")\n",
    "data=pd.io.gbq.read_gbq(query,dialect='standard')\n",
    "\n",
    "end = time.time()\n",
    "print(\"Time taken by above cell is {}.\".format((end-start)/60))"
   ]
  },
  {
   "cell_type": "code",
   "execution_count": 187,
   "metadata": {},
   "outputs": [
    {
     "name": "stderr",
     "output_type": "stream",
     "text": [
      "D:\\ProgramData\\Anaconda3\\lib\\site-packages\\ipykernel_launcher.py:57: SettingWithCopyWarning: \n",
      "A value is trying to be set on a copy of a slice from a DataFrame.\n",
      "Try using .loc[row_indexer,col_indexer] = value instead\n",
      "\n",
      "See the caveats in the documentation: http://pandas.pydata.org/pandas-docs/stable/indexing.html#indexing-view-versus-copy\n"
     ]
    },
    {
     "name": "stdout",
     "output_type": "stream",
     "text": [
      "Time taken by above function is 0.39522950649261473.\n"
     ]
    }
   ],
   "source": [
    "data = feature_engineer(data)"
   ]
  },
  {
   "cell_type": "code",
   "execution_count": 190,
   "metadata": {
    "scrolled": true
   },
   "outputs": [
    {
     "name": "stdout",
     "output_type": "stream",
     "text": [
      "Time taken by above function is 0.0036366462707519533.\n"
     ]
    }
   ],
   "source": [
    "data = data_processing(data)"
   ]
  },
  {
   "cell_type": "code",
   "execution_count": 191,
   "metadata": {
    "scrolled": true
   },
   "outputs": [
    {
     "name": "stdout",
     "output_type": "stream",
     "text": [
      "Original memory usage:  77.61 MB\n",
      "After converting int and float memory usage:  15.29 MB\n",
      "Time taken by above function is 0.025387092431386312.\n"
     ]
    }
   ],
   "source": [
    "data = optimizing(data)"
   ]
  },
  {
   "cell_type": "markdown",
   "metadata": {},
   "source": [
    "## Feature Engineering"
   ]
  },
  {
   "cell_type": "code",
   "execution_count": 257,
   "metadata": {
    "scrolled": false
   },
   "outputs": [],
   "source": [
    "def haversine_(lat1, lng1, lat2, lng2):\n",
    "    \"\"\"function to calculate haversine distance between two co-ordinates\"\"\"\n",
    "    lat1, lng1, lat2, lng2 = map(np.radians, (lat1, lng1, lat2, lng2))\n",
    "    AVG_EARTH_RADIUS = 6371  # in km\n",
    "    lat = lat2 - lat1\n",
    "    lng = lng2 - lng1\n",
    "    d = np.sin(lat * 0.5) ** 2 + np.cos(lat1) * np.cos(lat2) * np.sin(lng * 0.5) ** 2\n",
    "    h = round(2 * AVG_EARTH_RADIUS * np.arcsin(np.sqrt(d)),3)\n",
    "    return(h)\n",
    "\n",
    "def manhattan_distance_pd(lat1, lng1, lat2, lng2):\n",
    "    \"\"\"function to calculate manhatten distance between pick_drop\"\"\"\n",
    "    a = haversine_(lat1, lng1, lat1, lng2)\n",
    "    b = haversine_(lat1, lng1, lat2, lng1)\n",
    "    return a + b\n",
    "\n",
    "def feature_engineer(data):\n",
    "    start = time.time()\n",
    "    \n",
    "    # create distance_in_km\n",
    "    data['distance_in_km'] = haversine_(data.pickup_latitude,data.pickup_longitude,data.dropoff_latitude,data.dropoff_longitude)\n",
    "\n",
    "    # create mahattan dist\n",
    "    data['mahattan_distance'] = manhattan_distance_pd(data.pickup_latitude,data.pickup_longitude,data.dropoff_latitude,data.dropoff_longitude)\n",
    "\n",
    "    # create bearing\n",
    "    data['bearing'] = bearing_array(data.pickup_latitude,data.pickup_longitude,data.dropoff_latitude,data.dropoff_longitude)\n",
    "\n",
    "    # create weekday\n",
    "    data[\"weekday\"] = data['pickup_datetime'].dt.dayofweek\n",
    "\n",
    "    # create holiday\n",
    "    us_holidays = holidays.UnitedStates()\n",
    "    data['holiday'] = data['date_of_year'].apply(lambda x: 1 if x in us_holidays else 0)\n",
    "    \n",
    "    # K-means clustering\n",
    "    location = data.loc[:, ['pickup_longitude', 'pickup_latitude', 'dropoff_longitude', 'dropoff_latitude']]\n",
    "    kmeans = KMeans(n_clusters=50, random_state=123, n_init = 10, n_jobs = 4).fit(location)\n",
    "    data['cluster'] = kmeans.labels_\n",
    "  \n",
    "    # create geo hash (clustering the pickup and dropoff spots)\n",
    "    pickup = []\n",
    "    dropoff = []\n",
    "    for i in range(len(data)):\n",
    "        pickup.append(ghh.encode(data.pickup_longitude.iloc[i], data.pickup_latitude.iloc[i], precision=5))\n",
    "        dropoff.append(ghh.encode(data.dropoff_longitude.iloc[i], data.dropoff_latitude.iloc[i], precision=5))\n",
    "\n",
    "    data['pickup_geo'] = pickup\n",
    "    data['dropoff_geo'] = dropoff\n",
    "    data[\"dropoff_geo_recode\"] = data[\"dropoff_geo\"].astype('category').cat.codes\n",
    "\n",
    "    a = data[['dropoff_geo','dropoff_geo_recode']]\n",
    "    df1 = data[['pickup_geo']]\n",
    "    df1['pickups'] = np.ones(df1.shape[0])\n",
    "\n",
    "    d = a.drop_duplicates()\n",
    "    data = pd.merge(data, d, how = 'left', left_on = 'pickup_geo', right_on = 'dropoff_geo')\n",
    "    data = data.drop(['dropoff_geo_y','dropoff_geo_x','pickup_geo'],axis = 1)\n",
    "    data = data.rename(columns = {'dropoff_geo_recode_x':'dropoff_geo_recode',\n",
    "                                'dropoff_geo_recode_y':'pickup_geo_recode'})\n",
    "    \n",
    "    end = time.time()\n",
    "    print(\"Time taken by above function is {}.\".format((end-start)/60))\n",
    "    \n",
    "    return(data)"
   ]
  },
  {
   "cell_type": "markdown",
   "metadata": {},
   "source": [
    "## Optimize the memory usage"
   ]
  },
  {
   "cell_type": "code",
   "execution_count": 285,
   "metadata": {},
   "outputs": [],
   "source": [
    "# Create a function to be calculating memory usage\n",
    "def get_usage(obj):\n",
    "    if isinstance(obj, pd.DataFrame):\n",
    "        usage = obj.memory_usage(deep=True).sum()\n",
    "    else:\n",
    "        usage = obj.memory_usage(deep=True)\n",
    "    return \"{:03.2f} MB\".format(usage / (1024**2))\n",
    "\n",
    "def optimizing(data):\n",
    "    start = time.time()\n",
    "        \n",
    "    # Convert object to int\n",
    "    obj = data.select_dtypes(include = 'object')\n",
    "    obj_f32 = obj.apply(pd.to_numeric, downcast='unsigned')\n",
    "\n",
    "    # Convert int64 to int8\n",
    "    obj = data.select_dtypes(include = 'int64')\n",
    "    obj_int = obj.apply(pd.to_numeric, downcast='unsigned')\n",
    "\n",
    "    # Convert float64 to float32\n",
    "    obj = data.select_dtypes(include = 'float64')\n",
    "    obj_f = obj.apply(pd.to_numeric, downcast='float')\n",
    "\n",
    "    # Calculated the memory we reduced by down grade int and float\n",
    "    print(\"Original memory usage: \", get_usage(data))\n",
    "    data[obj_f32.columns] = obj_f32\n",
    "    data[obj_int.columns] = obj_int\n",
    "    data[obj_f.columns] = obj_f\n",
    "    print(\"After converting int and float memory usage: \", get_usage(data))\n",
    "    \n",
    "    end = time.time()\n",
    "    print(\"Time taken by above function is {}.\".format((end-start)/60))\n",
    "    \n",
    "    return(data)\n"
   ]
  },
  {
   "cell_type": "code",
   "execution_count": 270,
   "metadata": {},
   "outputs": [],
   "source": [
    "def data_processing(data):\n",
    "    start = time.time()\n",
    "    \n",
    "    # refill visib using forward or backward\n",
    "    data['visib'] = data['visib'].replace(999.9, np.nan).fillna(method='ffill')\n",
    "\n",
    "    # refill mxpsd using forward or backward\n",
    "    data['mxpsd'] = data['mxpsd'].replace(999.9, np.nan).fillna(method='ffill')              \n",
    "\n",
    "    # refill wdsp using forward or backward\n",
    "    data['wdsp'] = data['wdsp'].replace(999.9, np.nan).fillna(method='ffill')              \n",
    "\n",
    "    # refill gust as 0\n",
    "    data.loc[(data['gust'] == 999.9), 'gust'] = 0\n",
    "\n",
    "    # refit sndp as 0\n",
    "    data.loc[data['sndp'] == 999.9, 'sndp'] = 0\n",
    "    \n",
    "    # remove any pickup not in the manha\n",
    "    xlim = [-74.03, -73.77]\n",
    "    ylim = [40.63, 40.85]\n",
    "    data = data[(data.pickup_longitude> xlim[0]) & (data.pickup_longitude < xlim[1])]\n",
    "    data = data[(data.dropoff_longitude> xlim[0]) & (data.dropoff_longitude < xlim[1])]\n",
    "    data = data[(data.pickup_latitude> ylim[0]) & (data.pickup_latitude < ylim[1])]\n",
    "    data = data[(data.dropoff_latitude> ylim[0]) & (data.dropoff_latitude < ylim[1])]\n",
    "    \n",
    "    # remove outlier on travel_time and distance\n",
    "    data = data[(data['distance_in_km']<50)]\n",
    "\n",
    "    end = time.time()\n",
    "    print(\"Time taken by above function is {}.\".format((end-start)/60))\n",
    "    \n",
    "    return(data)"
   ]
  },
  {
   "cell_type": "code",
   "execution_count": 115,
   "metadata": {
    "scrolled": true
   },
   "outputs": [],
   "source": [
    "selected_features = ['month_of_year', 'day_of_year', 'pickup_hour', 'pickup_longitude', 'pickup_latitude', 'dropoff_longitude', 'cluster',\n",
    "       'dropoff_latitude', 'passenger_count', 'pickup_geo_recode', 'dropoff_geo_recode', 'bearing',  'prcp', 'sndp', 'fog', 'weekday', 'holiday', 'mahattan_distance','distance_in_km']\n",
    "\n",
    "x = data[selected_features]\n",
    "y = np.log(data['travel_time'])\n",
    "\n",
    "x_train, x_test, y_train, y_test = train_test_split(x, y, test_size=0.2, random_state=2)"
   ]
  },
  {
   "cell_type": "code",
   "execution_count": 106,
   "metadata": {
    "scrolled": false
   },
   "outputs": [],
   "source": [
    "def train_test_model_performance(clf, x_train = x_train, y_train = y_train, x_test = x_test, y_test = y_test):\n",
    "    \n",
    "    # Fit a model by providing X and y from training set\n",
    "    clf.fit(x_train, y_train)\n",
    "    print(clf)\n",
    "    # Make prediction on the training data\n",
    "    y_train_pred = clf.predict(x_train)\n",
    "\n",
    "    # Make predictions on test data\n",
    "    y_test_pred = clf.predict(x_test)\n",
    "    \n",
    "    # Evaluate\n",
    "    R2_Train = clf.score(x_train,y_train)\n",
    "    R2_Test = clf.score(x_test,y_test)\n",
    "    RMSE_Train = sqrt(mean_squared_error(y_train, y_train_pred))\n",
    "    RMSE_Test = sqrt(mean_squared_error(y_test, y_test_pred))\n",
    "    RMSLE_Train = sqrt(mean_squared_log_error(y_train, y_train_pred))\n",
    "    RMSLE_Test = sqrt(mean_squared_log_error(y_test, y_test_pred))\n",
    "    \n",
    "    metric_names = ['R2','RMSE','RMSLE']\n",
    "    metric_values_train = [R2_Train, RMSE_Train, RMSLE_Train]\n",
    "    metric_values_test = [R2_Test, RMSE_Test, RMSLE_Test]\n",
    "    all_metrics = pd.DataFrame({'metrics':metric_names,\n",
    "                                'train':metric_values_train,\n",
    "                                'test':metric_values_test},columns=['metrics','train','test']).set_index('metrics')\n",
    "    print(all_metrics)"
   ]
  },
  {
   "cell_type": "markdown",
   "metadata": {},
   "source": [
    "### Random Forest"
   ]
  },
  {
   "cell_type": "code",
   "execution_count": 154,
   "metadata": {},
   "outputs": [
    {
     "name": "stdout",
     "output_type": "stream",
     "text": [
      "RandomForestRegressor(bootstrap=True, criterion='mse', max_depth=25,\n",
      "           max_features='auto', max_leaf_nodes=None,\n",
      "           min_impurity_decrease=0.0, min_impurity_split=None,\n",
      "           min_samples_leaf=1, min_samples_split=30,\n",
      "           min_weight_fraction_leaf=0.0, n_estimators=400, n_jobs=-1,\n",
      "           oob_score=False, random_state=2, verbose=0, warm_start=False)\n",
      "            train      test\n",
      "metrics                    \n",
      "R2       0.869367  0.770461\n",
      "RMSE     0.286489  0.378115\n",
      "RMSLE    0.047098  0.060944\n",
      "Time taken by above cell is 0.8060430407524108.\n"
     ]
    }
   ],
   "source": [
    "start = time.time()\n",
    "parameters = {'n_estimators': 400,\n",
    "             'max_features': 'auto',\n",
    "              'max_depth': 25,\n",
    "              'min_samples_split': 30,\n",
    "              'random_state': 2,\n",
    "              'n_jobs': -1\n",
    "              }\n",
    "\n",
    "rf = RandomForestRegressor(**parameters)\n",
    "train_test_model_performance(rf)\n",
    "\n",
    "# print(\"R2:\", round(rf.score(x_test,y_test),3))\n",
    "# print(\"MSE:\", round(mean_squared_error(y_test, rf.predict(x_test)),3))\n",
    "end = time.time()\n",
    "print(\"Time taken by above cell is {}.\".format((end-start)/60))\n",
    "\n",
    "# RandomForestRegressor(bootstrap=True, criterion='mse', max_depth=40,\n",
    "#            max_features='auto', max_leaf_nodes=None,\n",
    "#            min_impurity_decrease=0.0, min_impurity_split=None,\n",
    "#            min_samples_leaf=1, min_samples_split=30,\n",
    "#            min_weight_fraction_leaf=0.0, n_estimators=400, n_jobs=-1,\n",
    "#            oob_score=False, random_state=123, verbose=0, warm_start=False)\n",
    "# 0.88, 0.7932"
   ]
  },
  {
   "cell_type": "code",
   "execution_count": 117,
   "metadata": {
    "scrolled": false
   },
   "outputs": [
    {
     "data": {
      "image/png": "[encoded data removed]",
      "text/plain": [
       "<Figure size 432x288 with 1 Axes>"
      ]
     },
     "metadata": {},
     "output_type": "display_data"
    }
   ],
   "source": [
    "features = pd.DataFrame(list(zip(selected_features, rf.feature_importances_))).sort_values(by=[1], ascending=False)\n",
    "features.columns = ['feature', 'value']\n",
    "features.head(10)\n",
    "\n",
    "ax = features.iloc[0:10].plot.barh()\n",
    "t = np.arange(11)\n",
    "ax.set_yticks(t)\n",
    "ax.set_yticklabels(features['feature'])\n",
    "plt.show()"
   ]
  },
  {
   "cell_type": "markdown",
   "metadata": {},
   "source": [
    "### Gradient Boosting Trees"
   ]
  },
  {
   "cell_type": "code",
   "execution_count": 134,
   "metadata": {
    "scrolled": false
   },
   "outputs": [
    {
     "name": "stdout",
     "output_type": "stream",
     "text": [
      "GradientBoostingRegressor(alpha=0.9, criterion='friedman_mse', init=None,\n",
      "             learning_rate=0.2, loss='ls', max_depth=3,\n",
      "             max_features='sqrt', max_leaf_nodes=None,\n",
      "             min_impurity_decrease=0.0, min_impurity_split=None,\n",
      "             min_samples_leaf=1, min_samples_split=30,\n",
      "             min_weight_fraction_leaf=0.0, n_estimators=150,\n",
      "             n_iter_no_change=None, presort='auto', random_state=2,\n",
      "             subsample=0.7, tol=0.0001, validation_fraction=0.1, verbose=0,\n",
      "             warm_start=False)\n",
      "            train      test\n",
      "metrics                    \n",
      "R2       0.771992  0.760398\n",
      "RMSE     0.378492  0.386314\n",
      "RMSLE    0.059642  0.061817\n",
      "Time taken by above cell is 0.07544056574503581.\n"
     ]
    }
   ],
   "source": [
    "from sklearn.ensemble import GradientBoostingRegressor\n",
    "\n",
    "start = time.time()\n",
    "\n",
    "# Choose some parameter combinations to try\n",
    "parameters = {\n",
    "    'n_estimators': 150,\n",
    "    'max_depth': 3,\n",
    "    'learning_rate': 0.2,\n",
    "    'min_samples_split': 30,\n",
    "    'max_features': 'sqrt',\n",
    "    'subsample': 0.7,\n",
    "    'random_state': 2\n",
    "}\n",
    "\n",
    "GBDT = GradientBoostingRegressor(**parameters)\n",
    "train_test_model_performance(GBDT)\n",
    "\n",
    "end = time.time()\n",
    "print(\"Time taken by above cell is {}.\".format((end-start)/60))"
   ]
  },
  {
   "cell_type": "code",
   "execution_count": 135,
   "metadata": {},
   "outputs": [
    {
     "data": {
      "image/png": "[encoded data removed]",
      "text/plain": [
       "<Figure size 432x288 with 1 Axes>"
      ]
     },
     "metadata": {},
     "output_type": "display_data"
    }
   ],
   "source": [
    "features = pd.DataFrame(list(zip(selected_features, GBDT.feature_importances_))).sort_values(by=[1], ascending=False)\n",
    "features.columns = ['feature', 'value']\n",
    "features.head(10)\n",
    "\n",
    "ax = features.iloc[0:10].plot.barh()\n",
    "t = np.arange(11)\n",
    "ax.set_yticks(t)\n",
    "ax.set_yticklabels(features['feature'])\n",
    "plt.show()"
   ]
  },
  {
   "cell_type": "markdown",
   "metadata": {},
   "source": [
    "### XGB"
   ]
  },
  {
   "cell_type": "code",
   "execution_count": 136,
   "metadata": {},
   "outputs": [],
   "source": [
    "dtrain = xgb.DMatrix(x_train, label=y_train)\n",
    "dvalid = xgb.DMatrix(x_test, label=y_test)\n",
    "watchlist = [(dtrain, 'train'), (dvalid, 'valid')]"
   ]
  },
  {
   "cell_type": "code",
   "execution_count": 145,
   "metadata": {},
   "outputs": [
    {
     "name": "stdout",
     "output_type": "stream",
     "text": [
      "[0]\ttrain-rmse:5.36295\tvalid-rmse:5.36613\n",
      "Multiple eval metrics have been passed: 'valid-rmse' will be used for early stopping.\n",
      "\n",
      "Will train until valid-rmse hasn't improved in 3 rounds.\n",
      "[1]\ttrain-rmse:4.83128\tvalid-rmse:4.83425\n",
      "[2]\ttrain-rmse:4.35325\tvalid-rmse:4.35602\n",
      "[3]\ttrain-rmse:3.92348\tvalid-rmse:3.92602\n",
      "[4]\ttrain-rmse:3.53719\tvalid-rmse:3.53945\n",
      "[5]\ttrain-rmse:3.19007\tvalid-rmse:3.19211\n",
      "[6]\ttrain-rmse:2.87846\tvalid-rmse:2.88026\n",
      "[7]\ttrain-rmse:2.59901\tvalid-rmse:2.60062\n",
      "[8]\ttrain-rmse:2.34764\tvalid-rmse:2.34902\n",
      "[9]\ttrain-rmse:2.1219\tvalid-rmse:2.12309\n",
      "[10]\ttrain-rmse:1.92026\tvalid-rmse:1.92134\n",
      "[11]\ttrain-rmse:1.74066\tvalid-rmse:1.74166\n",
      "[12]\ttrain-rmse:1.57869\tvalid-rmse:1.57957\n",
      "[13]\ttrain-rmse:1.43359\tvalid-rmse:1.43434\n",
      "[14]\ttrain-rmse:1.30444\tvalid-rmse:1.3051\n",
      "[15]\ttrain-rmse:1.18963\tvalid-rmse:1.1903\n",
      "[16]\ttrain-rmse:1.08713\tvalid-rmse:1.0877\n",
      "[17]\ttrain-rmse:0.995578\tvalid-rmse:0.996102\n",
      "[18]\ttrain-rmse:0.914732\tvalid-rmse:0.915375\n",
      "[19]\ttrain-rmse:0.843647\tvalid-rmse:0.844415\n",
      "[20]\ttrain-rmse:0.780519\tvalid-rmse:0.78155\n",
      "[21]\ttrain-rmse:0.725403\tvalid-rmse:0.726534\n",
      "[22]\ttrain-rmse:0.677757\tvalid-rmse:0.678976\n",
      "[23]\ttrain-rmse:0.635354\tvalid-rmse:0.636733\n",
      "[24]\ttrain-rmse:0.59829\tvalid-rmse:0.599823\n",
      "[25]\ttrain-rmse:0.565841\tvalid-rmse:0.567657\n",
      "[26]\ttrain-rmse:0.538497\tvalid-rmse:0.540566\n",
      "[27]\ttrain-rmse:0.514248\tvalid-rmse:0.516741\n",
      "[28]\ttrain-rmse:0.493468\tvalid-rmse:0.496356\n",
      "[29]\ttrain-rmse:0.475956\tvalid-rmse:0.479517\n",
      "[30]\ttrain-rmse:0.460606\tvalid-rmse:0.464544\n",
      "[31]\ttrain-rmse:0.447299\tvalid-rmse:0.451928\n",
      "[32]\ttrain-rmse:0.435826\tvalid-rmse:0.441054\n",
      "[33]\ttrain-rmse:0.425986\tvalid-rmse:0.431558\n",
      "[34]\ttrain-rmse:0.417515\tvalid-rmse:0.423847\n",
      "[35]\ttrain-rmse:0.410014\tvalid-rmse:0.416687\n",
      "[36]\ttrain-rmse:0.404044\tvalid-rmse:0.41122\n",
      "[37]\ttrain-rmse:0.398714\tvalid-rmse:0.406498\n",
      "[38]\ttrain-rmse:0.394459\tvalid-rmse:0.402533\n",
      "[39]\ttrain-rmse:0.390048\tvalid-rmse:0.398538\n",
      "[40]\ttrain-rmse:0.386273\tvalid-rmse:0.395537\n",
      "[41]\ttrain-rmse:0.382529\tvalid-rmse:0.392293\n",
      "[42]\ttrain-rmse:0.379264\tvalid-rmse:0.389703\n",
      "[43]\ttrain-rmse:0.377055\tvalid-rmse:0.387879\n",
      "[44]\ttrain-rmse:0.374808\tvalid-rmse:0.386136\n",
      "[45]\ttrain-rmse:0.372282\tvalid-rmse:0.384098\n",
      "[46]\ttrain-rmse:0.370414\tvalid-rmse:0.382918\n",
      "[47]\ttrain-rmse:0.368834\tvalid-rmse:0.381815\n",
      "[48]\ttrain-rmse:0.367118\tvalid-rmse:0.380621\n",
      "[49]\ttrain-rmse:0.365317\tvalid-rmse:0.37928\n",
      "[50]\ttrain-rmse:0.363969\tvalid-rmse:0.378564\n",
      "[51]\ttrain-rmse:0.362438\tvalid-rmse:0.377489\n",
      "[52]\ttrain-rmse:0.361552\tvalid-rmse:0.376806\n",
      "[53]\ttrain-rmse:0.360468\tvalid-rmse:0.375947\n",
      "[54]\ttrain-rmse:0.35937\tvalid-rmse:0.374976\n",
      "[55]\ttrain-rmse:0.358427\tvalid-rmse:0.374742\n",
      "[56]\ttrain-rmse:0.357286\tvalid-rmse:0.373852\n",
      "[57]\ttrain-rmse:0.355974\tvalid-rmse:0.373282\n",
      "[58]\ttrain-rmse:0.355103\tvalid-rmse:0.372963\n",
      "[59]\ttrain-rmse:0.354042\tvalid-rmse:0.372409\n",
      "[60]\ttrain-rmse:0.353237\tvalid-rmse:0.371905\n",
      "[61]\ttrain-rmse:0.35256\tvalid-rmse:0.371593\n",
      "[62]\ttrain-rmse:0.351691\tvalid-rmse:0.371338\n",
      "[63]\ttrain-rmse:0.351149\tvalid-rmse:0.370965\n",
      "[64]\ttrain-rmse:0.350567\tvalid-rmse:0.370722\n",
      "[65]\ttrain-rmse:0.34986\tvalid-rmse:0.370512\n",
      "[66]\ttrain-rmse:0.349256\tvalid-rmse:0.370332\n",
      "[67]\ttrain-rmse:0.348598\tvalid-rmse:0.369902\n",
      "[68]\ttrain-rmse:0.347915\tvalid-rmse:0.369527\n",
      "[69]\ttrain-rmse:0.347206\tvalid-rmse:0.369267\n",
      "[70]\ttrain-rmse:0.346683\tvalid-rmse:0.369036\n",
      "[71]\ttrain-rmse:0.345846\tvalid-rmse:0.368522\n",
      "[72]\ttrain-rmse:0.345338\tvalid-rmse:0.368336\n",
      "[73]\ttrain-rmse:0.344624\tvalid-rmse:0.368076\n",
      "[74]\ttrain-rmse:0.344212\tvalid-rmse:0.367871\n",
      "[75]\ttrain-rmse:0.343833\tvalid-rmse:0.367711\n",
      "[76]\ttrain-rmse:0.343292\tvalid-rmse:0.367345\n",
      "[77]\ttrain-rmse:0.34284\tvalid-rmse:0.367249\n",
      "[78]\ttrain-rmse:0.342319\tvalid-rmse:0.367048\n",
      "[79]\ttrain-rmse:0.34178\tvalid-rmse:0.366908\n",
      "[80]\ttrain-rmse:0.341403\tvalid-rmse:0.366814\n",
      "[81]\ttrain-rmse:0.340894\tvalid-rmse:0.366615\n",
      "[82]\ttrain-rmse:0.340277\tvalid-rmse:0.366259\n",
      "[83]\ttrain-rmse:0.339588\tvalid-rmse:0.366211\n",
      "[84]\ttrain-rmse:0.339245\tvalid-rmse:0.366015\n",
      "[85]\ttrain-rmse:0.338807\tvalid-rmse:0.365757\n",
      "[86]\ttrain-rmse:0.338409\tvalid-rmse:0.365553\n",
      "[87]\ttrain-rmse:0.338087\tvalid-rmse:0.365414\n",
      "[88]\ttrain-rmse:0.337737\tvalid-rmse:0.365336\n",
      "[89]\ttrain-rmse:0.337383\tvalid-rmse:0.365212\n",
      "[90]\ttrain-rmse:0.336881\tvalid-rmse:0.365083\n",
      "[91]\ttrain-rmse:0.336464\tvalid-rmse:0.364875\n",
      "[92]\ttrain-rmse:0.336243\tvalid-rmse:0.364829\n",
      "[93]\ttrain-rmse:0.335597\tvalid-rmse:0.364629\n",
      "[94]\ttrain-rmse:0.335105\tvalid-rmse:0.364601\n",
      "[95]\ttrain-rmse:0.334762\tvalid-rmse:0.364633\n",
      "[96]\ttrain-rmse:0.334477\tvalid-rmse:0.364653\n",
      "[97]\ttrain-rmse:0.334103\tvalid-rmse:0.36457\n",
      "[98]\ttrain-rmse:0.333575\tvalid-rmse:0.364185\n",
      "[99]\ttrain-rmse:0.333201\tvalid-rmse:0.363993\n",
      "[100]\ttrain-rmse:0.332772\tvalid-rmse:0.364049\n",
      "[101]\ttrain-rmse:0.332397\tvalid-rmse:0.36409\n",
      "[102]\ttrain-rmse:0.331991\tvalid-rmse:0.364107\n",
      "Stopping. Best iteration:\n",
      "[99]\ttrain-rmse:0.333201\tvalid-rmse:0.363993\n",
      "\n",
      "Modeling RMSE 0.35249\n"
     ]
    }
   ],
   "source": [
    "xgb_pars = {'min_child_weight': 15, 'eta': 0.1, 'colsample_bytree': 0.7,\n",
    "            'max_depth': 10, 'subsample': 0.7, 'alpha': 8, 'lambda':1, 'nthread': -1, 'booster': 'gbtree', 'silent': 1,\n",
    "            'eval_metric': 'rmse', 'objective': 'reg:linear'}\n",
    "xgb_model = xgb.train(xgb_pars, dtrain, 150, watchlist, early_stopping_rounds=3,\n",
    "      maximize=False, verbose_eval=1)\n",
    "print('Modeling RMSE %.5f' % model.best_score)"
   ]
  },
  {
   "cell_type": "code",
   "execution_count": 146,
   "metadata": {},
   "outputs": [
    {
     "name": "stdout",
     "output_type": "stream",
     "text": [
      "r2: 0.7199741173275164\n",
      "rmse: 0.3641071824452361\n",
      "r2: 0.7733727655106551\n"
     ]
    },
    {
     "data": {
      "image/png": "[encoded data removed]",
      "text/plain": [
       "<Figure size 432x288 with 1 Axes>"
      ]
     },
     "metadata": {
      "needs_background": "light"
     },
     "output_type": "display_data"
    }
   ],
   "source": [
    "xgb.plot_importance(xgb_model, max_num_features=28, height=0.5)\n",
    "\n",
    "pred = xgb_model.predict(dvalid)\n",
    "print(\"r2:\", r2_score(pred, y_test))\n",
    "print(\"rmse:\",sqrt(mean_squared_error(pred,y_test)))\n",
    "print(\"r2:\", r2_score(xgb_model.predict(dtrain), y_train))"
   ]
  },
  {
   "cell_type": "markdown",
   "metadata": {},
   "source": [
    "### HyperParameter Tuning: Grid Search"
   ]
  },
  {
   "cell_type": "code",
   "execution_count": 148,
   "metadata": {},
   "outputs": [],
   "source": [
    "def cv_model_performance(clf, x_train = x_train, y_train = y_train, x_test = x_test, y_test = y_test):\n",
    "    \n",
    "    # Fit a model by providing X and y from training set\n",
    "    clf.fit(x_train, y_train)\n",
    "    model = clf.best_estimator_\n",
    "    print(model)\n",
    "    \n",
    "    # Make prediction on the training data\n",
    "    y_train_pred = model.predict(x_train)\n",
    "\n",
    "    # Make predictions on test data\n",
    "    y_test_pred = model.predict(x_test)\n",
    "    \n",
    "    # Evaluate\n",
    "    R2_Train = model.score(x_train,y_train)\n",
    "    R2_Test = model.score(x_test,y_test)\n",
    "    RMSE_Train = sqrt(mean_squared_error(y_train, y_train_pred))\n",
    "    RMSE_Test = sqrt(mean_squared_error(y_test, y_test_pred))\n",
    "    RMSLE_Train = sqrt(mean_squared_log_error(y_train, y_train_pred))\n",
    "    RMSLE_Test = sqrt(mean_squared_log_error(y_test, y_test_pred))\n",
    "    \n",
    "    metric_names = ['R2','RMSE','RMSLE']\n",
    "    metric_values_train = [R2_Train, RMSE_Train, RMSLE_Train]\n",
    "    metric_values_test = [R2_Test, RMSE_Test, RMSLE_Test]\n",
    "    all_metrics = pd.DataFrame({'metrics':metric_names,\n",
    "                                'train':metric_values_train,\n",
    "                                'test':metric_values_test},columns=['metrics','train','test']).set_index('metrics')\n",
    "    print(all_metrics)"
   ]
  },
  {
   "cell_type": "markdown",
   "metadata": {},
   "source": [
    "### RF"
   ]
  },
  {
   "cell_type": "code",
   "execution_count": 151,
   "metadata": {},
   "outputs": [
    {
     "name": "stdout",
     "output_type": "stream",
     "text": [
      "Fitting 3 folds for each of 18 candidates, totalling 54 fits\n"
     ]
    },
    {
     "name": "stderr",
     "output_type": "stream",
     "text": [
      "[Parallel(n_jobs=8)]: Using backend LokyBackend with 8 concurrent workers.\n",
      "[Parallel(n_jobs=8)]: Done   2 tasks      | elapsed:  3.1min\n",
      "[Parallel(n_jobs=8)]: Done   9 tasks      | elapsed:  5.8min\n",
      "[Parallel(n_jobs=8)]: Done  16 tasks      | elapsed:  9.2min\n",
      "[Parallel(n_jobs=8)]: Done  25 tasks      | elapsed: 13.2min\n",
      "[Parallel(n_jobs=8)]: Done  34 tasks      | elapsed: 17.6min\n",
      "[Parallel(n_jobs=8)]: Done  45 out of  54 | elapsed: 22.2min remaining:  4.4min\n",
      "[Parallel(n_jobs=8)]: Done  51 out of  54 | elapsed: 24.4min remaining:  1.4min\n",
      "[Parallel(n_jobs=8)]: Done  54 out of  54 | elapsed: 24.9min finished\n"
     ]
    },
    {
     "name": "stdout",
     "output_type": "stream",
     "text": [
      "RandomForestRegressor(bootstrap=True, criterion='mse', max_depth=25,\n",
      "           max_features='auto', max_leaf_nodes=None,\n",
      "           min_impurity_decrease=0.0, min_impurity_split=None,\n",
      "           min_samples_leaf=1, min_samples_split=30,\n",
      "           min_weight_fraction_leaf=0.0, n_estimators=400, n_jobs=-1,\n",
      "           oob_score=False, random_state=None, verbose=0, warm_start=False)\n",
      "            train      test\n",
      "metrics                    \n",
      "R2       0.869569  0.770772\n",
      "RMSE     0.286267  0.377859\n",
      "RMSLE    0.047125  0.060906\n",
      "Time taken by above cell is 25.72108042637507.\n"
     ]
    }
   ],
   "source": [
    "start = time.time()\n",
    "\n",
    "# Choose the type of classifier. \n",
    "rf = RandomForestRegressor()\n",
    "\n",
    "# Choose some parameter combinations to try\n",
    "param_grid = {'n_estimators': [300,400,500], \n",
    "              'max_features': ['auto'], \n",
    "              'max_depth': [25,30,35], \n",
    "              'min_samples_split': [30,40],\n",
    "              'n_jobs':[-1]\n",
    "             }\n",
    "\n",
    "# read theory\n",
    "grid_obj = GridSearchCV(rf, param_grid, cv=3, n_jobs = 8, iid=False, verbose=10, scoring='r2')\n",
    "cv_model_performance(grid_obj)\n",
    "\n",
    "end = time.time()\n",
    "print(\"Time taken by above cell is {}.\".format((end-start)/60))"
   ]
  },
  {
   "cell_type": "markdown",
   "metadata": {},
   "source": [
    "### GBDT"
   ]
  },
  {
   "cell_type": "code",
   "execution_count": 156,
   "metadata": {},
   "outputs": [
    {
     "name": "stdout",
     "output_type": "stream",
     "text": [
      "Fitting 3 folds for each of 243 candidates, totalling 729 fits\n"
     ]
    },
    {
     "name": "stderr",
     "output_type": "stream",
     "text": [
      "[Parallel(n_jobs=8)]: Using backend LokyBackend with 8 concurrent workers.\n",
      "[Parallel(n_jobs=8)]: Done   2 tasks      | elapsed:    9.6s\n",
      "[Parallel(n_jobs=8)]: Done   9 tasks      | elapsed:   19.3s\n",
      "[Parallel(n_jobs=8)]: Done  16 tasks      | elapsed:   24.8s\n",
      "[Parallel(n_jobs=8)]: Done  25 tasks      | elapsed:   41.1s\n",
      "[Parallel(n_jobs=8)]: Done  34 tasks      | elapsed:   51.9s\n",
      "[Parallel(n_jobs=8)]: Done  45 tasks      | elapsed:  1.1min\n",
      "[Parallel(n_jobs=8)]: Done  56 tasks      | elapsed:  1.4min\n",
      "[Parallel(n_jobs=8)]: Done  69 tasks      | elapsed:  1.7min\n",
      "[Parallel(n_jobs=8)]: Done  82 tasks      | elapsed:  2.0min\n",
      "[Parallel(n_jobs=8)]: Done  97 tasks      | elapsed:  2.5min\n",
      "[Parallel(n_jobs=8)]: Done 112 tasks      | elapsed:  3.0min\n",
      "[Parallel(n_jobs=8)]: Done 129 tasks      | elapsed:  3.5min\n",
      "[Parallel(n_jobs=8)]: Done 146 tasks      | elapsed:  4.0min\n",
      "[Parallel(n_jobs=8)]: Done 165 tasks      | elapsed:  4.7min\n",
      "[Parallel(n_jobs=8)]: Done 184 tasks      | elapsed:  5.5min\n",
      "[Parallel(n_jobs=8)]: Done 205 tasks      | elapsed:  6.4min\n",
      "[Parallel(n_jobs=8)]: Done 226 tasks      | elapsed:  7.1min\n",
      "[Parallel(n_jobs=8)]: Done 249 tasks      | elapsed:  8.1min\n",
      "[Parallel(n_jobs=8)]: Done 272 tasks      | elapsed:  9.1min\n",
      "[Parallel(n_jobs=8)]: Done 297 tasks      | elapsed: 10.2min\n",
      "[Parallel(n_jobs=8)]: Done 322 tasks      | elapsed: 11.3min\n",
      "[Parallel(n_jobs=8)]: Done 349 tasks      | elapsed: 12.9min\n",
      "[Parallel(n_jobs=8)]: Done 376 tasks      | elapsed: 14.4min\n",
      "[Parallel(n_jobs=8)]: Done 405 tasks      | elapsed: 16.1min\n",
      "[Parallel(n_jobs=8)]: Done 434 tasks      | elapsed: 18.1min\n",
      "[Parallel(n_jobs=8)]: Done 465 tasks      | elapsed: 20.4min\n",
      "[Parallel(n_jobs=8)]: Done 496 tasks      | elapsed: 22.7min\n",
      "[Parallel(n_jobs=8)]: Done 529 tasks      | elapsed: 25.8min\n",
      "[Parallel(n_jobs=8)]: Done 562 tasks      | elapsed: 28.8min\n",
      "[Parallel(n_jobs=8)]: Done 597 tasks      | elapsed: 32.9min\n",
      "[Parallel(n_jobs=8)]: Done 632 tasks      | elapsed: 37.0min\n",
      "[Parallel(n_jobs=8)]: Done 669 tasks      | elapsed: 42.5min\n",
      "[Parallel(n_jobs=8)]: Done 706 tasks      | elapsed: 48.1min\n",
      "[Parallel(n_jobs=8)]: Done 729 out of 729 | elapsed: 51.3min finished\n"
     ]
    },
    {
     "name": "stdout",
     "output_type": "stream",
     "text": [
      "GradientBoostingRegressor(alpha=0.9, criterion='friedman_mse', init=None,\n",
      "             learning_rate=0.2, loss='ls', max_depth=8, max_features=0.5,\n",
      "             max_leaf_nodes=None, min_impurity_decrease=0.0,\n",
      "             min_impurity_split=None, min_samples_leaf=1,\n",
      "             min_samples_split=30, min_weight_fraction_leaf=0.0,\n",
      "             n_estimators=120, n_iter_no_change=None, presort='auto',\n",
      "             random_state=None, subsample=0.9, tol=0.0001,\n",
      "             validation_fraction=0.1, verbose=0, warm_start=False)\n",
      "            train      test\n",
      "metrics                    \n",
      "R2       0.878998  0.779607\n",
      "RMSE     0.275725  0.370505\n",
      "RMSLE    0.040018  0.060983\n",
      "Time taken by above cell is 51.78913680315018.\n"
     ]
    }
   ],
   "source": [
    "start = time.time()\n",
    "GBDT = GradientBoostingRegressor()\n",
    "\n",
    "# Choose some parameter combinations to try\n",
    "param_grid = {'n_estimators': [120, 150, 170], \n",
    "              'max_depth': [3, 5, 8], \n",
    "              'learning_rate': [0.2],\n",
    "              'min_samples_split': [20,30,40],\n",
    "              'max_features': [0.5,0.7,0.9],\n",
    "              'subsample':[0.5,0.7,0.9],\n",
    "             }\n",
    "\n",
    "# read theory\n",
    "grid_obj = GridSearchCV(GBDT, param_grid, cv=3, n_jobs=8, iid=False, verbose=10, scoring='r2')\n",
    "cv_model_performance(grid_obj)\n",
    "\n",
    "# print(\"R2: \", round(GBDT_cv.score(x_test,y_test),4))\n",
    "# print(\"MSE:\", round(mean_squared_error(y_test, GBDT_cv.predict(x_test)),4))\n",
    "\n",
    "end = time.time()\n",
    "print(\"Time taken by above cell is {}.\".format((end-start)/60))"
   ]
  },
  {
   "cell_type": "markdown",
   "metadata": {},
   "source": [
    "## Testing"
   ]
  },
  {
   "cell_type": "code",
   "execution_count": 281,
   "metadata": {},
   "outputs": [],
   "source": [
    "taxi = pd.read_csv(\"./Data/APM4990_final_test_data_filtered.csv\")\n",
    "weather_2015 = pd.read_csv(\"./Data/weather_2015_cleaned.csv\")"
   ]
  },
  {
   "cell_type": "code",
   "execution_count": 282,
   "metadata": {
    "scrolled": false
   },
   "outputs": [],
   "source": [
    "def pre_processing(data, weather):\n",
    "    weather = weather[['day', 'month', 'prcp', 'sndp', 'fog', 'visib', 'mxpsd', 'wdsp','gust']]\n",
    "    data['pickup_datetime'] = pd.to_datetime(data['pickup_datetime'])\n",
    "    data['date_of_year'] = pd.to_datetime(data['pickup_datetime'].dt.date)\n",
    "    data['month_of_year'] = data['pickup_datetime'].dt.month\n",
    "    data['pickup_hour'] = data['pickup_datetime'].dt.hour\n",
    "    data['day_of_year'] = data['pickup_datetime'].dt.day\n",
    "    data = pd.merge(data, weather, how = 'inner', left_on = ['day_of_year','month_of_year'], right_on = ['day','month'])\n",
    "    return(data)"
   ]
  },
  {
   "cell_type": "code",
   "execution_count": 283,
   "metadata": {},
   "outputs": [],
   "source": [
    "test = pre_processing(taxi, weather_2015)"
   ]
  },
  {
   "cell_type": "code",
   "execution_count": 284,
   "metadata": {
    "scrolled": false
   },
   "outputs": [
    {
     "name": "stderr",
     "output_type": "stream",
     "text": [
      "D:\\ProgramData\\Anaconda3\\lib\\site-packages\\ipykernel_launcher.py:54: SettingWithCopyWarning: \n",
      "A value is trying to be set on a copy of a slice from a DataFrame.\n",
      "Try using .loc[row_indexer,col_indexer] = value instead\n",
      "\n",
      "See the caveats in the documentation: http://pandas.pydata.org/pandas-docs/stable/indexing.html#indexing-view-versus-copy\n"
     ]
    },
    {
     "name": "stdout",
     "output_type": "stream",
     "text": [
      "Time taken by above function is 2.622085515658061.\n"
     ]
    }
   ],
   "source": [
    "test = feature_engineer(test)"
   ]
  },
  {
   "cell_type": "code",
   "execution_count": 271,
   "metadata": {
    "scrolled": true
   },
   "outputs": [
    {
     "name": "stdout",
     "output_type": "stream",
     "text": [
      "Time taken by above function is 0.009748061498006185.\n"
     ]
    }
   ],
   "source": [
    "test = data_processing(test)"
   ]
  },
  {
   "cell_type": "code",
   "execution_count": 287,
   "metadata": {
    "scrolled": true
   },
   "outputs": [
    {
     "name": "stdout",
     "output_type": "stream",
     "text": [
      "Original memory usage:  141.65 MB\n",
      "After converting int and float memory usage:  62.88 MB\n",
      "Time taken by above function is 0.008898170789082845.\n"
     ]
    }
   ],
   "source": [
    "test = optimizing(test)"
   ]
  },
  {
   "cell_type": "code",
   "execution_count": 291,
   "metadata": {},
   "outputs": [],
   "source": [
    "selected_features = ['month_of_year', 'day_of_year', 'pickup_hour', 'pickup_longitude', 'pickup_latitude', 'dropoff_longitude', 'cluster',\n",
    "       'dropoff_latitude', 'passenger_count', 'pickup_geo_recode', 'dropoff_geo_recode', 'bearing',  'prcp', 'sndp', 'fog', 'weekday', 'holiday', 'mahattan_distance','distance_in_km']\n"
   ]
  }
 ],
 "metadata": {
  "kernelspec": {
   "display_name": "Python 3",
   "language": "python",
   "name": "python3"
  },
  "language_info": {
   "codemirror_mode": {
    "name": "ipython",
    "version": 3
   },
   "file_extension": ".py",
   "mimetype": "text/x-python",
   "name": "python",
   "nbconvert_exporter": "python",
   "pygments_lexer": "ipython3",
   "version": "3.7.3"
  }
 },
 "nbformat": 4,
 "nbformat_minor": 2
}
