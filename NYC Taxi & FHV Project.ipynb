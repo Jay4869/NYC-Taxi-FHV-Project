{
 "cells": [
  {
   "cell_type": "markdown",
   "metadata": {},
   "source": [
    "# NYC-Taxi-FHV-Project\n"
   ]
  },
  {
   "cell_type": "code",
   "execution_count": 1,
   "metadata": {},
   "outputs": [
    {
     "name": "stderr",
     "output_type": "stream",
     "text": [
      "E:\\Program Files\\Anaconda3\\lib\\site-packages\\pysal\\model\\spvcm\\abstracts.py:10: UserWarning: The `dill` module is required to use the sqlite backend fully.\n",
      "  from .sqlite import head_to_sql, start_sql\n",
      "E:\\Program Files\\Anaconda3\\lib\\site-packages\\sklearn\\ensemble\\weight_boosting.py:29: DeprecationWarning: numpy.core.umath_tests is an internal NumPy module and should not be imported. It will be removed in a future NumPy release.\n",
      "  from numpy.core.umath_tests import inner1d\n"
     ]
    }
   ],
   "source": [
    "import pandas as pd #DataFrame\n",
    "import numpy as np #For array\n",
    "import os #for os commands\n",
    "from math import sin, cos, sqrt, atan2, radians, log #For calculation\n",
    "import time           #to get the system time\n",
    "import datetime       #for datetime operations\n",
    "import holidays       #For extract date time of holidays\n",
    "import calendar       #For calendar for datetime operations\n",
    "\n",
    "\n",
    "pd.set_option('display.max_columns', 500)\n",
    "os.environ[\"GOOGLE_APPLICATION_CREDENTIALS\"]=\"E:/GitHub/NYU-Taxi-project/My First Project-b3735f3b3a9d.json\"\n",
    "#os.environ[\"GOOGLE_APPLICATION_CREDENTIALS\"]=\"./My Project 14295-223aab171173.json\"\n",
    "from google.cloud import bigquery\n",
    "client = bigquery.Client()\n",
    "\n",
    "#For geospatial data\n",
    "import geopandas as gpd   #For geospatial data\n",
    "import shapely\n",
    "import pysal as ps\n",
    "from fiona.crs import from_epsg\n",
    "from shapely.geometry import Polygon\n",
    "import geohash_hilbert as ghh # For geohash code\n",
    "#import choroplethNYC as cp #For taxi zone map\n",
    "\n",
    "#For machine learning models\n",
    "import sklearn\n",
    "from sklearn.linear_model import LinearRegression, Ridge,BayesianRidge #For lasso and ridge\n",
    "from sklearn.model_selection import train_test_split\n",
    "from sklearn.model_selection import GridSearchCV\n",
    "from sklearn.metrics import mean_squared_error, mean_squared_log_error, r2_score, make_scorer\n",
    "from sklearn.ensemble import RandomForestRegressor\n",
    "from sklearn.ensemble import GradientBoostingRegressor\n",
    "from sklearn.cluster import MiniBatchKMeans\n",
    "from sklearn.cluster import KMeans\n",
    "from sklearn.neighbors import KNeighborsClassifier\n",
    "import xgboost as xgb\n",
    "\n",
    "#For visualization purpose\n",
    "from scipy.misc import imread, imresize, imsave \n",
    "from pandas.plotting import scatter_matrix\n",
    "import scipy         #for other dependancies\n",
    "import seaborn as sns #for making plots\n",
    "from scipy.misc import imread, imresize, imsave  \n",
    "from bokeh.palettes import Spectral4\n",
    "from bokeh.plotting import figure, output_notebook, show\n",
    "from IPython.display import HTML\n",
    "from matplotlib.pyplot import *\n",
    "from matplotlib import cm\n",
    "from matplotlib import animation\n",
    "from scipy.misc import imread, imresize, imsave  \n",
    "import matplotlib.pyplot as plt\n",
    "%matplotlib inline\n",
    "\n",
    "plt.style.use('seaborn')"
   ]
  },
  {
   "cell_type": "markdown",
   "metadata": {},
   "source": [
    "## 1. Data Processing"
   ]
  },
  {
   "cell_type": "markdown",
   "metadata": {},
   "source": [
    "### 1.1 Query Data from BigQuery"
   ]
  },
  {
   "cell_type": "code",
   "execution_count": 2,
   "metadata": {
    "scrolled": true
   },
   "outputs": [
    {
     "name": "stdout",
     "output_type": "stream",
     "text": [
      "Time taken by above cell is 9.79 mins.\n"
     ]
    }
   ],
   "source": [
    "start = time.time()\n",
    "query = (\n",
    "\"\"\"\n",
    "SELECT x.travel_time, x.date, x.month, x.day, pickup_hour, pickup_datetime, dropoff_datetime,\n",
    "    pickup_longitude, pickup_latitude, dropoff_longitude, dropoff_latitude,passenger_count,\n",
    "    temp,visib,mxpsd,wdsp,gust,max,min,prcp,sndp,fog,rain_drizzle,snow_ice_pellets,hail,thunder\n",
    "FROM\n",
    "(\n",
    "      SELECT *,ROW_NUMBER() OVER(partition by date, pickup_hour) as row_number\n",
    "      FROM\n",
    "      (\n",
    "            SELECT pickup_datetime, dropoff_datetime, pickup_latitude, pickup_longitude, dropoff_latitude, dropoff_longitude,\n",
    "            EXTRACT (HOUR FROM pickup_datetime) as pickup_hour,\n",
    "            EXTRACT (DAY FROM pickup_datetime) as day,\n",
    "            EXTRACT (MONTH FROM pickup_datetime) as month,\n",
    "            EXTRACT (DATE FROM pickup_datetime) as date,\n",
    "            TIMESTAMP_DIFF(TIMESTAMP(dropoff_datetime), TIMESTAMP(pickup_datetime), SECOND) as travel_time,\n",
    "            passenger_count\n",
    "            FROM `bigquery-public-data.new_york_taxi_trips.tlc_yellow_trips_2016`\n",
    "            WHERE pickup_latitude IS NOT NULL AND pickup_longitude IS NOT NULL and\n",
    "                dropoff_longitude IS NOT NULL and dropoff_latitude IS NOT NULL\n",
    "      ) x\n",
    "      where x.travel_time >0\n",
    ") x\n",
    "JOIN\n",
    "(\n",
    " select cast(mo as int64) as month,cast(da as int64) as day,temp,visib,mxpsd,wdsp,gust,max,min,prcp,sndp,fog,rain_drizzle,snow_ice_pellets,hail,thunder\n",
    " from `bigquery-public-data.noaa_gsod.gsod2016` where stn='725053'\n",
    ") y on x.month = y.month and x.day = y.day\n",
    "where x.row_number <= 400\n",
    "\"\"\"\n",
    ")\n",
    "data = pd.io.gbq.read_gbq(query,dialect='standard')\n",
    "       \n",
    "end = time.time()\n",
    "print(\"Time taken by above cell is {} mins.\".format(round((end-start)/60,2)))"
   ]
  },
  {
   "cell_type": "markdown",
   "metadata": {},
   "source": [
    "### 1.1.1 Define Trip Distance"
   ]
  },
  {
   "cell_type": "code",
   "execution_count": 3,
   "metadata": {},
   "outputs": [],
   "source": [
    "# great circle distance\n",
    "def haversine_(lat1, lng1, lat2, lng2):\n",
    "    \"\"\"calculate haversine distance between two co-ordinates\"\"\"\n",
    "    lat1, lng1, lat2, lng2 = map(np.radians, (lat1, lng1, lat2, lng2))\n",
    "    AVG_EARTH_RADIUS = 6371  # in km\n",
    "    lat = lat2 - lat1\n",
    "    lng = lng2 - lng1\n",
    "    d = np.sin(lat * 0.5) ** 2 + np.cos(lat1) * np.cos(lat2) * np.sin(lng * 0.5) ** 2\n",
    "    h = 2 * AVG_EARTH_RADIUS * np.arcsin(np.sqrt(d))\n",
    "    return(h)\n",
    "\n",
    "# manhattan distance\n",
    "def manhattan_distance_pd(lat1, lng1, lat2, lng2):\n",
    "    \"\"\"calculate manhatten distance between pick_drop\"\"\"\n",
    "    a = haversine_(lat1, lng1, lat1, lng2)\n",
    "    b = haversine_(lat1, lng1, lat2, lng1)\n",
    "    return a + b\n",
    "\n",
    "data['haversine_distance'] = round(haversine_(data.pickup_latitude,data.pickup_longitude,data.dropoff_latitude,data.dropoff_longitude),3)\n",
    "data['manhattan_distance'] = round(manhattan_distance_pd(data.pickup_latitude,data.pickup_longitude,data.dropoff_latitude,data.dropoff_longitude),3)"
   ]
  },
  {
   "cell_type": "markdown",
   "metadata": {},
   "source": [
    "### 1.2 Remove Outlier"
   ]
  },
  {
   "cell_type": "markdown",
   "metadata": {},
   "source": [
    "###  1.2.1 Remove Short & Large Distance"
   ]
  },
  {
   "cell_type": "markdown",
   "metadata": {},
   "source": [
    "#### Some passengers get on taxi then get off immediately, so the time and distance is near zero. Many rows do have zero for pickup or drop off location or almost same location for pick up and drop off. \n",
    "\n",
    "#### Therefore, we are only considered the travel time is at least 60 second and no longer than 5 hours. And, we investage on the distance between 0 and 50 miles"
   ]
  },
  {
   "cell_type": "code",
   "execution_count": 4,
   "metadata": {
    "scrolled": false
   },
   "outputs": [
    {
     "data": {
      "text/plain": [
       "<matplotlib.axes._subplots.AxesSubplot at 0xe9b8f1fc50>"
      ]
     },
     "execution_count": 4,
     "metadata": {},
     "output_type": "execute_result"
    },
    {
     "data": {
      "image/png": "[encoded data removed]",
      "text/plain": [
       "<Figure size 432x288 with 1 Axes>"
      ]
     },
     "metadata": {
      "needs_background": "light"
     },
     "output_type": "display_data"
    }
   ],
   "source": [
    "data.plot(x='haversine_distance',y='travel_time',kind='scatter')"
   ]
  },
  {
   "cell_type": "code",
   "execution_count": 6,
   "metadata": {},
   "outputs": [
    {
     "data": {
      "text/html": [
       "<div>\n",
       "<style scoped>\n",
       "    .dataframe tbody tr th:only-of-type {\n",
       "        vertical-align: middle;\n",
       "    }\n",
       "\n",
       "    .dataframe tbody tr th {\n",
       "        vertical-align: top;\n",
       "    }\n",
       "\n",
       "    .dataframe thead th {\n",
       "        text-align: right;\n",
       "    }\n",
       "</style>\n",
       "<table border=\"1\" class=\"dataframe\">\n",
       "  <thead>\n",
       "    <tr style=\"text-align: right;\">\n",
       "      <th></th>\n",
       "      <th>travel_time</th>\n",
       "      <th>haversine_distance</th>\n",
       "    </tr>\n",
       "  </thead>\n",
       "  <tbody>\n",
       "    <tr>\n",
       "      <th>463</th>\n",
       "      <td>5</td>\n",
       "      <td>0.0</td>\n",
       "    </tr>\n",
       "    <tr>\n",
       "      <th>1430</th>\n",
       "      <td>25</td>\n",
       "      <td>0.0</td>\n",
       "    </tr>\n",
       "    <tr>\n",
       "      <th>1620</th>\n",
       "      <td>23</td>\n",
       "      <td>0.0</td>\n",
       "    </tr>\n",
       "    <tr>\n",
       "      <th>2514</th>\n",
       "      <td>28</td>\n",
       "      <td>0.0</td>\n",
       "    </tr>\n",
       "    <tr>\n",
       "      <th>2854</th>\n",
       "      <td>19</td>\n",
       "      <td>0.0</td>\n",
       "    </tr>\n",
       "    <tr>\n",
       "      <th>2874</th>\n",
       "      <td>31</td>\n",
       "      <td>0.0</td>\n",
       "    </tr>\n",
       "    <tr>\n",
       "      <th>3010</th>\n",
       "      <td>7</td>\n",
       "      <td>0.0</td>\n",
       "    </tr>\n",
       "    <tr>\n",
       "      <th>3514</th>\n",
       "      <td>3</td>\n",
       "      <td>0.0</td>\n",
       "    </tr>\n",
       "    <tr>\n",
       "      <th>3813</th>\n",
       "      <td>3</td>\n",
       "      <td>0.0</td>\n",
       "    </tr>\n",
       "    <tr>\n",
       "      <th>4328</th>\n",
       "      <td>4</td>\n",
       "      <td>0.0</td>\n",
       "    </tr>\n",
       "  </tbody>\n",
       "</table>\n",
       "</div>"
      ],
      "text/plain": [
       "      travel_time  haversine_distance\n",
       "463             5                 0.0\n",
       "1430           25                 0.0\n",
       "1620           23                 0.0\n",
       "2514           28                 0.0\n",
       "2854           19                 0.0\n",
       "2874           31                 0.0\n",
       "3010            7                 0.0\n",
       "3514            3                 0.0\n",
       "3813            3                 0.0\n",
       "4328            4                 0.0"
      ]
     },
     "execution_count": 6,
     "metadata": {},
     "output_type": "execute_result"
    }
   ],
   "source": [
    "data.loc[(data.haversine_distance == 0) & (data.travel_time <= 60), ['travel_time', 'haversine_distance']].head(10)"
   ]
  },
  {
   "cell_type": "code",
   "execution_count": 7,
   "metadata": {},
   "outputs": [],
   "source": [
    "data = data.loc[(data['haversine_distance'] > 0.5) & (data['haversine_distance']<50)]"
   ]
  },
  {
   "cell_type": "markdown",
   "metadata": {},
   "source": [
    "###  1.2.2 Remove Short & Large Trip Time"
   ]
  },
  {
   "cell_type": "markdown",
   "metadata": {},
   "source": [
    "#### In NYC"
   ]
  },
  {
   "cell_type": "code",
   "execution_count": 8,
   "metadata": {},
   "outputs": [
    {
     "data": {
      "text/plain": [
       "<matplotlib.axes._subplots.AxesSubplot at 0xe9c84edb00>"
      ]
     },
     "execution_count": 8,
     "metadata": {},
     "output_type": "execute_result"
    },
    {
     "data": {
      "image/png": "[encoded data removed]",
      "text/plain": [
       "<Figure size 432x288 with 1 Axes>"
      ]
     },
     "metadata": {
      "needs_background": "light"
     },
     "output_type": "display_data"
    }
   ],
   "source": [
    "data = data.loc[(data['travel_time'] > 60) & (data['travel_time'] < 20000)]\n",
    "data.plot(x='haversine_distance',y='travel_time',kind='scatter')"
   ]
  },
  {
   "cell_type": "markdown",
   "metadata": {},
   "source": [
    "### 1.2.3 Clean GPS Coordinates"
   ]
  },
  {
   "cell_type": "code",
   "execution_count": 9,
   "metadata": {},
   "outputs": [],
   "source": [
    "# clean any pickup not in the NYC\n",
    "xlim = [-74.03, -73.77]\n",
    "ylim = [40.63, 40.85]\n",
    "data = data[(data.pickup_longitude> xlim[0]) & (data.pickup_longitude < xlim[1])]\n",
    "data = data[(data.dropoff_longitude> xlim[0]) & (data.dropoff_longitude < xlim[1])]\n",
    "data = data[(data.pickup_latitude> ylim[0]) & (data.pickup_latitude < ylim[1])]\n",
    "data = data[(data.dropoff_latitude> ylim[0]) & (data.dropoff_latitude < ylim[1])]"
   ]
  },
  {
   "cell_type": "markdown",
   "metadata": {},
   "source": [
    "### 1.2.4 Remove No Passenger Trip"
   ]
  },
  {
   "cell_type": "code",
   "execution_count": 10,
   "metadata": {},
   "outputs": [],
   "source": [
    "data = data.loc[data.passenger_count > 0]"
   ]
  },
  {
   "cell_type": "markdown",
   "metadata": {},
   "source": [
    "### 1.2.5 Clean Weather Data"
   ]
  },
  {
   "cell_type": "code",
   "execution_count": 11,
   "metadata": {},
   "outputs": [],
   "source": [
    "# refill visib using forward or backward\n",
    "data['visib'] = data['visib'].replace(999.9, np.nan).fillna(method='ffill')\n",
    "\n",
    "# refill mxpsd using forward or backward\n",
    "data['mxpsd'] = data['mxpsd'].replace(999.9, np.nan).fillna(method='ffill')              \n",
    "\n",
    "# refill wdsp using forward or backward\n",
    "data['wdsp'] = data['wdsp'].replace(999.9, np.nan).fillna(method='ffill')              \n",
    "\n",
    "# refill gust as 0\n",
    "data.loc[(data['gust'] == 999.9), 'gust'] = 0\n",
    "\n",
    "# refit sndp as 0\n",
    "data.loc[data['sndp'] == 999.9, 'sndp'] = 0"
   ]
  },
  {
   "cell_type": "markdown",
   "metadata": {},
   "source": [
    "## 2. Exploratory Data Analysis & Process"
   ]
  },
  {
   "cell_type": "markdown",
   "metadata": {},
   "source": [
    "### Trip Duration vs Hours, Day of Week and Month"
   ]
  },
  {
   "cell_type": "markdown",
   "metadata": {},
   "source": [
    "#### Hourly Duration"
   ]
  },
  {
   "cell_type": "code",
   "execution_count": null,
   "metadata": {
    "scrolled": false
   },
   "outputs": [],
   "source": [
    "summary_hour_duration = pd.DataFrame(data.groupby('pickup_hour')['travel_time'].median())\n",
    "summary_hour_duration.reset_index(inplace = True)\n",
    "summary_hour_duration['unit']=1\n",
    "sns.set(style=\"white\", palette=\"muted\", color_codes=False)\n",
    "sns.set_context(\"poster\")\n",
    "sns.tsplot(data=summary_hour_duration, time=\"pickup_hour\", unit = \"unit\", value=\"travel_time\")\n",
    "sns.despine(bottom = True)"
   ]
  },
  {
   "cell_type": "code",
   "execution_count": null,
   "metadata": {},
   "outputs": [],
   "source": [
    "summary_hour_duration = pd.DataFrame(data.groupby(['weekday','pickup_hour'])['travel_time'].median())\n",
    "summary_hour_duration.reset_index(inplace = True)\n",
    "summary_hour_duration['unit']=1\n",
    "sns.set(style=\"white\", palette=\"muted\", color_codes=False)\n",
    "sns.set_context(\"poster\")\n",
    "sns.tsplot(data=summary_hour_duration, time=\"pickup_hour\", unit = \"unit\", condition=\"weekday\", value=\"travel_time\")\n",
    "sns.despine(bottom = True)"
   ]
  },
  {
   "cell_type": "code",
   "execution_count": null,
   "metadata": {},
   "outputs": [],
   "source": [
    "heatmap_data1 = summary_hour_duration.pivot(index = 'weekday',columns = 'pickup_hour',values = 'travel_time')\n",
    "fig,ax=plt.subplots(figsize = (20,7))\n",
    "plt.title('Hourly duration by weekday')\n",
    "sns.heatmap(heatmap_data1, cbar_kws={'label': 'Median Duration'}, cmap=\"YlGn\")"
   ]
  },
  {
   "cell_type": "code",
   "execution_count": null,
   "metadata": {},
   "outputs": [],
   "source": [
    "sns.set(style=\"ticks\")\n",
    "sns.set_context(\"poster\")\n",
    "sns.boxplot(x=\"pickup_hour\", y=\"travel_time\", data=data, palette=\"PRGn\")\n",
    "plt.ylim(120, 5000)\n",
    "sns.despine(offset=10, trim=True)\n",
    "print(data.travel_time.max())"
   ]
  },
  {
   "cell_type": "markdown",
   "metadata": {},
   "source": [
    "####  Weekly Durations"
   ]
  },
  {
   "cell_type": "code",
   "execution_count": null,
   "metadata": {},
   "outputs": [],
   "source": [
    "summary_week_duration = pd.DataFrame(data.groupby(['weekday'])['travel_time'].median())\n",
    "summary_week_duration.reset_index(inplace = True)\n",
    "summary_week_duration['unit']=1\n",
    "sns.set(style=\"white\", palette=\"muted\", color_codes=False)\n",
    "sns.set_context(\"poster\")\n",
    "sns.tsplot(data=summary_week_duration, time=\"weekday\", unit = \"unit\", value=\"travel_time\")\n",
    "sns.despine(bottom = True)"
   ]
  },
  {
   "cell_type": "code",
   "execution_count": null,
   "metadata": {},
   "outputs": [],
   "source": [
    "summary_weekday_duration = pd.DataFrame(data.groupby(['weekday','month_of_year'])['travel_time'].median())\n",
    "summary_weekday_duration.reset_index(inplace = True)\n",
    "summary_weekday_duration['unit']=1\n",
    "sns.set(style=\"white\", palette=\"muted\", color_codes=False)\n",
    "sns.set_context(\"poster\")\n",
    "sns.tsplot(data=summary_weekday_duration, time=\"weekday\", unit = \"unit\", condition=\"month_of_year\", value=\"travel_time\")\n",
    "sns.despine(bottom = True)"
   ]
  },
  {
   "cell_type": "code",
   "execution_count": null,
   "metadata": {},
   "outputs": [],
   "source": [
    "heatmap_data2 = summary_weekday_duration.pivot(index = 'month_of_year',columns = 'weekday',values = 'travel_time')\n",
    "fig,ax=plt.subplots(figsize = (20,7))\n",
    "plt.title('Hourly duration by weekday')\n",
    "ax.axis\n",
    "sns.heatmap(heatmap_data2, cbar_kws={'label': 'Median Duration'}, cmap=\"YlGn\")"
   ]
  },
  {
   "cell_type": "code",
   "execution_count": null,
   "metadata": {},
   "outputs": [],
   "source": [
    "sns.set(style=\"ticks\")\n",
    "sns.set_context(\"poster\")\n",
    "sns.boxplot(x=\"weekday\", y=\"travel_time\", data=data, palette=\"PRGn\")\n",
    "plt.ylim(0, 5000)\n",
    "sns.despine(offset=10, trim=True)\n",
    "print(data.travel_time.max())"
   ]
  },
  {
   "cell_type": "markdown",
   "metadata": {},
   "source": [
    "#### Monthly Duration"
   ]
  },
  {
   "cell_type": "code",
   "execution_count": null,
   "metadata": {},
   "outputs": [],
   "source": [
    "summary_month_duration = pd.DataFrame(data.groupby(['month_of_year'])['travel_time'].median())\n",
    "summary_month_duration.reset_index(inplace = True)\n",
    "summary_month_duration['unit']=1\n",
    "sns.set(style=\"white\", palette=\"muted\", color_codes=False)\n",
    "sns.set_context(\"poster\")\n",
    "sns.tsplot(data=summary_month_duration, time=\"month_of_year\", unit = \"unit\", value=\"travel_time\")\n",
    "sns.despine(bottom = True)"
   ]
  },
  {
   "cell_type": "code",
   "execution_count": null,
   "metadata": {},
   "outputs": [],
   "source": [
    "sns.set(style=\"ticks\")\n",
    "sns.set_context(\"poster\")\n",
    "sns.boxplot(x=\"month_of_year\", y=\"travel_time\", data=data, palette=\"PRGn\")\n",
    "plt.ylim(0, 5000)\n",
    "sns.despine(offset=10, trim=True)\n",
    "print(data.travel_time.max())"
   ]
  },
  {
   "cell_type": "markdown",
   "metadata": {},
   "source": [
    "### Passenger count"
   ]
  },
  {
   "cell_type": "code",
   "execution_count": null,
   "metadata": {},
   "outputs": [],
   "source": [
    "sns.set(style=\"ticks\")\n",
    "sns.set_context(\"poster\")\n",
    "sns.boxplot(x=\"passenger_count\", y=\"travel_time\", data=data, palette=\"PRGn\")\n",
    "plt.ylim(0, 5000)\n",
    "sns.despine(offset=10, trim=True)\n",
    "print(data.travel_time.max())"
   ]
  },
  {
   "cell_type": "markdown",
   "metadata": {},
   "source": [
    "### Summary of Weather Data"
   ]
  },
  {
   "cell_type": "code",
   "execution_count": null,
   "metadata": {},
   "outputs": [],
   "source": [
    "df_weather = pd.read_csv(\"./Data/tables/weather_2016_cleaned.csv\")"
   ]
  },
  {
   "cell_type": "code",
   "execution_count": null,
   "metadata": {},
   "outputs": [],
   "source": [
    "df_weather.boxplot(figsize=(30,5))"
   ]
  },
  {
   "cell_type": "code",
   "execution_count": null,
   "metadata": {},
   "outputs": [],
   "source": [
    "df_weather.hist(figsize=(8,15))"
   ]
  },
  {
   "cell_type": "code",
   "execution_count": null,
   "metadata": {},
   "outputs": [],
   "source": [
    "corr = df_weather.corr()\n",
    "cmap = sns.diverging_palette(250, 10, sep=20, as_cmap=True)\n",
    "sns.heatmap(corr, xticklabels=corr.columns, yticklabels=corr.columns, cmap=cmap)"
   ]
  },
  {
   "cell_type": "markdown",
   "metadata": {},
   "source": [
    "### Weather vs Trip Duration"
   ]
  },
  {
   "cell_type": "code",
   "execution_count": null,
   "metadata": {},
   "outputs": [],
   "source": [
    "df = data[['date_of_year','travel_time', 'temp','visib','mxpsd', 'wdsp', 'gust', 'max', 'min', 'prcp', 'sndp', \n",
    "             'fog', 'rain_drizzle', 'snow_ice_pellets', 'hail', 'thunder']]\n",
    "corr = df.corr()\n",
    "cmap = sns.diverging_palette(250, 10, sep=20, as_cmap=True)\n",
    "sns.heatmap(corr, xticklabels=corr.columns, yticklabels=corr.columns, cmap=cmap)"
   ]
  },
  {
   "cell_type": "markdown",
   "metadata": {},
   "source": [
    "## 3. Feature Engineer"
   ]
  },
  {
   "cell_type": "markdown",
   "metadata": {},
   "source": [
    "### 3.1 Transformation of Trip Duration"
   ]
  },
  {
   "cell_type": "code",
   "execution_count": null,
   "metadata": {
    "scrolled": false
   },
   "outputs": [],
   "source": [
    "sns.set(style=\"white\", palette=\"muted\", color_codes=True)\n",
    "ff, axes = plt.subplots(1,1, figsize=(8, 6), sharex=True)\n",
    "sns.despine(left=True)\n",
    "\n",
    "sns.distplot(data['travel_time'].values+1, axlabel = 'Distance', label = 'Histogrqm of Distance', bins = 50, color=\"r\")\n",
    "plt.setp(axes, yticks=[])\n",
    "plt.tight_layout()"
   ]
  },
  {
   "cell_type": "code",
   "execution_count": 12,
   "metadata": {},
   "outputs": [
    {
     "name": "stderr",
     "output_type": "stream",
     "text": [
      "E:\\Program Files\\Anaconda3\\lib\\site-packages\\scipy\\stats\\stats.py:1713: FutureWarning: Using a non-tuple sequence for multidimensional indexing is deprecated; use `arr[tuple(seq)]` instead of `arr[seq]`. In the future this will be interpreted as an array index, `arr[np.array(seq)]`, which will result either in an error or a different result.\n",
      "  return np.add.reduce(sorted[indexer] * weights, axis=axis) / sumval\n"
     ]
    },
    {
     "data": {
      "text/plain": [
       "<matplotlib.axes._subplots.AxesSubplot at 0xe9d69eea20>"
      ]
     },
     "execution_count": 12,
     "metadata": {},
     "output_type": "execute_result"
    },
    {
     "data": {
      "image/png": "[encoded data removed]",
      "text/plain": [
       "<Figure size 576x432 with 1 Axes>"
      ]
     },
     "metadata": {},
     "output_type": "display_data"
    }
   ],
   "source": [
    "data['travel_time'] = np.log(data['travel_time']).values+1\n",
    "\n",
    "sns.set(style=\"white\", palette=\"muted\", color_codes=True)\n",
    "ff, axes = plt.subplots(1,1, figsize=(8, 6), sharex=True)\n",
    "sns.distplot(data['travel_time'], axlabel = 'Log Distance', label = 'Histogrqm of Distance', bins = 50, color=\"r\")\n"
   ]
  },
  {
   "cell_type": "markdown",
   "metadata": {},
   "source": [
    "### 3.2 Weekday"
   ]
  },
  {
   "cell_type": "code",
   "execution_count": 13,
   "metadata": {},
   "outputs": [],
   "source": [
    "data['weekday'] = data['date'].dt.weekday"
   ]
  },
  {
   "cell_type": "markdown",
   "metadata": {},
   "source": [
    "### 3.3 Holiday"
   ]
  },
  {
   "cell_type": "code",
   "execution_count": 14,
   "metadata": {},
   "outputs": [],
   "source": [
    "us_holidays = holidays.UnitedStates()\n",
    "data['holiday'] = data['date'].apply(lambda x: 1 if x in us_holidays else 0)"
   ]
  },
  {
   "cell_type": "markdown",
   "metadata": {},
   "source": [
    "### 3.4 Rush Hour"
   ]
  },
  {
   "cell_type": "code",
   "execution_count": 15,
   "metadata": {},
   "outputs": [],
   "source": [
    "# create dummy for rush hour\n",
    "data[\"rush_hour\"] = 0\n",
    "data.loc[(data[\"pickup_hour\"] >= 8) & (data[\"pickup_hour\"] <= 16),\"rush_hour\"] = 1"
   ]
  },
  {
   "cell_type": "markdown",
   "metadata": {},
   "source": [
    "### 3.5 Bearing"
   ]
  },
  {
   "cell_type": "code",
   "execution_count": 16,
   "metadata": {},
   "outputs": [],
   "source": [
    "def bearing_array(lat1, lng1, lat2, lng2):\n",
    "    \"\"\"calculate bearing for each trip\"\"\"\n",
    "    AVG_EARTH_RADIUS = 6371  # in km\n",
    "    lng_delta_rad = np.radians(lng2 - lng1)\n",
    "    lat1, lng1, lat2, lng2 = map(np.radians, (lat1, lng1, lat2, lng2))\n",
    "    y = np.sin(lng_delta_rad) * np.cos(lat2)\n",
    "    x = np.cos(lat1) * np.sin(lat2) - np.sin(lat1) * np.cos(lat2) * np.cos(lng_delta_rad)\n",
    "    return np.degrees(np.arctan2(y, x))\n",
    "\n",
    "data['bearing'] = round(bearing_array(data.pickup_latitude,data.pickup_longitude,data.dropoff_latitude,data.dropoff_longitude),3)"
   ]
  },
  {
   "cell_type": "markdown",
   "metadata": {},
   "source": [
    "### 3.6 Airport Trip"
   ]
  },
  {
   "cell_type": "code",
   "execution_count": 17,
   "metadata": {},
   "outputs": [],
   "source": [
    "data['airport'] = 0\n",
    "xlim = [-73.80, -73.77]\n",
    "ylim = [40.63, 40.65]\n",
    "data.loc[(data.pickup_longitude> xlim[0]) & (data.pickup_longitude < xlim[1]) &\n",
    "         (data.pickup_latitude> ylim[0]) & (data.pickup_latitude < ylim[1]), 'airport'] = 1\n",
    "data.loc[(data.dropoff_longitude> xlim[0]) & (data.dropoff_longitude < xlim[1]) &\n",
    "         (data.dropoff_latitude> ylim[0]) & (data.dropoff_latitude < ylim[1]), 'airport'] = 1\n",
    "\n",
    "xlim = [-73.88, -73.85]\n",
    "ylim = [40.76, 40.78]\n",
    "data.loc[(data.pickup_longitude> xlim[0]) & (data.pickup_longitude < xlim[1]) &\n",
    "     (data.pickup_latitude> ylim[0]) & (data.pickup_latitude < ylim[1]), 'airport'] = 1\n",
    "data.loc[(data.dropoff_longitude> xlim[0]) & (data.dropoff_longitude < xlim[1]) &\n",
    "     (data.dropoff_latitude> ylim[0]) & (data.dropoff_latitude < ylim[1]), 'airport'] = 1"
   ]
  },
  {
   "cell_type": "markdown",
   "metadata": {},
   "source": [
    "## K-means Cluster\n",
    "#### Cluster pickup and dropoff locations¶"
   ]
  },
  {
   "cell_type": "code",
   "execution_count": 17,
   "metadata": {},
   "outputs": [
    {
     "name": "stdout",
     "output_type": "stream",
     "text": [
      "Time taken by above cell is 4.68.\n"
     ]
    },
    {
     "data": {
      "image/png": "[encoded data removed]",
      "text/plain": [
       "<Figure size 720x720 with 1 Axes>"
      ]
     },
     "metadata": {},
     "output_type": "display_data"
    }
   ],
   "source": [
    "start = time.time()\n",
    "loc_df = pd.DataFrame()\n",
    "loc_df['longitude'] = data.pickup_longitude\n",
    "loc_df['latitude'] = data.pickup_latitude\n",
    "loc_df[\"dropoff_lat\"] = data.dropoff_latitude\n",
    "loc_df['dropoff_long'] = data.dropoff_longitude\n",
    "\n",
    "kmeans = KMeans(n_clusters=25, random_state=2, n_init = 10).fit(loc_df)\n",
    "loc_df['label'] = kmeans.labels_\n",
    "plt.figure(figsize = (10,10))\n",
    "for label in loc_df.label.unique():\n",
    "    plt.plot(loc_df.longitude[loc_df.label == label],loc_df.latitude[loc_df.label == label],'.', alpha = 0.3, markersize = 10)\n",
    "\n",
    "end = time.time()\n",
    "print(\"Time taken by above cell is {}.\".format(round((end-start)/60,2)))\n",
    "    \n",
    "plt.title('Clusters of New York')\n",
    "plt.show()\n",
    "\n",
    "data['cluster'] = loc_df.label"
   ]
  },
  {
   "cell_type": "markdown",
   "metadata": {},
   "source": [
    "### Geohash"
   ]
  },
  {
   "cell_type": "markdown",
   "metadata": {},
   "source": [
    "#### Add geohash to represent location"
   ]
  },
  {
   "cell_type": "code",
   "execution_count": 18,
   "metadata": {},
   "outputs": [
    {
     "name": "stdout",
     "output_type": "stream",
     "text": [
      "Time taken by above cell is 1.89.\n"
     ]
    }
   ],
   "source": [
    "start = time.time()\n",
    "pickup = []\n",
    "dropoff = []\n",
    "for i in range(len(data)):\n",
    "    \n",
    "    dropoff.append(ghh.encode(data.dropoff_longitude.iloc[i], data.dropoff_latitude.iloc[i], precision=5))\n",
    "\n",
    "\n",
    "data['dropoff_geo'] = dropoff\n",
    "data[\"dropoff_geo_recode\"] = data[\"dropoff_geo\"].astype('category').cat.codes\n",
    "\n",
    "end = time.time()\n",
    "print(\"Time taken by above cell is {}.\".format(round((end-start)/60,2)))"
   ]
  },
  {
   "cell_type": "markdown",
   "metadata": {},
   "source": [
    "#### Plot geohash map"
   ]
  },
  {
   "cell_type": "code",
   "execution_count": null,
   "metadata": {
    "scrolled": false
   },
   "outputs": [],
   "source": [
    "from IPython.display import Image\n",
    "Image(filename='geohash_pickup.png', width=500, height=300)"
   ]
  },
  {
   "cell_type": "markdown",
   "metadata": {},
   "source": [
    "## 4. Optimize the memory usage"
   ]
  },
  {
   "cell_type": "code",
   "execution_count": 19,
   "metadata": {},
   "outputs": [],
   "source": [
    "data = data.drop(['wdsp', 'gust', 'snow_ice_pellets', 'hail', 'thunder','dropoff_geo'], axis = 1)"
   ]
  },
  {
   "cell_type": "code",
   "execution_count": 20,
   "metadata": {
    "scrolled": true
   },
   "outputs": [
    {
     "name": "stdout",
     "output_type": "stream",
     "text": [
      "Original memory usage:  610.01 MB\n",
      "After converting int and float memory usage:  167.02 MB\n"
     ]
    }
   ],
   "source": [
    "# Create a function to be calculating memory usage\n",
    "def get_usage(obj):\n",
    "    if isinstance(obj, pd.DataFrame):\n",
    "        usage = obj.memory_usage(deep=True).sum()\n",
    "    else:\n",
    "        usage = obj.memory_usage(deep=True)\n",
    "    return \"{:03.2f} MB\".format(usage / (1024**2))\n",
    "\n",
    "# Convert object to int\n",
    "obj = data.select_dtypes(include = 'object')\n",
    "obj = obj.iloc[:,0:7]\n",
    "obj_f32 = obj.apply(pd.to_numeric, downcast='unsigned')\n",
    "\n",
    "# Convert int64 to int8\n",
    "obj = data.select_dtypes(include = 'int64')\n",
    "obj_int = obj.apply(pd.to_numeric, downcast='unsigned')\n",
    "\n",
    "# Convert float64 to float32\n",
    "obj = data.select_dtypes(include = 'float64')\n",
    "obj_f = obj.apply(pd.to_numeric, downcast='float')\n",
    "\n",
    "# Calculated the memory we reduced by down grade int and float\n",
    "print(\"Original memory usage: \", get_usage(data))\n",
    "data[obj_f32.columns] = obj_f32\n",
    "data[obj_int.columns] = obj_int\n",
    "data[obj_f.columns] = obj_f\n",
    "print(\"After converting int and float memory usage: \", get_usage(data))"
   ]
  },
  {
   "cell_type": "code",
   "execution_count": 21,
   "metadata": {},
   "outputs": [
    {
     "data": {
      "text/html": [
       "<div>\n",
       "<style scoped>\n",
       "    .dataframe tbody tr th:only-of-type {\n",
       "        vertical-align: middle;\n",
       "    }\n",
       "\n",
       "    .dataframe tbody tr th {\n",
       "        vertical-align: top;\n",
       "    }\n",
       "\n",
       "    .dataframe thead th {\n",
       "        text-align: right;\n",
       "    }\n",
       "</style>\n",
       "<table border=\"1\" class=\"dataframe\">\n",
       "  <thead>\n",
       "    <tr style=\"text-align: right;\">\n",
       "      <th></th>\n",
       "      <th>travel_time</th>\n",
       "      <th>date</th>\n",
       "      <th>month</th>\n",
       "      <th>day</th>\n",
       "      <th>pickup_hour</th>\n",
       "      <th>pickup_datetime</th>\n",
       "      <th>dropoff_datetime</th>\n",
       "      <th>pickup_longitude</th>\n",
       "      <th>pickup_latitude</th>\n",
       "      <th>dropoff_longitude</th>\n",
       "      <th>dropoff_latitude</th>\n",
       "      <th>passenger_count</th>\n",
       "      <th>temp</th>\n",
       "      <th>visib</th>\n",
       "      <th>mxpsd</th>\n",
       "      <th>max</th>\n",
       "      <th>min</th>\n",
       "      <th>prcp</th>\n",
       "      <th>sndp</th>\n",
       "      <th>fog</th>\n",
       "      <th>rain_drizzle</th>\n",
       "      <th>haversine_distance</th>\n",
       "      <th>manhattan_distance</th>\n",
       "      <th>weekday</th>\n",
       "      <th>holiday</th>\n",
       "      <th>rush_hour</th>\n",
       "      <th>bearing</th>\n",
       "      <th>airport</th>\n",
       "      <th>dropoff_geo_recode</th>\n",
       "    </tr>\n",
       "  </thead>\n",
       "  <tbody>\n",
       "    <tr>\n",
       "      <th>0</th>\n",
       "      <td>7.405229</td>\n",
       "      <td>2016-01-24</td>\n",
       "      <td>1</td>\n",
       "      <td>24</td>\n",
       "      <td>14</td>\n",
       "      <td>2016-01-24 14:01:14</td>\n",
       "      <td>2016-01-24 14:11:19</td>\n",
       "      <td>-73.976639</td>\n",
       "      <td>40.782452</td>\n",
       "      <td>-73.987427</td>\n",
       "      <td>40.770359</td>\n",
       "      <td>1</td>\n",
       "      <td>26.700001</td>\n",
       "      <td>7.4</td>\n",
       "      <td>17.1</td>\n",
       "      <td>35.099998</td>\n",
       "      <td>19.9</td>\n",
       "      <td>1.82</td>\n",
       "      <td>5.9</td>\n",
       "      <td>1</td>\n",
       "      <td>0</td>\n",
       "      <td>1.623</td>\n",
       "      <td>2.253</td>\n",
       "      <td>6</td>\n",
       "      <td>0</td>\n",
       "      <td>1</td>\n",
       "      <td>-145.955002</td>\n",
       "      <td>0</td>\n",
       "      <td>454</td>\n",
       "    </tr>\n",
       "    <tr>\n",
       "      <th>1</th>\n",
       "      <td>7.949856</td>\n",
       "      <td>2016-01-24</td>\n",
       "      <td>1</td>\n",
       "      <td>24</td>\n",
       "      <td>14</td>\n",
       "      <td>2016-01-24 14:55:50</td>\n",
       "      <td>2016-01-24 15:13:13</td>\n",
       "      <td>-73.986816</td>\n",
       "      <td>40.739422</td>\n",
       "      <td>-73.973244</td>\n",
       "      <td>40.762661</td>\n",
       "      <td>1</td>\n",
       "      <td>26.700001</td>\n",
       "      <td>7.4</td>\n",
       "      <td>17.1</td>\n",
       "      <td>35.099998</td>\n",
       "      <td>19.9</td>\n",
       "      <td>1.82</td>\n",
       "      <td>5.9</td>\n",
       "      <td>1</td>\n",
       "      <td>0</td>\n",
       "      <td>2.826</td>\n",
       "      <td>3.728</td>\n",
       "      <td>6</td>\n",
       "      <td>0</td>\n",
       "      <td>1</td>\n",
       "      <td>23.862000</td>\n",
       "      <td>0</td>\n",
       "      <td>459</td>\n",
       "    </tr>\n",
       "    <tr>\n",
       "      <th>2</th>\n",
       "      <td>7.760415</td>\n",
       "      <td>2016-01-24</td>\n",
       "      <td>1</td>\n",
       "      <td>24</td>\n",
       "      <td>14</td>\n",
       "      <td>2016-01-24 14:45:06</td>\n",
       "      <td>2016-01-24 14:59:29</td>\n",
       "      <td>-73.978760</td>\n",
       "      <td>40.745090</td>\n",
       "      <td>-73.986198</td>\n",
       "      <td>40.767422</td>\n",
       "      <td>5</td>\n",
       "      <td>26.700001</td>\n",
       "      <td>7.4</td>\n",
       "      <td>17.1</td>\n",
       "      <td>35.099998</td>\n",
       "      <td>19.9</td>\n",
       "      <td>1.82</td>\n",
       "      <td>5.9</td>\n",
       "      <td>1</td>\n",
       "      <td>0</td>\n",
       "      <td>2.561</td>\n",
       "      <td>3.110</td>\n",
       "      <td>6</td>\n",
       "      <td>0</td>\n",
       "      <td>1</td>\n",
       "      <td>-14.159000</td>\n",
       "      <td>0</td>\n",
       "      <td>455</td>\n",
       "    </tr>\n",
       "    <tr>\n",
       "      <th>3</th>\n",
       "      <td>6.966147</td>\n",
       "      <td>2016-01-24</td>\n",
       "      <td>1</td>\n",
       "      <td>24</td>\n",
       "      <td>14</td>\n",
       "      <td>2016-01-24 14:32:17</td>\n",
       "      <td>2016-01-24 14:38:47</td>\n",
       "      <td>-73.969902</td>\n",
       "      <td>40.765556</td>\n",
       "      <td>-73.982101</td>\n",
       "      <td>40.768295</td>\n",
       "      <td>2</td>\n",
       "      <td>26.700001</td>\n",
       "      <td>7.4</td>\n",
       "      <td>17.1</td>\n",
       "      <td>35.099998</td>\n",
       "      <td>19.9</td>\n",
       "      <td>1.82</td>\n",
       "      <td>5.9</td>\n",
       "      <td>1</td>\n",
       "      <td>0</td>\n",
       "      <td>1.072</td>\n",
       "      <td>1.332</td>\n",
       "      <td>6</td>\n",
       "      <td>0</td>\n",
       "      <td>1</td>\n",
       "      <td>-73.484001</td>\n",
       "      <td>0</td>\n",
       "      <td>455</td>\n",
       "    </tr>\n",
       "    <tr>\n",
       "      <th>4</th>\n",
       "      <td>7.680855</td>\n",
       "      <td>2016-01-24</td>\n",
       "      <td>1</td>\n",
       "      <td>24</td>\n",
       "      <td>14</td>\n",
       "      <td>2016-01-24 14:51:23</td>\n",
       "      <td>2016-01-24 15:04:40</td>\n",
       "      <td>-73.979858</td>\n",
       "      <td>40.771004</td>\n",
       "      <td>-73.990067</td>\n",
       "      <td>40.749317</td>\n",
       "      <td>5</td>\n",
       "      <td>26.700001</td>\n",
       "      <td>7.4</td>\n",
       "      <td>17.1</td>\n",
       "      <td>35.099998</td>\n",
       "      <td>19.9</td>\n",
       "      <td>1.82</td>\n",
       "      <td>5.9</td>\n",
       "      <td>1</td>\n",
       "      <td>0</td>\n",
       "      <td>2.560</td>\n",
       "      <td>3.271</td>\n",
       "      <td>6</td>\n",
       "      <td>0</td>\n",
       "      <td>1</td>\n",
       "      <td>-160.373001</td>\n",
       "      <td>0</td>\n",
       "      <td>470</td>\n",
       "    </tr>\n",
       "  </tbody>\n",
       "</table>\n",
       "</div>"
      ],
      "text/plain": [
       "   travel_time       date  month  day  pickup_hour     pickup_datetime  \\\n",
       "0     7.405229 2016-01-24      1   24           14 2016-01-24 14:01:14   \n",
       "1     7.949856 2016-01-24      1   24           14 2016-01-24 14:55:50   \n",
       "2     7.760415 2016-01-24      1   24           14 2016-01-24 14:45:06   \n",
       "3     6.966147 2016-01-24      1   24           14 2016-01-24 14:32:17   \n",
       "4     7.680855 2016-01-24      1   24           14 2016-01-24 14:51:23   \n",
       "\n",
       "     dropoff_datetime  pickup_longitude  pickup_latitude  dropoff_longitude  \\\n",
       "0 2016-01-24 14:11:19        -73.976639        40.782452         -73.987427   \n",
       "1 2016-01-24 15:13:13        -73.986816        40.739422         -73.973244   \n",
       "2 2016-01-24 14:59:29        -73.978760        40.745090         -73.986198   \n",
       "3 2016-01-24 14:38:47        -73.969902        40.765556         -73.982101   \n",
       "4 2016-01-24 15:04:40        -73.979858        40.771004         -73.990067   \n",
       "\n",
       "   dropoff_latitude  passenger_count       temp  visib  mxpsd        max  \\\n",
       "0         40.770359                1  26.700001    7.4   17.1  35.099998   \n",
       "1         40.762661                1  26.700001    7.4   17.1  35.099998   \n",
       "2         40.767422                5  26.700001    7.4   17.1  35.099998   \n",
       "3         40.768295                2  26.700001    7.4   17.1  35.099998   \n",
       "4         40.749317                5  26.700001    7.4   17.1  35.099998   \n",
       "\n",
       "    min  prcp  sndp  fog  rain_drizzle  haversine_distance  \\\n",
       "0  19.9  1.82   5.9    1             0               1.623   \n",
       "1  19.9  1.82   5.9    1             0               2.826   \n",
       "2  19.9  1.82   5.9    1             0               2.561   \n",
       "3  19.9  1.82   5.9    1             0               1.072   \n",
       "4  19.9  1.82   5.9    1             0               2.560   \n",
       "\n",
       "   manhattan_distance  weekday  holiday  rush_hour     bearing  airport  \\\n",
       "0               2.253        6        0          1 -145.955002        0   \n",
       "1               3.728        6        0          1   23.862000        0   \n",
       "2               3.110        6        0          1  -14.159000        0   \n",
       "3               1.332        6        0          1  -73.484001        0   \n",
       "4               3.271        6        0          1 -160.373001        0   \n",
       "\n",
       "   dropoff_geo_recode  \n",
       "0                 454  \n",
       "1                 459  \n",
       "2                 455  \n",
       "3                 455  \n",
       "4                 470  "
      ]
     },
     "execution_count": 21,
     "metadata": {},
     "output_type": "execute_result"
    }
   ],
   "source": [
    "data.head()"
   ]
  },
  {
   "cell_type": "markdown",
   "metadata": {},
   "source": [
    "## Modeling"
   ]
  },
  {
   "cell_type": "code",
   "execution_count": 22,
   "metadata": {},
   "outputs": [],
   "source": [
    "selected_features = ['month', 'pickup_hour', 'weekday', 'holiday','rush_hour',\n",
    "                     'pickup_longitude', 'pickup_latitude', 'dropoff_longitude', 'dropoff_latitude',\n",
    "                     'temp', 'visib', 'mxpsd',  'prcp', 'sndp', 'fog', 'passenger_count',\n",
    "                     'bearing', 'airport','manhattan_distance','haversine_distance', 'dropoff_geo_recode'\n",
    "                    ]\n",
    "\n",
    "x = data[selected_features]\n",
    "y = data['travel_time']\n",
    "\n",
    "x_train, x_test, y_train, y_test = train_test_split(x, y, test_size=0.2, random_state=2)"
   ]
  },
  {
   "cell_type": "code",
   "execution_count": 23,
   "metadata": {
    "scrolled": false
   },
   "outputs": [],
   "source": [
    "def train_test_model_performance(clf, x_train = x_train, y_train = y_train, x_test = x_test, y_test = y_test):\n",
    "    \n",
    "    # Fit a model by providing X and y from training set\n",
    "    clf.fit(x_train, y_train)\n",
    "    print(clf)\n",
    "    # Make prediction on the training data\n",
    "    y_train_pred = clf.predict(x_train)\n",
    "\n",
    "    # Make predictions on test data\n",
    "    y_test_pred = clf.predict(x_test)\n",
    "    \n",
    "    # Evaluate\n",
    "    R2_Train = clf.score(x_train,y_train)\n",
    "    R2_Test = clf.score(x_test,y_test)\n",
    "    RMSE_Train = sqrt(mean_squared_error(y_train, y_train_pred))\n",
    "    RMSE_Test = sqrt(mean_squared_error(y_test, y_test_pred))\n",
    "#     RMSLE_Train = sqrt(mean_squared_log_error(y_train, y_train_pred))\n",
    "#     RMSLE_Test = sqrt(mean_squared_log_error(y_test, y_test_pred))\n",
    "    \n",
    "    metric_names = ['R2','RMSE']\n",
    "    metric_values_train = [R2_Train, RMSE_Train]\n",
    "    metric_values_test = [R2_Test, RMSE_Test]\n",
    "    all_metrics = pd.DataFrame({'metrics':metric_names,\n",
    "                                'train':metric_values_train,\n",
    "                                'test':metric_values_test},columns=['metrics','train','test']).set_index('metrics')\n",
    "    print(all_metrics)"
   ]
  },
  {
   "cell_type": "code",
   "execution_count": 24,
   "metadata": {},
   "outputs": [],
   "source": [
    "def cv_model_performance(clf, x_train = x_train, y_train = y_train, x_test = x_test, y_test = y_test):\n",
    "    \n",
    "    # Fit a model by providing X and y from training set\n",
    "    clf.fit(x_train, y_train)\n",
    "    model = clf.best_estimator_\n",
    "    print(model)\n",
    "    \n",
    "    # Make prediction on the training data\n",
    "    y_train_pred = model.predict(x_train)\n",
    "\n",
    "    # Make predictions on test data\n",
    "    y_test_pred = model.predict(x_test)\n",
    "    \n",
    "    # Evaluate\n",
    "    R2_Train = model.score(x_train,y_train)\n",
    "    R2_Test = model.score(x_test,y_test)\n",
    "    RMSE_Train = sqrt(mean_squared_error(y_train, y_train_pred))\n",
    "    RMSE_Test = sqrt(mean_squared_error(y_test, y_test_pred))\n",
    "    RMSLE_Train = sqrt(mean_squared_log_error(y_train, y_train_pred))\n",
    "    RMSLE_Test = sqrt(mean_squared_log_error(y_test, y_test_pred))\n",
    "    \n",
    "    metric_names = ['R2','RMSE','RMSLE']\n",
    "    metric_values_train = [R2_Train, RMSE_Train, RMSLE_Train]\n",
    "    metric_values_test = [R2_Test, RMSE_Test, RMSLE_Test]\n",
    "    all_metrics = pd.DataFrame({'metrics':metric_names,\n",
    "                                'train':metric_values_train,\n",
    "                                'test':metric_values_test},columns=['metrics','train','test']).set_index('metrics')\n",
    "    print(all_metrics)"
   ]
  },
  {
   "cell_type": "markdown",
   "metadata": {},
   "source": [
    "### Random Forest"
   ]
  },
  {
   "cell_type": "markdown",
   "metadata": {},
   "source": [
    "#### Cross Validation"
   ]
  },
  {
   "cell_type": "code",
   "execution_count": null,
   "metadata": {},
   "outputs": [],
   "source": [
    "start = time.time()\n",
    "\n",
    "# Choose the type of classifier. /\n",
    "rf = RandomForestRegressor()\n",
    "\n",
    "# Choose some parameter combinations to try\n",
    "param_grid = {'n_estimators': [300,400], \n",
    "              'max_features': ['auto'], \n",
    "              'max_depth': [40,50], \n",
    "              'min_samples_split': [30, 50],\n",
    "              'n_jobs':[-1]\n",
    "             }\n",
    "\n",
    "# read theory\n",
    "grid_obj = GridSearchCV(rf, param_grid, cv=3, n_jobs = 8, iid=False, verbose=10, scoring='r2')\n",
    "cv_model_performance(grid_obj)\n",
    "\n",
    "end = time.time()\n",
    "print(\"Time taken by above cell is {}.\".format((end-start)/60))"
   ]
  },
  {
   "cell_type": "markdown",
   "metadata": {},
   "source": [
    "#### Train RF"
   ]
  },
  {
   "cell_type": "markdown",
   "metadata": {},
   "source": [
    "#### Feature Importance"
   ]
  },
  {
   "cell_type": "code",
   "execution_count": null,
   "metadata": {
    "scrolled": true
   },
   "outputs": [],
   "source": [
    "start = time.time()\n",
    "# parameters = {'n_estimators': 300,\n",
    "#              'max_features': 'auto',\n",
    "#               'max_depth': 50,\n",
    "#               'min_samples_split': 40,\n",
    "#               'random_state': 2,\n",
    "#               'n_jobs': -1,\n",
    "#               }\n",
    "# 0.899009  0.839094 25\n",
    "\n",
    "parameters = {'n_estimators': 300,\n",
    "             'max_features': 'auto',\n",
    "              'max_depth': 50,\n",
    "              'min_samples_split': 150,\n",
    "              'random_state': 2,\n",
    "              'n_jobs': -1\n",
    "              }\n",
    "\n",
    "rf = RandomForestRegressor(**parameters)\n",
    "train_test_model_performance(rf)\n",
    "\n",
    "end = time.time()\n",
    "print(\"Time taken by above cell is {}.\".format(round(end-start)/60,2))"
   ]
  },
  {
   "cell_type": "code",
   "execution_count": 32,
   "metadata": {
    "scrolled": true
   },
   "outputs": [
    {
     "data": {
      "image/png": "[encoded data removed]",
      "text/plain": [
       "<Figure size 576x396 with 1 Axes>"
      ]
     },
     "metadata": {},
     "output_type": "display_data"
    }
   ],
   "source": [
    "features = pd.DataFrame(list(zip(selected_features, rf.feature_importances_))).sort_values(by=[1], ascending=False)\n",
    "features.columns = ['feature', 'value']\n",
    "\n",
    "ax = features.iloc[0:10].plot.barh()\n",
    "t = np.arange(11)\n",
    "ax.set_yticks(t)\n",
    "ax.set_yticklabels(features['feature'])\n",
    "plt.show()"
   ]
  },
  {
   "cell_type": "markdown",
   "metadata": {},
   "source": [
    "### Gradient Boosting Trees"
   ]
  },
  {
   "cell_type": "markdown",
   "metadata": {},
   "source": [
    "#### Cross Validation"
   ]
  },
  {
   "cell_type": "code",
   "execution_count": null,
   "metadata": {
    "scrolled": false
   },
   "outputs": [
    {
     "name": "stdout",
     "output_type": "stream",
     "text": [
      "Fitting 3 folds for each of 8 candidates, totalling 24 fits\n"
     ]
    },
    {
     "name": "stderr",
     "output_type": "stream",
     "text": [
      "[Parallel(n_jobs=8)]: Done   2 tasks      | elapsed: 301.4min\n"
     ]
    }
   ],
   "source": [
    "start = time.time()\n",
    "GBDT = GradientBoostingRegressor()\n",
    "\n",
    "# Choose some parameter combinations to try\n",
    "param_grid = {'n_estimators': [250, 300], \n",
    "              'max_depth': [10, 11], \n",
    "              'learning_rate': [0.2],\n",
    "              'min_samples_split': [50, 55],\n",
    "              'subsample':[0.9],\n",
    "              'random_state': [2]\n",
    "             }\n",
    "\n",
    "# read theory\n",
    "grid_obj = GridSearchCV(GBDT, param_grid, cv=3, n_jobs=8, iid=False, verbose=10, scoring='r2')\n",
    "cv_model_performance(grid_obj)\n",
    "\n",
    "end = time.time()\n",
    "print(\"Time taken by above cell is {}.\".format((end-start)/60))"
   ]
  },
  {
   "cell_type": "markdown",
   "metadata": {},
   "source": [
    "#### Train GBDT"
   ]
  },
  {
   "cell_type": "code",
   "execution_count": 33,
   "metadata": {},
   "outputs": [
    {
     "name": "stdout",
     "output_type": "stream",
     "text": [
      "GradientBoostingRegressor(alpha=0.9, criterion='friedman_mse', init=None,\n",
      "             learning_rate=0.2, loss='ls', max_depth=9, max_features=None,\n",
      "             max_leaf_nodes=None, min_impurity_decrease=0.0,\n",
      "             min_impurity_split=None, min_samples_leaf=1,\n",
      "             min_samples_split=50, min_weight_fraction_leaf=0.0,\n",
      "             n_estimators=300, presort='auto', random_state=2,\n",
      "             subsample=0.9, verbose=0, warm_start=False)\n",
      "            train      test\n",
      "metrics                    \n",
      "R2       0.895770  0.857926\n",
      "RMSE     0.244009  0.284756\n",
      "Time taken by above cell is 80.\n"
     ]
    }
   ],
   "source": [
    "start = time.time()\n",
    "\n",
    "#Choose some parameter combinations to try\n",
    "# parameters = {\n",
    "#     'n_estimators': 150,\n",
    "#     'max_depth': 7,\n",
    "#     'learning_rate': 0.2,\n",
    "#     'min_samples_split': 30,\n",
    "#     'max_features': 'auto',\n",
    "#     'subsample': 0.7,\n",
    "#     'random_state': 2\n",
    "# }\n",
    "\n",
    "#0.797\n",
    "parameters = {\n",
    "    'n_estimators': 300,\n",
    "    'max_depth': 9,\n",
    "    'learning_rate': 0.2,\n",
    "    'min_samples_split': 50,\n",
    "    'subsample': 0.9,\n",
    "    'random_state': 2\n",
    "}\n",
    "\n",
    "GBDT = GradientBoostingRegressor(**parameters)\n",
    "train_test_model_performance(GBDT)\n",
    "\n",
    "end = time.time()\n",
    "print(\"Time taken by above cell is {}.\".format(round((end-start)/60),2))"
   ]
  },
  {
   "cell_type": "markdown",
   "metadata": {},
   "source": [
    "#### Feature Improtance"
   ]
  },
  {
   "cell_type": "code",
   "execution_count": 34,
   "metadata": {
    "scrolled": true
   },
   "outputs": [
    {
     "data": {
      "image/png": "[encoded data removed]",
      "text/plain": [
       "<Figure size 576x396 with 1 Axes>"
      ]
     },
     "metadata": {},
     "output_type": "display_data"
    }
   ],
   "source": [
    "features = pd.DataFrame(list(zip(selected_features, GBDT.feature_importances_))).sort_values(by=[1], ascending=False)\n",
    "features.columns = ['feature', 'value']\n",
    "features.head(10)\n",
    "\n",
    "ax = features.iloc[0:10].plot.barh()\n",
    "t = np.arange(11)\n",
    "ax.set_yticks(t)\n",
    "ax.set_yticklabels(features['feature'])\n",
    "plt.show()"
   ]
  },
  {
   "cell_type": "markdown",
   "metadata": {},
   "source": [
    "### Extremely Gradient Boosting (XGB)"
   ]
  },
  {
   "cell_type": "markdown",
   "metadata": {},
   "source": [
    "#### Spliting Train and Test Data"
   ]
  },
  {
   "cell_type": "code",
   "execution_count": null,
   "metadata": {},
   "outputs": [],
   "source": [
    "selected_features = ['month_of_year', 'day_of_year', 'pickup_hour', 'pickup_longitude', 'pickup_latitude', 'dropoff_longitude',\n",
    "      'dropoff_latitude', 'passenger_count',  'prcp', 'sndp', 'fog', 'weekday', 'holiday', \n",
    "                     'haversine_distance','cluster','bearing','manhattan_distance']\n",
    "x = data[selected_features]\n",
    "y = np.log(data['travel_time'])\n",
    "\n",
    "x_train, x_test, y_train, y_test = train_test_split(x, y, test_size=0.2, random_state=2)\n"
   ]
  },
  {
   "cell_type": "code",
   "execution_count": 25,
   "metadata": {},
   "outputs": [],
   "source": [
    "dtrain = xgb.DMatrix(x_train, label=y_train)\n",
    "dvalid = xgb.DMatrix(x_test, label=y_test)\n",
    "watchlist = [(dtrain, 'train'), (dvalid, 'valid')]"
   ]
  },
  {
   "cell_type": "markdown",
   "metadata": {},
   "source": [
    "#### Grid Search CV for parameter selection"
   ]
  },
  {
   "cell_type": "code",
   "execution_count": 51,
   "metadata": {
    "scrolled": false
   },
   "outputs": [],
   "source": [
    "from sklearn.grid_search import GridSearchCV \n",
    "\n",
    "parameters_for_testing = {\n",
    "   'min_child_weight':[10,15],\n",
    "   'max_depth':[15,17],\n",
    "   'alpha':[10,15]\n",
    "    \n",
    "}\n",
    "          \n",
    "xgb_model = xgb.XGBRegressor(learning_rate =0.1, n_estimators=200, max_depth=12,\n",
    "    min_child_weight=10, subsample=0.6, colsample_bytree=0.6, nthread= 8, scale_pos_weight=1, seed=27)\n",
    "\n",
    "gsearch1 = GridSearchCV(estimator = xgb_model, param_grid = parameters_for_testing, cv=3, n_jobs=8,iid=False, verbose=10,scoring='r2')\n",
    "gsearch1.fit(x_train,y_train)\n",
    "print (gsearch1.grid_scores_)\n",
    "print('best params')\n",
    "print (gsearch1.best_params_)\n",
    "print('best score')\n",
    "print (gsearch1.best_score_)"
   ]
  },
  {
   "cell_type": "markdown",
   "metadata": {},
   "source": [
    "#### Train model "
   ]
  },
  {
   "cell_type": "code",
   "execution_count": 26,
   "metadata": {
    "scrolled": false
   },
   "outputs": [
    {
     "name": "stdout",
     "output_type": "stream",
     "text": [
      "[0]\ttrain-rmse:6.33388\tvalid-rmse:6.33522\n",
      "Multiple eval metrics have been passed: 'valid-rmse' will be used for early stopping.\n",
      "\n",
      "Will train until valid-rmse hasn't improved in 2 rounds.\n",
      "[1]\ttrain-rmse:5.70324\tvalid-rmse:5.70453\n",
      "[2]\ttrain-rmse:5.13592\tvalid-rmse:5.13717\n",
      "[3]\ttrain-rmse:4.62545\tvalid-rmse:4.62668\n",
      "[4]\ttrain-rmse:4.16662\tvalid-rmse:4.16779\n",
      "[5]\ttrain-rmse:3.75361\tvalid-rmse:3.75471\n",
      "[6]\ttrain-rmse:3.38247\tvalid-rmse:3.38354\n",
      "[7]\ttrain-rmse:3.04868\tvalid-rmse:3.04971\n",
      "[8]\ttrain-rmse:2.74856\tvalid-rmse:2.74956\n",
      "[9]\ttrain-rmse:2.47889\tvalid-rmse:2.47987\n",
      "[10]\ttrain-rmse:2.23658\tvalid-rmse:2.23751\n",
      "[11]\ttrain-rmse:2.01904\tvalid-rmse:2.01991\n",
      "[12]\ttrain-rmse:1.82432\tvalid-rmse:1.82515\n",
      "[13]\ttrain-rmse:1.6492\tvalid-rmse:1.65001\n",
      "[14]\ttrain-rmse:1.49256\tvalid-rmse:1.49334\n",
      "[15]\ttrain-rmse:1.35197\tvalid-rmse:1.35268\n",
      "[16]\ttrain-rmse:1.22631\tvalid-rmse:1.22695\n",
      "[17]\ttrain-rmse:1.11383\tvalid-rmse:1.11445\n",
      "[18]\ttrain-rmse:1.01351\tvalid-rmse:1.0141\n",
      "[19]\ttrain-rmse:0.9241\tvalid-rmse:0.924686\n",
      "[20]\ttrain-rmse:0.845017\tvalid-rmse:0.845562\n",
      "[21]\ttrain-rmse:0.774517\tvalid-rmse:0.775043\n",
      "[22]\ttrain-rmse:0.712151\tvalid-rmse:0.712672\n",
      "[23]\ttrain-rmse:0.656983\tvalid-rmse:0.657504\n",
      "[24]\ttrain-rmse:0.608825\tvalid-rmse:0.609329\n",
      "[25]\ttrain-rmse:0.566679\tvalid-rmse:0.567177\n",
      "[26]\ttrain-rmse:0.530151\tvalid-rmse:0.530631\n",
      "[27]\ttrain-rmse:0.497612\tvalid-rmse:0.498063\n",
      "[28]\ttrain-rmse:0.469574\tvalid-rmse:0.470051\n",
      "[29]\ttrain-rmse:0.445735\tvalid-rmse:0.446211\n",
      "[30]\ttrain-rmse:0.425135\tvalid-rmse:0.425614\n",
      "[31]\ttrain-rmse:0.406921\tvalid-rmse:0.407421\n",
      "[32]\ttrain-rmse:0.390902\tvalid-rmse:0.391453\n",
      "[33]\ttrain-rmse:0.377669\tvalid-rmse:0.378249\n",
      "[34]\ttrain-rmse:0.366181\tvalid-rmse:0.366805\n",
      "[35]\ttrain-rmse:0.356734\tvalid-rmse:0.357395\n",
      "[36]\ttrain-rmse:0.348089\tvalid-rmse:0.348831\n",
      "[37]\ttrain-rmse:0.341036\tvalid-rmse:0.341845\n",
      "[38]\ttrain-rmse:0.334688\tvalid-rmse:0.335584\n",
      "[39]\ttrain-rmse:0.329386\tvalid-rmse:0.330387\n",
      "[40]\ttrain-rmse:0.324967\tvalid-rmse:0.326045\n",
      "[41]\ttrain-rmse:0.32138\tvalid-rmse:0.322555\n",
      "[42]\ttrain-rmse:0.318157\tvalid-rmse:0.319409\n",
      "[43]\ttrain-rmse:0.315202\tvalid-rmse:0.316533\n",
      "[44]\ttrain-rmse:0.313054\tvalid-rmse:0.314436\n",
      "[45]\ttrain-rmse:0.310512\tvalid-rmse:0.312\n",
      "[46]\ttrain-rmse:0.308639\tvalid-rmse:0.310208\n",
      "[47]\ttrain-rmse:0.306897\tvalid-rmse:0.308557\n",
      "[48]\ttrain-rmse:0.30568\tvalid-rmse:0.307395\n",
      "[49]\ttrain-rmse:0.304574\tvalid-rmse:0.306339\n",
      "[50]\ttrain-rmse:0.303315\tvalid-rmse:0.305149\n",
      "[51]\ttrain-rmse:0.302185\tvalid-rmse:0.304097\n",
      "[52]\ttrain-rmse:0.300755\tvalid-rmse:0.302775\n",
      "[53]\ttrain-rmse:0.299297\tvalid-rmse:0.301402\n",
      "[54]\ttrain-rmse:0.298283\tvalid-rmse:0.300488\n",
      "[55]\ttrain-rmse:0.297141\tvalid-rmse:0.299456\n",
      "[56]\ttrain-rmse:0.295911\tvalid-rmse:0.298343\n",
      "[57]\ttrain-rmse:0.2953\tvalid-rmse:0.297814\n",
      "[58]\ttrain-rmse:0.294792\tvalid-rmse:0.297388\n",
      "[59]\ttrain-rmse:0.294239\tvalid-rmse:0.29689\n",
      "[60]\ttrain-rmse:0.293624\tvalid-rmse:0.29634\n",
      "[61]\ttrain-rmse:0.29312\tvalid-rmse:0.295895\n",
      "[62]\ttrain-rmse:0.292421\tvalid-rmse:0.295274\n",
      "[63]\ttrain-rmse:0.291977\tvalid-rmse:0.294894\n",
      "[64]\ttrain-rmse:0.291329\tvalid-rmse:0.294349\n",
      "[65]\ttrain-rmse:0.290861\tvalid-rmse:0.293962\n",
      "[66]\ttrain-rmse:0.290098\tvalid-rmse:0.293284\n",
      "[67]\ttrain-rmse:0.289517\tvalid-rmse:0.292783\n",
      "[68]\ttrain-rmse:0.289131\tvalid-rmse:0.292453\n",
      "[69]\ttrain-rmse:0.288619\tvalid-rmse:0.292027\n",
      "[70]\ttrain-rmse:0.288311\tvalid-rmse:0.291776\n",
      "[71]\ttrain-rmse:0.28813\tvalid-rmse:0.291634\n",
      "[72]\ttrain-rmse:0.287777\tvalid-rmse:0.29133\n",
      "[73]\ttrain-rmse:0.287437\tvalid-rmse:0.29105\n",
      "[74]\ttrain-rmse:0.287133\tvalid-rmse:0.2908\n",
      "[75]\ttrain-rmse:0.286892\tvalid-rmse:0.290607\n",
      "[76]\ttrain-rmse:0.286677\tvalid-rmse:0.290442\n",
      "[77]\ttrain-rmse:0.286494\tvalid-rmse:0.290303\n",
      "[78]\ttrain-rmse:0.286271\tvalid-rmse:0.290125\n",
      "[79]\ttrain-rmse:0.285904\tvalid-rmse:0.289814\n",
      "[80]\ttrain-rmse:0.285521\tvalid-rmse:0.289482\n",
      "[81]\ttrain-rmse:0.285255\tvalid-rmse:0.289274\n",
      "[82]\ttrain-rmse:0.285098\tvalid-rmse:0.289178\n",
      "[83]\ttrain-rmse:0.284642\tvalid-rmse:0.288796\n",
      "[84]\ttrain-rmse:0.284421\tvalid-rmse:0.288614\n",
      "[85]\ttrain-rmse:0.284193\tvalid-rmse:0.288428\n",
      "[86]\ttrain-rmse:0.28395\tvalid-rmse:0.288229\n",
      "[87]\ttrain-rmse:0.283662\tvalid-rmse:0.287986\n",
      "[88]\ttrain-rmse:0.283422\tvalid-rmse:0.287793\n",
      "[89]\ttrain-rmse:0.283302\tvalid-rmse:0.287699\n",
      "[90]\ttrain-rmse:0.283065\tvalid-rmse:0.287505\n",
      "[91]\ttrain-rmse:0.282899\tvalid-rmse:0.287389\n",
      "[92]\ttrain-rmse:0.282739\tvalid-rmse:0.287279\n",
      "[93]\ttrain-rmse:0.282513\tvalid-rmse:0.287129\n",
      "[94]\ttrain-rmse:0.282287\tvalid-rmse:0.286966\n",
      "[95]\ttrain-rmse:0.28202\tvalid-rmse:0.286727\n",
      "[96]\ttrain-rmse:0.281604\tvalid-rmse:0.286363\n",
      "[97]\ttrain-rmse:0.281395\tvalid-rmse:0.286215\n",
      "[98]\ttrain-rmse:0.281244\tvalid-rmse:0.286117\n",
      "[99]\ttrain-rmse:0.28106\tvalid-rmse:0.285992\n",
      "[100]\ttrain-rmse:0.28081\tvalid-rmse:0.285806\n",
      "[101]\ttrain-rmse:0.280719\tvalid-rmse:0.285736\n",
      "[102]\ttrain-rmse:0.280544\tvalid-rmse:0.285604\n",
      "[103]\ttrain-rmse:0.28046\tvalid-rmse:0.28555\n",
      "[104]\ttrain-rmse:0.280274\tvalid-rmse:0.285394\n",
      "[105]\ttrain-rmse:0.280074\tvalid-rmse:0.285244\n",
      "[106]\ttrain-rmse:0.279819\tvalid-rmse:0.28504\n",
      "[107]\ttrain-rmse:0.279669\tvalid-rmse:0.284926\n",
      "[108]\ttrain-rmse:0.279438\tvalid-rmse:0.28474\n",
      "[109]\ttrain-rmse:0.279095\tvalid-rmse:0.284453\n",
      "[110]\ttrain-rmse:0.27894\tvalid-rmse:0.284339\n",
      "[111]\ttrain-rmse:0.278817\tvalid-rmse:0.28426\n",
      "[112]\ttrain-rmse:0.278574\tvalid-rmse:0.284068\n",
      "[113]\ttrain-rmse:0.278302\tvalid-rmse:0.283817\n",
      "[114]\ttrain-rmse:0.278147\tvalid-rmse:0.283687\n",
      "[115]\ttrain-rmse:0.277954\tvalid-rmse:0.283548\n",
      "[116]\ttrain-rmse:0.277781\tvalid-rmse:0.283424\n",
      "[117]\ttrain-rmse:0.277573\tvalid-rmse:0.28327\n",
      "[118]\ttrain-rmse:0.277381\tvalid-rmse:0.283129\n",
      "[119]\ttrain-rmse:0.27716\tvalid-rmse:0.282969\n",
      "[120]\ttrain-rmse:0.277062\tvalid-rmse:0.282914\n",
      "[121]\ttrain-rmse:0.276925\tvalid-rmse:0.282823\n",
      "[122]\ttrain-rmse:0.27676\tvalid-rmse:0.282702\n",
      "[123]\ttrain-rmse:0.276519\tvalid-rmse:0.282525\n",
      "[124]\ttrain-rmse:0.276286\tvalid-rmse:0.28235\n",
      "[125]\ttrain-rmse:0.27613\tvalid-rmse:0.282221\n",
      "[126]\ttrain-rmse:0.275945\tvalid-rmse:0.282073\n",
      "[127]\ttrain-rmse:0.275843\tvalid-rmse:0.282014\n",
      "[128]\ttrain-rmse:0.275745\tvalid-rmse:0.281958\n",
      "[129]\ttrain-rmse:0.275629\tvalid-rmse:0.28189\n",
      "[130]\ttrain-rmse:0.275488\tvalid-rmse:0.281797\n",
      "[131]\ttrain-rmse:0.27535\tvalid-rmse:0.281696\n",
      "[132]\ttrain-rmse:0.275251\tvalid-rmse:0.281644\n",
      "[133]\ttrain-rmse:0.274761\tvalid-rmse:0.281237\n",
      "[134]\ttrain-rmse:0.274675\tvalid-rmse:0.281187\n",
      "[135]\ttrain-rmse:0.274576\tvalid-rmse:0.281107\n",
      "[136]\ttrain-rmse:0.274491\tvalid-rmse:0.281059\n",
      "[137]\ttrain-rmse:0.274383\tvalid-rmse:0.280987\n",
      "[138]\ttrain-rmse:0.274132\tvalid-rmse:0.280783\n",
      "[139]\ttrain-rmse:0.273984\tvalid-rmse:0.280699\n",
      "[140]\ttrain-rmse:0.273952\tvalid-rmse:0.280677\n",
      "[141]\ttrain-rmse:0.273875\tvalid-rmse:0.280632\n",
      "[142]\ttrain-rmse:0.273787\tvalid-rmse:0.280574\n",
      "[143]\ttrain-rmse:0.273707\tvalid-rmse:0.280509\n",
      "[144]\ttrain-rmse:0.273619\tvalid-rmse:0.280471\n",
      "[145]\ttrain-rmse:0.273518\tvalid-rmse:0.280392\n",
      "[146]\ttrain-rmse:0.273462\tvalid-rmse:0.280371\n",
      "[147]\ttrain-rmse:0.27336\tvalid-rmse:0.280292\n",
      "[148]\ttrain-rmse:0.273261\tvalid-rmse:0.280228\n",
      "[149]\ttrain-rmse:0.273133\tvalid-rmse:0.280149\n",
      "[150]\ttrain-rmse:0.273086\tvalid-rmse:0.280127\n",
      "[151]\ttrain-rmse:0.273034\tvalid-rmse:0.280108\n",
      "[152]\ttrain-rmse:0.272817\tvalid-rmse:0.27994\n",
      "[153]\ttrain-rmse:0.272691\tvalid-rmse:0.279863\n",
      "[154]\ttrain-rmse:0.272642\tvalid-rmse:0.279844\n",
      "[155]\ttrain-rmse:0.272531\tvalid-rmse:0.279783\n",
      "[156]\ttrain-rmse:0.272385\tvalid-rmse:0.279669\n",
      "[157]\ttrain-rmse:0.272306\tvalid-rmse:0.279627\n",
      "[158]\ttrain-rmse:0.272186\tvalid-rmse:0.279551\n",
      "[159]\ttrain-rmse:0.271979\tvalid-rmse:0.27939\n",
      "[160]\ttrain-rmse:0.271862\tvalid-rmse:0.279293\n",
      "[161]\ttrain-rmse:0.271699\tvalid-rmse:0.279176\n",
      "[162]\ttrain-rmse:0.271611\tvalid-rmse:0.279123\n",
      "[163]\ttrain-rmse:0.271498\tvalid-rmse:0.279052\n",
      "[164]\ttrain-rmse:0.271376\tvalid-rmse:0.27898\n",
      "[165]\ttrain-rmse:0.271322\tvalid-rmse:0.278962\n",
      "[166]\ttrain-rmse:0.271224\tvalid-rmse:0.278899\n",
      "[167]\ttrain-rmse:0.271079\tvalid-rmse:0.27881\n",
      "[168]\ttrain-rmse:0.270975\tvalid-rmse:0.278743\n",
      "[169]\ttrain-rmse:0.270878\tvalid-rmse:0.278679\n",
      "[170]\ttrain-rmse:0.270583\tvalid-rmse:0.278449\n",
      "[171]\ttrain-rmse:0.270331\tvalid-rmse:0.27824\n",
      "[172]\ttrain-rmse:0.270229\tvalid-rmse:0.278181\n",
      "[173]\ttrain-rmse:0.270156\tvalid-rmse:0.278142\n",
      "[174]\ttrain-rmse:0.270044\tvalid-rmse:0.278069\n",
      "[175]\ttrain-rmse:0.269963\tvalid-rmse:0.278012\n",
      "[176]\ttrain-rmse:0.269901\tvalid-rmse:0.277976\n",
      "[177]\ttrain-rmse:0.269826\tvalid-rmse:0.277945\n",
      "[178]\ttrain-rmse:0.269769\tvalid-rmse:0.277922\n",
      "[179]\ttrain-rmse:0.269737\tvalid-rmse:0.277915\n"
     ]
    },
    {
     "name": "stdout",
     "output_type": "stream",
     "text": [
      "[180]\ttrain-rmse:0.269686\tvalid-rmse:0.277895\n",
      "[181]\ttrain-rmse:0.269546\tvalid-rmse:0.277803\n",
      "[182]\ttrain-rmse:0.269493\tvalid-rmse:0.277777\n",
      "[183]\ttrain-rmse:0.269437\tvalid-rmse:0.277758\n",
      "[184]\ttrain-rmse:0.269336\tvalid-rmse:0.277697\n",
      "[185]\ttrain-rmse:0.269263\tvalid-rmse:0.277662\n",
      "[186]\ttrain-rmse:0.269215\tvalid-rmse:0.277638\n",
      "[187]\ttrain-rmse:0.269145\tvalid-rmse:0.277604\n",
      "[188]\ttrain-rmse:0.269038\tvalid-rmse:0.277532\n",
      "[189]\ttrain-rmse:0.268971\tvalid-rmse:0.277507\n",
      "[190]\ttrain-rmse:0.268923\tvalid-rmse:0.277488\n",
      "[191]\ttrain-rmse:0.268851\tvalid-rmse:0.277444\n",
      "[192]\ttrain-rmse:0.268798\tvalid-rmse:0.277415\n",
      "[193]\ttrain-rmse:0.268753\tvalid-rmse:0.277398\n",
      "[194]\ttrain-rmse:0.268687\tvalid-rmse:0.277362\n",
      "[195]\ttrain-rmse:0.268602\tvalid-rmse:0.277317\n",
      "[196]\ttrain-rmse:0.268537\tvalid-rmse:0.277282\n",
      "[197]\ttrain-rmse:0.268481\tvalid-rmse:0.27725\n",
      "[198]\ttrain-rmse:0.268449\tvalid-rmse:0.277238\n",
      "[199]\ttrain-rmse:0.268415\tvalid-rmse:0.277232\n",
      "[200]\ttrain-rmse:0.268333\tvalid-rmse:0.277184\n",
      "[201]\ttrain-rmse:0.268229\tvalid-rmse:0.277115\n",
      "[202]\ttrain-rmse:0.268199\tvalid-rmse:0.277102\n",
      "[203]\ttrain-rmse:0.268121\tvalid-rmse:0.277062\n",
      "[204]\ttrain-rmse:0.26805\tvalid-rmse:0.277022\n",
      "[205]\ttrain-rmse:0.267964\tvalid-rmse:0.276978\n",
      "[206]\ttrain-rmse:0.267814\tvalid-rmse:0.276873\n",
      "[207]\ttrain-rmse:0.267738\tvalid-rmse:0.276826\n",
      "[208]\ttrain-rmse:0.267701\tvalid-rmse:0.27681\n",
      "[209]\ttrain-rmse:0.26765\tvalid-rmse:0.276797\n",
      "[210]\ttrain-rmse:0.267597\tvalid-rmse:0.276769\n",
      "[211]\ttrain-rmse:0.267495\tvalid-rmse:0.276708\n",
      "[212]\ttrain-rmse:0.267392\tvalid-rmse:0.276638\n",
      "[213]\ttrain-rmse:0.267304\tvalid-rmse:0.27658\n",
      "[214]\ttrain-rmse:0.267264\tvalid-rmse:0.276567\n",
      "[215]\ttrain-rmse:0.267226\tvalid-rmse:0.276556\n",
      "[216]\ttrain-rmse:0.267199\tvalid-rmse:0.276548\n",
      "[217]\ttrain-rmse:0.267132\tvalid-rmse:0.276509\n",
      "[218]\ttrain-rmse:0.267061\tvalid-rmse:0.276478\n",
      "[219]\ttrain-rmse:0.267043\tvalid-rmse:0.276468\n",
      "[220]\ttrain-rmse:0.266974\tvalid-rmse:0.276437\n",
      "[221]\ttrain-rmse:0.266874\tvalid-rmse:0.276382\n",
      "[222]\ttrain-rmse:0.266771\tvalid-rmse:0.276315\n",
      "[223]\ttrain-rmse:0.266701\tvalid-rmse:0.27629\n",
      "[224]\ttrain-rmse:0.266668\tvalid-rmse:0.276284\n",
      "[225]\ttrain-rmse:0.266615\tvalid-rmse:0.276253\n",
      "[226]\ttrain-rmse:0.266536\tvalid-rmse:0.276218\n",
      "[227]\ttrain-rmse:0.266453\tvalid-rmse:0.276168\n",
      "[228]\ttrain-rmse:0.266422\tvalid-rmse:0.276152\n",
      "[229]\ttrain-rmse:0.266383\tvalid-rmse:0.276134\n",
      "[230]\ttrain-rmse:0.266282\tvalid-rmse:0.276077\n",
      "[231]\ttrain-rmse:0.266197\tvalid-rmse:0.276029\n",
      "[232]\ttrain-rmse:0.266153\tvalid-rmse:0.276011\n",
      "[233]\ttrain-rmse:0.266092\tvalid-rmse:0.275977\n",
      "[234]\ttrain-rmse:0.266051\tvalid-rmse:0.275961\n",
      "[235]\ttrain-rmse:0.266009\tvalid-rmse:0.275941\n",
      "[236]\ttrain-rmse:0.265927\tvalid-rmse:0.275895\n",
      "[237]\ttrain-rmse:0.265896\tvalid-rmse:0.275889\n",
      "[238]\ttrain-rmse:0.265854\tvalid-rmse:0.275863\n",
      "[239]\ttrain-rmse:0.265802\tvalid-rmse:0.275841\n",
      "[240]\ttrain-rmse:0.265723\tvalid-rmse:0.275803\n",
      "[241]\ttrain-rmse:0.265675\tvalid-rmse:0.275784\n",
      "[242]\ttrain-rmse:0.265613\tvalid-rmse:0.275763\n",
      "[243]\ttrain-rmse:0.265565\tvalid-rmse:0.275745\n",
      "[244]\ttrain-rmse:0.265503\tvalid-rmse:0.275729\n",
      "[245]\ttrain-rmse:0.265427\tvalid-rmse:0.275684\n",
      "[246]\ttrain-rmse:0.265377\tvalid-rmse:0.275663\n",
      "[247]\ttrain-rmse:0.265348\tvalid-rmse:0.275661\n",
      "[248]\ttrain-rmse:0.265296\tvalid-rmse:0.275639\n",
      "[249]\ttrain-rmse:0.26525\tvalid-rmse:0.27563\n",
      "Modeling RMSE 0.27563\n",
      "Time taken by above cell is 34.\n"
     ]
    }
   ],
   "source": [
    "start = time.time()\n",
    "xgb_pars = {'min_child_weight': 15, 'eta': 0.1, 'colsample_bytree': 0.7, \n",
    "            'max_depth': 15, 'alpha' : 15,\n",
    "            'subsample': 0.7,'nthread': -1, 'booster' : 'gbtree', 'silent': 1,\n",
    "            'eval_metric': 'rmse', 'objective': 'reg:linear','lambda':1}\n",
    "model = xgb.train(xgb_pars, dtrain, 250, watchlist, early_stopping_rounds=2,\n",
    "      maximize=False, verbose_eval=1)\n",
    "print('Modeling RMSE %.5f' % model.best_score)\n",
    "\n",
    "end = time.time()\n",
    "print(\"Time taken by above cell is {}.\".format(round((end-start)/60),2))"
   ]
  },
  {
   "cell_type": "markdown",
   "metadata": {},
   "source": [
    "#### Feature Improtance"
   ]
  },
  {
   "cell_type": "code",
   "execution_count": 28,
   "metadata": {},
   "outputs": [
    {
     "data": {
      "text/plain": [
       "<matplotlib.axes._subplots.AxesSubplot at 0xd058e8d160>"
      ]
     },
     "execution_count": 28,
     "metadata": {},
     "output_type": "execute_result"
    },
    {
     "data": {
      "image/png": "[encoded data removed]",
      "text/plain": [
       "<Figure size 432x288 with 1 Axes>"
      ]
     },
     "metadata": {},
     "output_type": "display_data"
    }
   ],
   "source": [
    "xgb.plot_importance(model, max_num_features=28, height=0.5)"
   ]
  },
  {
   "cell_type": "markdown",
   "metadata": {},
   "source": [
    "#### Evaluate model performance"
   ]
  },
  {
   "cell_type": "code",
   "execution_count": 48,
   "metadata": {
    "scrolled": true
   },
   "outputs": [
    {
     "name": "stdout",
     "output_type": "stream",
     "text": [
      "            train      test\n",
      "metrics                    \n",
      "R2       0.851719  0.836598\n",
      "RMSE     0.268905  0.281782\n"
     ]
    }
   ],
   "source": [
    "# Make prediction on the training data\n",
    "y_train_pred = model.predict(dtrain)\n",
    "\n",
    "# Make predictions on test data\n",
    "y_test_pred = model.predict(dvalid)\n",
    "\n",
    "# Evaluate\n",
    "R2_Train = r2_score(y_train_pred, y_train)\n",
    "R2_Test = r2_score(y_test_pred, y_test)\n",
    "RMSE_Train = sqrt(mean_squared_error(y_train, y_train_pred))\n",
    "RMSE_Test = sqrt(mean_squared_error(y_test, y_test_pred))\n",
    "\n",
    "metric_names = ['R2','RMSE']\n",
    "metric_values_train = [R2_Train, RMSE_Train]\n",
    "metric_values_test = [R2_Test, RMSE_Test]\n",
    "all_metrics = pd.DataFrame({'metrics':metric_names,\n",
    "                            'train':metric_values_train,\n",
    "                            'test':metric_values_test},columns=['metrics','train','test']).set_index('metrics')\n",
    "print(all_metrics)\n"
   ]
  },
  {
   "cell_type": "code",
   "execution_count": 27,
   "metadata": {},
   "outputs": [
    {
     "name": "stdout",
     "output_type": "stream",
     "text": [
      "           train      test\n",
      "metrics                   \n",
      "R2       0.84290  0.830409\n",
      "RMSE     0.26525  0.275630\n"
     ]
    }
   ],
   "source": [
    "# Make prediction on the training data\n",
    "y_train_pred = model.predict(dtrain)\n",
    "\n",
    "# Make predictions on test data\n",
    "y_test_pred = model.predict(dvalid)\n",
    "\n",
    "# Evaluate\n",
    "R2_Train = r2_score(y_train_pred, y_train)\n",
    "R2_Test = r2_score(y_test_pred, y_test)\n",
    "RMSE_Train = sqrt(mean_squared_error(y_train, y_train_pred))\n",
    "RMSE_Test = sqrt(mean_squared_error(y_test, y_test_pred))\n",
    "\n",
    "metric_names = ['R2','RMSE']\n",
    "metric_values_train = [R2_Train, RMSE_Train]\n",
    "metric_values_test = [R2_Test, RMSE_Test]\n",
    "all_metrics = pd.DataFrame({'metrics':metric_names,\n",
    "                            'train':metric_values_train,\n",
    "                            'test':metric_values_test},columns=['metrics','train','test']).set_index('metrics')\n",
    "print(all_metrics)"
   ]
  },
  {
   "cell_type": "code",
   "execution_count": 29,
   "metadata": {},
   "outputs": [
    {
     "data": {
      "text/plain": [
       "(1621627, 29)"
      ]
     },
     "execution_count": 29,
     "metadata": {},
     "output_type": "execute_result"
    }
   ],
   "source": [
    "data.shape"
   ]
  },
  {
   "cell_type": "markdown",
   "metadata": {},
   "source": [
    "## Prediction"
   ]
  },
  {
   "cell_type": "code",
   "execution_count": null,
   "metadata": {},
   "outputs": [],
   "source": [
    "def haversine_(lat1, lng1, lat2, lng2):\n",
    "    \"\"\"function to calculate haversine distance between two co-ordinates\"\"\"\n",
    "    lat1, lng1, lat2, lng2 = map(np.radians, (lat1, lng1, lat2, lng2))\n",
    "    AVG_EARTH_RADIUS = 6371  # in km\n",
    "    lat = lat2 - lat1\n",
    "    lng = lng2 - lng1\n",
    "    d = np.sin(lat * 0.5) ** 2 + np.cos(lat1) * np.cos(lat2) * np.sin(lng * 0.5) ** 2\n",
    "    h = round(2 * AVG_EARTH_RADIUS * np.arcsin(np.sqrt(d)),3)\n",
    "    return(h)\n",
    "\n",
    "def manhattan_distance_pd(lat1, lng1, lat2, lng2):\n",
    "    \"\"\"function to calculate manhatten distance between pick_drop\"\"\"\n",
    "    a = haversine_(lat1, lng1, lat1, lng2)\n",
    "    b = haversine_(lat1, lng1, lat2, lng1)\n",
    "    return a + b\n",
    "\n",
    "def feature_engineer(data):\n",
    "    start = time.time()\n",
    "    \n",
    "    # create distance_in_km\n",
    "    data['haversine_distance'] = haversine_(data.pickup_latitude,data.pickup_longitude,data.dropoff_latitude,data.dropoff_longitude)\n",
    "\n",
    "    # create mahattan dist\n",
    "    data['manhattan_distance'] = manhattan_distance_pd(data.pickup_latitude,data.pickup_longitude,data.dropoff_latitude,data.dropoff_longitude)\n",
    "\n",
    "    # create bearing\n",
    "    data['bearing'] = bearing_array(data.pickup_latitude,data.pickup_longitude,data.dropoff_latitude,data.dropoff_longitude)\n",
    "\n",
    "    # create weekday\n",
    "    data[\"weekday\"] = data['pickup_datetime'].dt.dayofweek\n",
    "\n",
    "    # create holiday\n",
    "    us_holidays = holidays.UnitedStates()\n",
    "    data['holiday'] = data['date_of_year'].apply(lambda x: 1 if x in us_holidays else 0)\n",
    "    \n",
    "    # K-means clustering\n",
    "    location = data.loc[:, ['pickup_longitude', 'pickup_latitude', 'dropoff_longitude', 'dropoff_latitude']]\n",
    "    kmeans = KMeans(n_clusters=50, random_state=123, n_init = 10, n_jobs = 4).fit(location)\n",
    "    data['cluster'] = kmeans.labels_\n",
    "  \n",
    "    # create geo hash (clustering the pickup and dropoff spots)\n",
    "#     pickup = []\n",
    "    dropoff = []\n",
    "    for i in range(len(data)):\n",
    "        dropoff.append(ghh.encode(data.dropoff_longitude.iloc[i], data.dropoff_latitude.iloc[i], precision=5))\n",
    "\n",
    "    data['dropoff_geo_recode'] = dropoff\n",
    "    data[\"dropoff_geo_recode\"] = data[\"dropoff_geo_recode\"].astype('category').cat.codes\n",
    "\n",
    "    \n",
    "    end = time.time()\n",
    "    print(\"Time taken by above function is {}.\".format((end-start)/60))\n",
    "    \n",
    "    return(data)"
   ]
  },
  {
   "cell_type": "code",
   "execution_count": null,
   "metadata": {},
   "outputs": [],
   "source": [
    "# Create a function to be calculating memory usage\n",
    "def get_usage(obj):\n",
    "    if isinstance(obj, pd.DataFrame):\n",
    "        usage = obj.memory_usage(deep=True).sum()\n",
    "    else:\n",
    "        usage = obj.memory_usage(deep=True)\n",
    "    return \"{:03.2f} MB\".format(usage / (1024**2))\n",
    "\n",
    "def optimizing(data):\n",
    "    start = time.time()\n",
    "        \n",
    "    # Convert object to int\n",
    "    obj = data.select_dtypes(include = 'object')\n",
    "    obj_f32 = obj.apply(pd.to_numeric, downcast='unsigned')\n",
    "\n",
    "    # Convert int64 to int8\n",
    "    obj = data.select_dtypes(include = 'int64')\n",
    "    obj_int = obj.apply(pd.to_numeric, downcast='unsigned')\n",
    "\n",
    "    # Convert float64 to float32\n",
    "    obj = data.select_dtypes(include = 'float64')\n",
    "    obj_f = obj.apply(pd.to_numeric, downcast='float')\n",
    "\n",
    "    # Calculated the memory we reduced by down grade int and float\n",
    "    print(\"Original memory usage: \", get_usage(data))\n",
    "    data[obj_f32.columns] = obj_f32\n",
    "    data[obj_int.columns] = obj_int\n",
    "    data[obj_f.columns] = obj_f\n",
    "    print(\"After converting int and float memory usage: \", get_usage(data))\n",
    "    \n",
    "    end = time.time()\n",
    "    print(\"Time taken by above function is {}.\".format((end-start)/60))\n",
    "    \n",
    "    return(data)"
   ]
  },
  {
   "cell_type": "code",
   "execution_count": null,
   "metadata": {},
   "outputs": [],
   "source": [
    "def pre_processing(data, weather):\n",
    "    data = data.reset_index()\n",
    "    weather = weather[['day', 'month', 'prcp', 'sndp', 'fog', 'visib', 'mxpsd', 'wdsp','gust']]\n",
    "    data['pickup_datetime'] = pd.to_datetime(data['pickup_datetime'])\n",
    "    data['date_of_year'] = pd.to_datetime(data['pickup_datetime'].dt.date)\n",
    "    data['month_of_year'] = data['pickup_datetime'].dt.month\n",
    "    data['pickup_hour'] = data['pickup_datetime'].dt.hour\n",
    "    data['day_of_year'] = data['pickup_datetime'].dt.day\n",
    "    data = pd.merge(data, weather, how = 'inner', left_on = ['day_of_year','month_of_year'], right_on = ['day','month'])\n",
    "    data = data.sort_values(by=['index']).reset_index()\n",
    "    return(data)"
   ]
  },
  {
   "cell_type": "markdown",
   "metadata": {},
   "source": [
    "#### Loading Testing Data"
   ]
  },
  {
   "cell_type": "code",
   "execution_count": null,
   "metadata": {},
   "outputs": [],
   "source": [
    "taxi = pd.read_csv(\"./APM4990_final_test_data_filtered.csv\")\n",
    "weather_2015 = pd.read_csv(\"./weather_2015_cleaned.csv\")"
   ]
  },
  {
   "cell_type": "markdown",
   "metadata": {},
   "source": [
    "#### Pre-processing"
   ]
  },
  {
   "cell_type": "code",
   "execution_count": null,
   "metadata": {},
   "outputs": [],
   "source": [
    "test = pre_processing(taxi, weather_2015)"
   ]
  },
  {
   "cell_type": "markdown",
   "metadata": {},
   "source": [
    "#### Feature Engineer"
   ]
  },
  {
   "cell_type": "code",
   "execution_count": null,
   "metadata": {},
   "outputs": [],
   "source": [
    "test = feature_engineer(test)"
   ]
  },
  {
   "cell_type": "markdown",
   "metadata": {},
   "source": [
    "#### Data Optimiziing"
   ]
  },
  {
   "cell_type": "code",
   "execution_count": null,
   "metadata": {},
   "outputs": [],
   "source": [
    "test = optimizing(test)"
   ]
  },
  {
   "cell_type": "code",
   "execution_count": null,
   "metadata": {},
   "outputs": [],
   "source": [
    "selected_features = ['month_of_year', 'day_of_year', 'pickup_hour', 'pickup_longitude', 'pickup_latitude', 'dropoff_longitude', 'cluster',\n",
    "       'dropoff_latitude', 'passenger_count', 'bearing',  'prcp', 'sndp', 'fog', 'weekday', 'holiday', 'manhattan_distance','haversine_distance','dropoff_geo_recode']\n",
    "\n",
    "test = test[selected_features]"
   ]
  },
  {
   "cell_type": "code",
   "execution_count": null,
   "metadata": {},
   "outputs": [],
   "source": [
    "y_pred_GBDT = np.exp(GBDT.predict(test))"
   ]
  },
  {
   "cell_type": "code",
   "execution_count": null,
   "metadata": {},
   "outputs": [],
   "source": [
    "result = pd.DataFrame({'predictions':y_pred_GBDT})"
   ]
  },
  {
   "cell_type": "code",
   "execution_count": null,
   "metadata": {},
   "outputs": [],
   "source": [
    "result.to_csv('./result.csv',index = False)"
   ]
  },
  {
   "cell_type": "code",
   "execution_count": null,
   "metadata": {},
   "outputs": [],
   "source": []
  }
 ],
 "metadata": {
  "kernelspec": {
   "display_name": "Python 3",
   "language": "python",
   "name": "python3"
  },
  "language_info": {
   "codemirror_mode": {
    "name": "ipython",
    "version": 3
   },
   "file_extension": ".py",
   "mimetype": "text/x-python",
   "name": "python",
   "nbconvert_exporter": "python",
   "pygments_lexer": "ipython3",
   "version": "3.7.0"
  }
 },
 "nbformat": 4,
 "nbformat_minor": 2
}
