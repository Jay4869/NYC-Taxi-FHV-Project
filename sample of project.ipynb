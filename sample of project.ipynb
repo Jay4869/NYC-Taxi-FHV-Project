{
 "cells": [
  {
   "cell_type": "markdown",
   "metadata": {},
   "source": [
    "# Final Project Sketch :(\n"
   ]
  },
  {
   "cell_type": "code",
   "execution_count": 8,
   "metadata": {},
   "outputs": [],
   "source": [
    "import pandas as pd\n",
    "import numpy as np\n",
    "import os\n",
    "from math import sin, cos, sqrt, atan2, radians\n",
    "import time\n",
    "import matplotlib.pyplot as plt\n",
    "import datetime\n",
    "\n",
    "\n",
    "%matplotlib inline\n",
    "\n",
    "pd.set_option('display.max_columns', 500)\n",
    "os.environ[\"GOOGLE_APPLICATION_CREDENTIALS\"]=\"E:/GitHub/NYU-Taxi-project/My First Project-b3735f3b3a9d.json\"\n",
    "from google.cloud import bigquery\n",
    "client = bigquery.Client()"
   ]
  },
  {
   "cell_type": "markdown",
   "metadata": {},
   "source": [
    "## Query Data from BigQuery"
   ]
  },
  {
   "cell_type": "code",
   "execution_count": 14,
   "metadata": {},
   "outputs": [
    {
     "name": "stdout",
     "output_type": "stream",
     "text": [
      "Time taken by above cell is 4.766623584429423.\n"
     ]
    }
   ],
   "source": [
    "start = time.time()\n",
    "query = (\n",
    "\"\"\"\n",
    "SELECT date_of_year, month_of_year, day_of_year, pickup_hour,\n",
    "    dropoff_datetime,pickup_datetime,\n",
    "    pickup_longitude,pickup_latitude,dropoff_longitude,dropoff_latitude, travel_time,\n",
    "    temp, visib,mxpsd,wdsp,gust,max,min,prcp,sndp,fog,rain_drizzle,snow_ice_pellets,hail,thunder\n",
    "FROM\n",
    "(\n",
    "      SELECT *,ROW_NUMBER() OVER(partition by date_of_year, pickup_hour) as row_number\n",
    "      FROM\n",
    "      (\n",
    "            SELECT pickup_datetime, dropoff_datetime, pickup_latitude, pickup_longitude, dropoff_latitude, dropoff_longitude,\n",
    "            EXTRACT (HOUR FROM pickup_datetime) as pickup_hour,\n",
    "            EXTRACT (DAY FROM pickup_datetime) as day_of_year,\n",
    "            EXTRACT (MONTH FROM pickup_datetime) as month_of_year,\n",
    "            EXTRACT (DATE FROM pickup_datetime) as date_of_year,\n",
    "            TIMESTAMP_DIFF(TIMESTAMP(dropoff_datetime), TIMESTAMP(pickup_datetime), SECOND) as travel_time\n",
    "            FROM `bigquery-public-data.new_york_taxi_trips.tlc_yellow_trips_2016`\n",
    "            WHERE pickup_latitude IS NOT NULL AND pickup_longitude IS NOT NULL and\n",
    "                dropoff_longitude IS NOT NULL and dropoff_latitude IS NOT NULL\n",
    "      ) x\n",
    ") x\n",
    "JOIN\n",
    "(\n",
    " select cast(mo as int64) as month,cast(da as int64) as day,temp,visib,mxpsd,wdsp,gust,max,min,prcp,sndp,fog,rain_drizzle,snow_ice_pellets,hail,thunder\n",
    " from `bigquery-public-data.noaa_gsod.gsod2016` where stn='725053'\n",
    ") y on x.month_of_year = y.month and x.day_of_year = y.day\n",
    "where x.row_number <= 200\n",
    "\"\"\"\n",
    ")\n",
    "data=pd.io.gbq.read_gbq(query,dialect='standard')\n",
    "end = time.time()\n",
    "print(\"Time taken by above cell is {}.\".format((end-start)/60))"
   ]
  },
  {
   "cell_type": "code",
   "execution_count": 84,
   "metadata": {},
   "outputs": [
    {
     "data": {
      "text/html": [
       "<div>\n",
       "<style scoped>\n",
       "    .dataframe tbody tr th:only-of-type {\n",
       "        vertical-align: middle;\n",
       "    }\n",
       "\n",
       "    .dataframe tbody tr th {\n",
       "        vertical-align: top;\n",
       "    }\n",
       "\n",
       "    .dataframe thead th {\n",
       "        text-align: right;\n",
       "    }\n",
       "</style>\n",
       "<table border=\"1\" class=\"dataframe\">\n",
       "  <thead>\n",
       "    <tr style=\"text-align: right;\">\n",
       "      <th></th>\n",
       "      <th>date_of_year</th>\n",
       "      <th>month_of_year</th>\n",
       "      <th>day_of_year</th>\n",
       "      <th>pickup_hour</th>\n",
       "      <th>dropoff_datetime</th>\n",
       "      <th>pickup_datetime</th>\n",
       "      <th>pickup_longitude</th>\n",
       "      <th>pickup_latitude</th>\n",
       "      <th>dropoff_longitude</th>\n",
       "      <th>dropoff_latitude</th>\n",
       "      <th>travel_time</th>\n",
       "      <th>temp</th>\n",
       "      <th>visib</th>\n",
       "      <th>mxpsd</th>\n",
       "      <th>wdsp</th>\n",
       "      <th>gust</th>\n",
       "      <th>max</th>\n",
       "      <th>min</th>\n",
       "      <th>prcp</th>\n",
       "      <th>sndp</th>\n",
       "      <th>fog</th>\n",
       "      <th>rain_drizzle</th>\n",
       "      <th>snow_ice_pellets</th>\n",
       "      <th>hail</th>\n",
       "      <th>thunder</th>\n",
       "    </tr>\n",
       "  </thead>\n",
       "  <tbody>\n",
       "    <tr>\n",
       "      <th>0</th>\n",
       "      <td>2016-01-24</td>\n",
       "      <td>1</td>\n",
       "      <td>24</td>\n",
       "      <td>14</td>\n",
       "      <td>2016-01-24 15:00:00</td>\n",
       "      <td>2016-01-24 14:09:49</td>\n",
       "      <td>-73.981178</td>\n",
       "      <td>40.763863</td>\n",
       "      <td>-73.782532</td>\n",
       "      <td>40.644104</td>\n",
       "      <td>3011</td>\n",
       "      <td>26.7</td>\n",
       "      <td>7.4</td>\n",
       "      <td>17.1</td>\n",
       "      <td>6.3</td>\n",
       "      <td>26.0</td>\n",
       "      <td>35.1</td>\n",
       "      <td>19.9</td>\n",
       "      <td>1.82</td>\n",
       "      <td>5.9</td>\n",
       "      <td>1</td>\n",
       "      <td>0</td>\n",
       "      <td>1</td>\n",
       "      <td>0</td>\n",
       "      <td>0</td>\n",
       "    </tr>\n",
       "    <tr>\n",
       "      <th>1</th>\n",
       "      <td>2016-01-24</td>\n",
       "      <td>1</td>\n",
       "      <td>24</td>\n",
       "      <td>14</td>\n",
       "      <td>2016-01-24 14:46:18</td>\n",
       "      <td>2016-01-24 14:23:51</td>\n",
       "      <td>-74.001999</td>\n",
       "      <td>40.728172</td>\n",
       "      <td>-73.988266</td>\n",
       "      <td>40.759232</td>\n",
       "      <td>1347</td>\n",
       "      <td>26.7</td>\n",
       "      <td>7.4</td>\n",
       "      <td>17.1</td>\n",
       "      <td>6.3</td>\n",
       "      <td>26.0</td>\n",
       "      <td>35.1</td>\n",
       "      <td>19.9</td>\n",
       "      <td>1.82</td>\n",
       "      <td>5.9</td>\n",
       "      <td>1</td>\n",
       "      <td>0</td>\n",
       "      <td>1</td>\n",
       "      <td>0</td>\n",
       "      <td>0</td>\n",
       "    </tr>\n",
       "    <tr>\n",
       "      <th>2</th>\n",
       "      <td>2016-01-24</td>\n",
       "      <td>1</td>\n",
       "      <td>24</td>\n",
       "      <td>14</td>\n",
       "      <td>2016-01-24 14:05:28</td>\n",
       "      <td>2016-01-24 14:00:46</td>\n",
       "      <td>-73.977997</td>\n",
       "      <td>40.742031</td>\n",
       "      <td>-73.975990</td>\n",
       "      <td>40.751331</td>\n",
       "      <td>282</td>\n",
       "      <td>26.7</td>\n",
       "      <td>7.4</td>\n",
       "      <td>17.1</td>\n",
       "      <td>6.3</td>\n",
       "      <td>26.0</td>\n",
       "      <td>35.1</td>\n",
       "      <td>19.9</td>\n",
       "      <td>1.82</td>\n",
       "      <td>5.9</td>\n",
       "      <td>1</td>\n",
       "      <td>0</td>\n",
       "      <td>1</td>\n",
       "      <td>0</td>\n",
       "      <td>0</td>\n",
       "    </tr>\n",
       "    <tr>\n",
       "      <th>3</th>\n",
       "      <td>2016-01-24</td>\n",
       "      <td>1</td>\n",
       "      <td>24</td>\n",
       "      <td>14</td>\n",
       "      <td>2016-01-24 14:18:33</td>\n",
       "      <td>2016-01-24 14:06:42</td>\n",
       "      <td>-73.981468</td>\n",
       "      <td>40.778969</td>\n",
       "      <td>-73.959068</td>\n",
       "      <td>40.809368</td>\n",
       "      <td>711</td>\n",
       "      <td>26.7</td>\n",
       "      <td>7.4</td>\n",
       "      <td>17.1</td>\n",
       "      <td>6.3</td>\n",
       "      <td>26.0</td>\n",
       "      <td>35.1</td>\n",
       "      <td>19.9</td>\n",
       "      <td>1.82</td>\n",
       "      <td>5.9</td>\n",
       "      <td>1</td>\n",
       "      <td>0</td>\n",
       "      <td>1</td>\n",
       "      <td>0</td>\n",
       "      <td>0</td>\n",
       "    </tr>\n",
       "    <tr>\n",
       "      <th>4</th>\n",
       "      <td>2016-01-24</td>\n",
       "      <td>1</td>\n",
       "      <td>24</td>\n",
       "      <td>14</td>\n",
       "      <td>2016-01-24 14:18:29</td>\n",
       "      <td>2016-01-24 14:10:10</td>\n",
       "      <td>-74.016273</td>\n",
       "      <td>40.710487</td>\n",
       "      <td>-74.006577</td>\n",
       "      <td>40.732365</td>\n",
       "      <td>499</td>\n",
       "      <td>26.7</td>\n",
       "      <td>7.4</td>\n",
       "      <td>17.1</td>\n",
       "      <td>6.3</td>\n",
       "      <td>26.0</td>\n",
       "      <td>35.1</td>\n",
       "      <td>19.9</td>\n",
       "      <td>1.82</td>\n",
       "      <td>5.9</td>\n",
       "      <td>1</td>\n",
       "      <td>0</td>\n",
       "      <td>1</td>\n",
       "      <td>0</td>\n",
       "      <td>0</td>\n",
       "    </tr>\n",
       "  </tbody>\n",
       "</table>\n",
       "</div>"
      ],
      "text/plain": [
       "  date_of_year  month_of_year  day_of_year  pickup_hour    dropoff_datetime  \\\n",
       "0   2016-01-24              1           24           14 2016-01-24 15:00:00   \n",
       "1   2016-01-24              1           24           14 2016-01-24 14:46:18   \n",
       "2   2016-01-24              1           24           14 2016-01-24 14:05:28   \n",
       "3   2016-01-24              1           24           14 2016-01-24 14:18:33   \n",
       "4   2016-01-24              1           24           14 2016-01-24 14:18:29   \n",
       "\n",
       "      pickup_datetime  pickup_longitude  pickup_latitude  dropoff_longitude  \\\n",
       "0 2016-01-24 14:09:49        -73.981178        40.763863         -73.782532   \n",
       "1 2016-01-24 14:23:51        -74.001999        40.728172         -73.988266   \n",
       "2 2016-01-24 14:00:46        -73.977997        40.742031         -73.975990   \n",
       "3 2016-01-24 14:06:42        -73.981468        40.778969         -73.959068   \n",
       "4 2016-01-24 14:10:10        -74.016273        40.710487         -74.006577   \n",
       "\n",
       "   dropoff_latitude  travel_time  temp  visib mxpsd wdsp  gust   max   min  \\\n",
       "0         40.644104         3011  26.7    7.4  17.1  6.3  26.0  35.1  19.9   \n",
       "1         40.759232         1347  26.7    7.4  17.1  6.3  26.0  35.1  19.9   \n",
       "2         40.751331          282  26.7    7.4  17.1  6.3  26.0  35.1  19.9   \n",
       "3         40.809368          711  26.7    7.4  17.1  6.3  26.0  35.1  19.9   \n",
       "4         40.732365          499  26.7    7.4  17.1  6.3  26.0  35.1  19.9   \n",
       "\n",
       "   prcp  sndp fog rain_drizzle snow_ice_pellets hail thunder  \n",
       "0  1.82   5.9   1            0                1    0       0  \n",
       "1  1.82   5.9   1            0                1    0       0  \n",
       "2  1.82   5.9   1            0                1    0       0  \n",
       "3  1.82   5.9   1            0                1    0       0  \n",
       "4  1.82   5.9   1            0                1    0       0  "
      ]
     },
     "execution_count": 84,
     "metadata": {},
     "output_type": "execute_result"
    }
   ],
   "source": [
    "data.head()"
   ]
  },
  {
   "cell_type": "markdown",
   "metadata": {},
   "source": [
    "## Summary of Data"
   ]
  },
  {
   "cell_type": "code",
   "execution_count": 3,
   "metadata": {
    "scrolled": true
   },
   "outputs": [
    {
     "name": "stdout",
     "output_type": "stream",
     "text": [
      "<class 'pandas.core.frame.DataFrame'>\n",
      "Int64Index: 435709 entries, 0 to 38318\n",
      "Data columns (total 25 columns):\n",
      "date_of_year         435709 non-null datetime64[ns]\n",
      "month_of_year        435709 non-null int64\n",
      "day_of_year          435709 non-null int64\n",
      "pickup_hour          435709 non-null int64\n",
      "dropoff_datetime     435709 non-null datetime64[ns]\n",
      "pickup_datetime      435709 non-null datetime64[ns]\n",
      "pickup_longitude     435709 non-null float64\n",
      "pickup_latitude      435709 non-null float64\n",
      "dropoff_longitude    435709 non-null float64\n",
      "dropoff_latitude     435709 non-null float64\n",
      "travel_time          435709 non-null int64\n",
      "temp                 435709 non-null float64\n",
      "visib                435709 non-null float64\n",
      "mxpsd                435709 non-null object\n",
      "wdsp                 435709 non-null object\n",
      "gust                 435709 non-null float64\n",
      "max                  435709 non-null float64\n",
      "min                  435709 non-null float64\n",
      "prcp                 435709 non-null float64\n",
      "sndp                 435709 non-null float64\n",
      "fog                  435709 non-null object\n",
      "rain_drizzle         435709 non-null object\n",
      "snow_ice_pellets     435709 non-null object\n",
      "hail                 435709 non-null object\n",
      "thunder              435709 non-null object\n",
      "dtypes: datetime64[ns](3), float64(11), int64(4), object(7)\n",
      "memory usage: 242.1 MB\n"
     ]
    }
   ],
   "source": [
    "# Return high level information about data\n",
    "data.info(memory_usage = 'deep')"
   ]
  },
  {
   "cell_type": "markdown",
   "metadata": {},
   "source": [
    "## Create/Transform features"
   ]
  },
  {
   "cell_type": "code",
   "execution_count": 24,
   "metadata": {},
   "outputs": [],
   "source": [
    "data[\"weekday\"] = data['pickup_datetime'].dt.dayofweek\n",
    "\n",
    "data['travel_time'] = round(data['travel_time']/60, 2)"
   ]
  },
  {
   "cell_type": "markdown",
   "metadata": {},
   "source": [
    "## Process Missing Data & Outlier"
   ]
  },
  {
   "cell_type": "code",
   "execution_count": 16,
   "metadata": {},
   "outputs": [
    {
     "data": {
      "image/png": "[encoded data removed]",
      "text/plain": [
       "<Figure size 432x288 with 1 Axes>"
      ]
     },
     "metadata": {
      "needs_background": "light"
     },
     "output_type": "display_data"
    }
   ],
   "source": [
    "data['pickup_latitude'].hist(bins=20)\n",
    "data['pickup_longitude'].hist(bins=20)\n",
    "\n",
    "data = data[(data['pickup_longitude'] >= -79.7624) & (data['pickup_longitude'] <= -71.7517) &\n",
    "                    (data['pickup_latitude'] >= 40.4772) & (data['pickup_latitude'] <= 45.0153)]\n",
    "\n",
    "data = data[(data['dropoff_longitude'] >= -79.7624) & (data['dropoff_longitude'] <= -71.7517) &\n",
    "                    (data['dropoff_latitude'] >= 40.4772) & (data['dropoff_latitude'] <= 45.0153)]"
   ]
  },
  {
   "cell_type": "code",
   "execution_count": 17,
   "metadata": {
    "scrolled": true
   },
   "outputs": [],
   "source": [
    "R = 6373.0\n",
    "\n",
    "dlon = np.radians(data['dropoff_longitude']) - np.radians(data['pickup_longitude'])\n",
    "dlat = np.radians(data['dropoff_latitude']) - np.radians(data['pickup_latitude'])\n",
    "\n",
    "a = np.sin(dlat / 2)**2 + np.cos(data['pickup_latitude']) * np.cos(data['dropoff_latitude']) * np.sin(dlon / 2)**2\n",
    "c = 2 * np.arctan2(np.sqrt(a), np.sqrt(1-a))\n",
    "\n",
    "data['distance_in_km'] = R*c"
   ]
  },
  {
   "cell_type": "code",
   "execution_count": 18,
   "metadata": {},
   "outputs": [
    {
     "data": {
      "text/plain": [
       "<matplotlib.axes._subplots.AxesSubplot at 0x6a6c350a90>"
      ]
     },
     "execution_count": 18,
     "metadata": {},
     "output_type": "execute_result"
    },
    {
     "data": {
      "image/png": "[encoded data removed]",
      "text/plain": [
       "<Figure size 432x288 with 1 Axes>"
      ]
     },
     "metadata": {
      "needs_background": "light"
     },
     "output_type": "display_data"
    }
   ],
   "source": [
    "data.plot(x='distance_in_km',y='travel_time',kind='scatter')"
   ]
  },
  {
   "cell_type": "code",
   "execution_count": 27,
   "metadata": {},
   "outputs": [
    {
     "data": {
      "image/png": "[encoded data removed]",
      "text/plain": [
       "<Figure size 432x288 with 1 Axes>"
      ]
     },
     "metadata": {
      "needs_background": "light"
     },
     "output_type": "display_data"
    }
   ],
   "source": [
    "data_sm = data[(data['travel_time']>0) & (data['distance_in_km']<50)  & (data['travel_time']<1000)]\n",
    "\n",
    "data_sm.plot(x='distance_in_km',y='travel_time',kind='scatter')"
   ]
  },
  {
   "cell_type": "code",
   "execution_count": null,
   "metadata": {},
   "outputs": [],
   "source": []
  },
  {
   "cell_type": "code",
   "execution_count": null,
   "metadata": {},
   "outputs": [],
   "source": []
  },
  {
   "cell_type": "code",
   "execution_count": null,
   "metadata": {},
   "outputs": [],
   "source": []
  },
  {
   "cell_type": "code",
   "execution_count": null,
   "metadata": {},
   "outputs": [],
   "source": []
  },
  {
   "cell_type": "code",
   "execution_count": null,
   "metadata": {},
   "outputs": [],
   "source": []
  },
  {
   "cell_type": "code",
   "execution_count": null,
   "metadata": {},
   "outputs": [],
   "source": []
  },
  {
   "cell_type": "code",
   "execution_count": null,
   "metadata": {},
   "outputs": [],
   "source": []
  },
  {
   "cell_type": "markdown",
   "metadata": {},
   "source": [
    "## Optimize the memory usage"
   ]
  },
  {
   "cell_type": "code",
   "execution_count": 11,
   "metadata": {
    "scrolled": false
   },
   "outputs": [
    {
     "name": "stdout",
     "output_type": "stream",
     "text": [
      "Original memory usage:  440.32 MB\n",
      "After converting int and float memory usage:  383.01 MB\n"
     ]
    }
   ],
   "source": [
    "# # Create a function to be calculating memory usage\n",
    "# def get_usage(obj):\n",
    "#     if isinstance(obj, pd.DataFrame):\n",
    "#         usage = obj.memory_usage(deep=True).sum()\n",
    "#     else:\n",
    "#         usage = obj.memory_usage(deep=True)\n",
    "#     return \"{:03.2f} MB\".format(usage / (1024**2))\n",
    "\n",
    "# # Convert int64 to int8\n",
    "# obj = data.select_dtypes(include = 'int64')\n",
    "# obj_int = obj.apply(pd.to_numeric, downcast='unsigned')\n",
    "\n",
    "# # Convert float64 to float32\n",
    "# obj = data.select_dtypes(include = 'float64')\n",
    "# obj_f = obj.apply(pd.to_numeric, downcast='float')\n",
    "\n",
    "# # Calculated the memory we reduced by down grade int and float\n",
    "# data_opt = data.copy()\n",
    "# data_opt[obj_int.columns] = obj_int\n",
    "# data_opt[obj_f.columns] = obj_f\n",
    "# print(\"Original memory usage: \", get_usage(data))\n",
    "# print(\"After converting int and float memory usage: \", get_usage(data_opt))"
   ]
  },
  {
   "cell_type": "code",
   "execution_count": 10,
   "metadata": {
    "scrolled": false
   },
   "outputs": [
    {
     "data": {
      "text/plain": [
       "<matplotlib.axes._subplots.AxesSubplot at 0x6a67c61a20>"
      ]
     },
     "execution_count": 10,
     "metadata": {},
     "output_type": "execute_result"
    },
    {
     "data": {
      "image/png": "[encoded data removed]",
      "text/plain": [
       "<Figure size 432x288 with 1 Axes>"
      ]
     },
     "metadata": {
      "needs_background": "light"
     },
     "output_type": "display_data"
    }
   ],
   "source": [
    "#data = data[(data['distance_in_km'] > 0.1)]\n",
    "data.plot(x='distance_in_km',y='travel_time',kind='scatter')"
   ]
  },
  {
   "cell_type": "code",
   "execution_count": 35,
   "metadata": {},
   "outputs": [
    {
     "data": {
      "text/plain": [
       "<matplotlib.axes._subplots.AxesSubplot at 0x5112ebe5f8>"
      ]
     },
     "execution_count": 35,
     "metadata": {},
     "output_type": "execute_result"
    },
    {
     "data": {
      "image/png": "[encoded data removed]",
      "text/plain": [
       "<Figure size 432x288 with 1 Axes>"
      ]
     },
     "metadata": {
      "needs_background": "light"
     },
     "output_type": "display_data"
    }
   ],
   "source": [
    "data_opt['pickup_longitude'].hist(bins=30)"
   ]
  },
  {
   "cell_type": "code",
   "execution_count": 36,
   "metadata": {},
   "outputs": [
    {
     "data": {
      "text/plain": [
       "<matplotlib.axes._subplots.AxesSubplot at 0x5112a44b38>"
      ]
     },
     "execution_count": 36,
     "metadata": {},
     "output_type": "execute_result"
    },
    {
     "data": {
      "image/png": "[encoded data removed]",
      "text/plain": [
       "<Figure size 432x288 with 1 Axes>"
      ]
     },
     "metadata": {
      "needs_background": "light"
     },
     "output_type": "display_data"
    }
   ],
   "source": [
    "data_opt = data_opt[(data_opt['travel_time']>0) & (data_opt['distance_in_km']<5000)  & (data_opt['travel_time']<20000)]\n",
    "data_opt.plot(x='distance_in_km',y='travel_time',kind='scatter')"
   ]
  },
  {
   "cell_type": "code",
   "execution_count": 16,
   "metadata": {
    "scrolled": true
   },
   "outputs": [
    {
     "data": {
      "text/html": [
       "<div>\n",
       "<style scoped>\n",
       "    .dataframe tbody tr th:only-of-type {\n",
       "        vertical-align: middle;\n",
       "    }\n",
       "\n",
       "    .dataframe tbody tr th {\n",
       "        vertical-align: top;\n",
       "    }\n",
       "\n",
       "    .dataframe thead th {\n",
       "        text-align: right;\n",
       "    }\n",
       "</style>\n",
       "<table border=\"1\" class=\"dataframe\">\n",
       "  <thead>\n",
       "    <tr style=\"text-align: right;\">\n",
       "      <th></th>\n",
       "      <th>date_of_year</th>\n",
       "      <th>month_of_year</th>\n",
       "      <th>day_of_year</th>\n",
       "      <th>pickup_hour</th>\n",
       "      <th>dropoff_datetime</th>\n",
       "      <th>pickup_datetime</th>\n",
       "      <th>pickup_longitude</th>\n",
       "      <th>pickup_latitude</th>\n",
       "      <th>dropoff_longitude</th>\n",
       "      <th>dropoff_latitude</th>\n",
       "      <th>travel_time</th>\n",
       "      <th>temp</th>\n",
       "      <th>visib</th>\n",
       "      <th>wdsp</th>\n",
       "      <th>gust</th>\n",
       "      <th>max</th>\n",
       "      <th>min</th>\n",
       "      <th>prcp</th>\n",
       "      <th>sndp</th>\n",
       "      <th>fog</th>\n",
       "      <th>rain_drizzle</th>\n",
       "      <th>snow_ice_pellets</th>\n",
       "      <th>hail</th>\n",
       "      <th>thunder</th>\n",
       "      <th>distance_in_km</th>\n",
       "    </tr>\n",
       "  </thead>\n",
       "  <tbody>\n",
       "    <tr>\n",
       "      <th>0</th>\n",
       "      <td>2016-01-01</td>\n",
       "      <td>1</td>\n",
       "      <td>1</td>\n",
       "      <td>11</td>\n",
       "      <td>2016-01-01 11:10:51</td>\n",
       "      <td>2016-01-01 11:03:50</td>\n",
       "      <td>-73.968033</td>\n",
       "      <td>40.759506</td>\n",
       "      <td>-73.986877</td>\n",
       "      <td>40.735752</td>\n",
       "      <td>7</td>\n",
       "      <td>40.400002</td>\n",
       "      <td>10.0</td>\n",
       "      <td>6.5</td>\n",
       "      <td>22.9</td>\n",
       "      <td>48.0</td>\n",
       "      <td>37.0</td>\n",
       "      <td>0.03</td>\n",
       "      <td>999.900024</td>\n",
       "      <td>0</td>\n",
       "      <td>0</td>\n",
       "      <td>0</td>\n",
       "      <td>0</td>\n",
       "      <td>0</td>\n",
       "      <td>2.523361</td>\n",
       "    </tr>\n",
       "    <tr>\n",
       "      <th>1</th>\n",
       "      <td>2016-01-01</td>\n",
       "      <td>1</td>\n",
       "      <td>1</td>\n",
       "      <td>11</td>\n",
       "      <td>2016-01-01 12:10:58</td>\n",
       "      <td>2016-01-01 11:57:46</td>\n",
       "      <td>-73.997055</td>\n",
       "      <td>40.722179</td>\n",
       "      <td>-73.977394</td>\n",
       "      <td>40.758743</td>\n",
       "      <td>13</td>\n",
       "      <td>40.400002</td>\n",
       "      <td>10.0</td>\n",
       "      <td>6.5</td>\n",
       "      <td>22.9</td>\n",
       "      <td>48.0</td>\n",
       "      <td>37.0</td>\n",
       "      <td>0.03</td>\n",
       "      <td>999.900024</td>\n",
       "      <td>0</td>\n",
       "      <td>0</td>\n",
       "      <td>0</td>\n",
       "      <td>0</td>\n",
       "      <td>0</td>\n",
       "      <td>3.967209</td>\n",
       "    </tr>\n",
       "    <tr>\n",
       "      <th>2</th>\n",
       "      <td>2016-01-01</td>\n",
       "      <td>1</td>\n",
       "      <td>1</td>\n",
       "      <td>11</td>\n",
       "      <td>2016-01-01 11:35:34</td>\n",
       "      <td>2016-01-01 11:26:49</td>\n",
       "      <td>-73.983940</td>\n",
       "      <td>40.775303</td>\n",
       "      <td>-73.975273</td>\n",
       "      <td>40.759426</td>\n",
       "      <td>8</td>\n",
       "      <td>40.400002</td>\n",
       "      <td>10.0</td>\n",
       "      <td>6.5</td>\n",
       "      <td>22.9</td>\n",
       "      <td>48.0</td>\n",
       "      <td>37.0</td>\n",
       "      <td>0.03</td>\n",
       "      <td>999.900024</td>\n",
       "      <td>0</td>\n",
       "      <td>0</td>\n",
       "      <td>0</td>\n",
       "      <td>0</td>\n",
       "      <td>0</td>\n",
       "      <td>1.724558</td>\n",
       "    </tr>\n",
       "    <tr>\n",
       "      <th>4</th>\n",
       "      <td>2016-01-01</td>\n",
       "      <td>1</td>\n",
       "      <td>1</td>\n",
       "      <td>11</td>\n",
       "      <td>2016-01-01 11:33:30</td>\n",
       "      <td>2016-01-01 11:31:48</td>\n",
       "      <td>-73.967598</td>\n",
       "      <td>40.755981</td>\n",
       "      <td>-73.976486</td>\n",
       "      <td>40.743851</td>\n",
       "      <td>1</td>\n",
       "      <td>40.400002</td>\n",
       "      <td>10.0</td>\n",
       "      <td>6.5</td>\n",
       "      <td>22.9</td>\n",
       "      <td>48.0</td>\n",
       "      <td>37.0</td>\n",
       "      <td>0.03</td>\n",
       "      <td>999.900024</td>\n",
       "      <td>0</td>\n",
       "      <td>0</td>\n",
       "      <td>0</td>\n",
       "      <td>0</td>\n",
       "      <td>0</td>\n",
       "      <td>1.297900</td>\n",
       "    </tr>\n",
       "    <tr>\n",
       "      <th>6</th>\n",
       "      <td>2016-01-01</td>\n",
       "      <td>1</td>\n",
       "      <td>1</td>\n",
       "      <td>11</td>\n",
       "      <td>2016-01-01 12:26:39</td>\n",
       "      <td>2016-01-01 11:57:15</td>\n",
       "      <td>-73.781906</td>\n",
       "      <td>40.644878</td>\n",
       "      <td>-73.956482</td>\n",
       "      <td>40.763008</td>\n",
       "      <td>29</td>\n",
       "      <td>40.400002</td>\n",
       "      <td>10.0</td>\n",
       "      <td>6.5</td>\n",
       "      <td>22.9</td>\n",
       "      <td>48.0</td>\n",
       "      <td>37.0</td>\n",
       "      <td>0.03</td>\n",
       "      <td>999.900024</td>\n",
       "      <td>0</td>\n",
       "      <td>0</td>\n",
       "      <td>0</td>\n",
       "      <td>0</td>\n",
       "      <td>0</td>\n",
       "      <td>13.765106</td>\n",
       "    </tr>\n",
       "  </tbody>\n",
       "</table>\n",
       "</div>"
      ],
      "text/plain": [
       "  date_of_year  month_of_year  day_of_year  pickup_hour    dropoff_datetime  \\\n",
       "0   2016-01-01              1            1           11 2016-01-01 11:10:51   \n",
       "1   2016-01-01              1            1           11 2016-01-01 12:10:58   \n",
       "2   2016-01-01              1            1           11 2016-01-01 11:35:34   \n",
       "4   2016-01-01              1            1           11 2016-01-01 11:33:30   \n",
       "6   2016-01-01              1            1           11 2016-01-01 12:26:39   \n",
       "\n",
       "      pickup_datetime  pickup_longitude  pickup_latitude  dropoff_longitude  \\\n",
       "0 2016-01-01 11:03:50        -73.968033        40.759506         -73.986877   \n",
       "1 2016-01-01 11:57:46        -73.997055        40.722179         -73.977394   \n",
       "2 2016-01-01 11:26:49        -73.983940        40.775303         -73.975273   \n",
       "4 2016-01-01 11:31:48        -73.967598        40.755981         -73.976486   \n",
       "6 2016-01-01 11:57:15        -73.781906        40.644878         -73.956482   \n",
       "\n",
       "   dropoff_latitude  travel_time       temp  visib wdsp  gust   max   min  \\\n",
       "0         40.735752            7  40.400002   10.0  6.5  22.9  48.0  37.0   \n",
       "1         40.758743           13  40.400002   10.0  6.5  22.9  48.0  37.0   \n",
       "2         40.759426            8  40.400002   10.0  6.5  22.9  48.0  37.0   \n",
       "4         40.743851            1  40.400002   10.0  6.5  22.9  48.0  37.0   \n",
       "6         40.763008           29  40.400002   10.0  6.5  22.9  48.0  37.0   \n",
       "\n",
       "   prcp        sndp fog rain_drizzle snow_ice_pellets hail thunder  \\\n",
       "0  0.03  999.900024   0            0                0    0       0   \n",
       "1  0.03  999.900024   0            0                0    0       0   \n",
       "2  0.03  999.900024   0            0                0    0       0   \n",
       "4  0.03  999.900024   0            0                0    0       0   \n",
       "6  0.03  999.900024   0            0                0    0       0   \n",
       "\n",
       "   distance_in_km  \n",
       "0        2.523361  \n",
       "1        3.967209  \n",
       "2        1.724558  \n",
       "4        1.297900  \n",
       "6       13.765106  "
      ]
     },
     "execution_count": 16,
     "metadata": {},
     "output_type": "execute_result"
    }
   ],
   "source": [
    "data_opt.head(5)"
   ]
  },
  {
   "cell_type": "code",
   "execution_count": 17,
   "metadata": {},
   "outputs": [
    {
     "data": {
      "text/html": [
       "<div>\n",
       "<style scoped>\n",
       "    .dataframe tbody tr th:only-of-type {\n",
       "        vertical-align: middle;\n",
       "    }\n",
       "\n",
       "    .dataframe tbody tr th {\n",
       "        vertical-align: top;\n",
       "    }\n",
       "\n",
       "    .dataframe thead th {\n",
       "        text-align: right;\n",
       "    }\n",
       "</style>\n",
       "<table border=\"1\" class=\"dataframe\">\n",
       "  <thead>\n",
       "    <tr style=\"text-align: right;\">\n",
       "      <th></th>\n",
       "      <th>date_of_year</th>\n",
       "      <th>month_of_year</th>\n",
       "      <th>day_of_year</th>\n",
       "      <th>pickup_hour</th>\n",
       "      <th>dropoff_datetime</th>\n",
       "      <th>pickup_datetime</th>\n",
       "      <th>pickup_longitude</th>\n",
       "      <th>pickup_latitude</th>\n",
       "      <th>dropoff_longitude</th>\n",
       "      <th>dropoff_latitude</th>\n",
       "      <th>travel_time</th>\n",
       "      <th>temp</th>\n",
       "      <th>visib</th>\n",
       "      <th>wdsp</th>\n",
       "      <th>gust</th>\n",
       "      <th>max</th>\n",
       "      <th>min</th>\n",
       "      <th>prcp</th>\n",
       "      <th>sndp</th>\n",
       "      <th>fog</th>\n",
       "      <th>rain_drizzle</th>\n",
       "      <th>snow_ice_pellets</th>\n",
       "      <th>hail</th>\n",
       "      <th>thunder</th>\n",
       "      <th>distance_in_km</th>\n",
       "    </tr>\n",
       "  </thead>\n",
       "  <tbody>\n",
       "    <tr>\n",
       "      <th>0</th>\n",
       "      <td>2016-01-01</td>\n",
       "      <td>1</td>\n",
       "      <td>1</td>\n",
       "      <td>11</td>\n",
       "      <td>2016-01-01 11:10:51</td>\n",
       "      <td>2016-01-01 11:03:50</td>\n",
       "      <td>-73.968033</td>\n",
       "      <td>40.759506</td>\n",
       "      <td>-73.986877</td>\n",
       "      <td>40.735752</td>\n",
       "      <td>7</td>\n",
       "      <td>40.4</td>\n",
       "      <td>10.0</td>\n",
       "      <td>6.5</td>\n",
       "      <td>22.9</td>\n",
       "      <td>48.0</td>\n",
       "      <td>37.0</td>\n",
       "      <td>0.03</td>\n",
       "      <td>999.9</td>\n",
       "      <td>0</td>\n",
       "      <td>0</td>\n",
       "      <td>0</td>\n",
       "      <td>0</td>\n",
       "      <td>0</td>\n",
       "      <td>2.523361</td>\n",
       "    </tr>\n",
       "    <tr>\n",
       "      <th>1</th>\n",
       "      <td>2016-01-01</td>\n",
       "      <td>1</td>\n",
       "      <td>1</td>\n",
       "      <td>11</td>\n",
       "      <td>2016-01-01 12:10:58</td>\n",
       "      <td>2016-01-01 11:57:46</td>\n",
       "      <td>-73.997055</td>\n",
       "      <td>40.722179</td>\n",
       "      <td>-73.977394</td>\n",
       "      <td>40.758743</td>\n",
       "      <td>13</td>\n",
       "      <td>40.4</td>\n",
       "      <td>10.0</td>\n",
       "      <td>6.5</td>\n",
       "      <td>22.9</td>\n",
       "      <td>48.0</td>\n",
       "      <td>37.0</td>\n",
       "      <td>0.03</td>\n",
       "      <td>999.9</td>\n",
       "      <td>0</td>\n",
       "      <td>0</td>\n",
       "      <td>0</td>\n",
       "      <td>0</td>\n",
       "      <td>0</td>\n",
       "      <td>3.967209</td>\n",
       "    </tr>\n",
       "    <tr>\n",
       "      <th>2</th>\n",
       "      <td>2016-01-01</td>\n",
       "      <td>1</td>\n",
       "      <td>1</td>\n",
       "      <td>11</td>\n",
       "      <td>2016-01-01 11:35:34</td>\n",
       "      <td>2016-01-01 11:26:49</td>\n",
       "      <td>-73.983940</td>\n",
       "      <td>40.775303</td>\n",
       "      <td>-73.975273</td>\n",
       "      <td>40.759426</td>\n",
       "      <td>8</td>\n",
       "      <td>40.4</td>\n",
       "      <td>10.0</td>\n",
       "      <td>6.5</td>\n",
       "      <td>22.9</td>\n",
       "      <td>48.0</td>\n",
       "      <td>37.0</td>\n",
       "      <td>0.03</td>\n",
       "      <td>999.9</td>\n",
       "      <td>0</td>\n",
       "      <td>0</td>\n",
       "      <td>0</td>\n",
       "      <td>0</td>\n",
       "      <td>0</td>\n",
       "      <td>1.724558</td>\n",
       "    </tr>\n",
       "    <tr>\n",
       "      <th>3</th>\n",
       "      <td>2016-01-01</td>\n",
       "      <td>1</td>\n",
       "      <td>1</td>\n",
       "      <td>11</td>\n",
       "      <td>2016-01-01 11:33:35</td>\n",
       "      <td>2016-01-01 11:30:19</td>\n",
       "      <td>0.000000</td>\n",
       "      <td>0.000000</td>\n",
       "      <td>0.000000</td>\n",
       "      <td>0.000000</td>\n",
       "      <td>3</td>\n",
       "      <td>40.4</td>\n",
       "      <td>10.0</td>\n",
       "      <td>6.5</td>\n",
       "      <td>22.9</td>\n",
       "      <td>48.0</td>\n",
       "      <td>37.0</td>\n",
       "      <td>0.03</td>\n",
       "      <td>999.9</td>\n",
       "      <td>0</td>\n",
       "      <td>0</td>\n",
       "      <td>0</td>\n",
       "      <td>0</td>\n",
       "      <td>0</td>\n",
       "      <td>0.000000</td>\n",
       "    </tr>\n",
       "    <tr>\n",
       "      <th>4</th>\n",
       "      <td>2016-01-01</td>\n",
       "      <td>1</td>\n",
       "      <td>1</td>\n",
       "      <td>11</td>\n",
       "      <td>2016-01-01 11:33:30</td>\n",
       "      <td>2016-01-01 11:31:48</td>\n",
       "      <td>-73.967598</td>\n",
       "      <td>40.755981</td>\n",
       "      <td>-73.976486</td>\n",
       "      <td>40.743851</td>\n",
       "      <td>1</td>\n",
       "      <td>40.4</td>\n",
       "      <td>10.0</td>\n",
       "      <td>6.5</td>\n",
       "      <td>22.9</td>\n",
       "      <td>48.0</td>\n",
       "      <td>37.0</td>\n",
       "      <td>0.03</td>\n",
       "      <td>999.9</td>\n",
       "      <td>0</td>\n",
       "      <td>0</td>\n",
       "      <td>0</td>\n",
       "      <td>0</td>\n",
       "      <td>0</td>\n",
       "      <td>1.297900</td>\n",
       "    </tr>\n",
       "  </tbody>\n",
       "</table>\n",
       "</div>"
      ],
      "text/plain": [
       "  date_of_year  month_of_year  day_of_year  pickup_hour    dropoff_datetime  \\\n",
       "0   2016-01-01              1            1           11 2016-01-01 11:10:51   \n",
       "1   2016-01-01              1            1           11 2016-01-01 12:10:58   \n",
       "2   2016-01-01              1            1           11 2016-01-01 11:35:34   \n",
       "3   2016-01-01              1            1           11 2016-01-01 11:33:35   \n",
       "4   2016-01-01              1            1           11 2016-01-01 11:33:30   \n",
       "\n",
       "      pickup_datetime  pickup_longitude  pickup_latitude  dropoff_longitude  \\\n",
       "0 2016-01-01 11:03:50        -73.968033        40.759506         -73.986877   \n",
       "1 2016-01-01 11:57:46        -73.997055        40.722179         -73.977394   \n",
       "2 2016-01-01 11:26:49        -73.983940        40.775303         -73.975273   \n",
       "3 2016-01-01 11:30:19          0.000000         0.000000           0.000000   \n",
       "4 2016-01-01 11:31:48        -73.967598        40.755981         -73.976486   \n",
       "\n",
       "   dropoff_latitude  travel_time  temp  visib wdsp  gust   max   min  prcp  \\\n",
       "0         40.735752            7  40.4   10.0  6.5  22.9  48.0  37.0  0.03   \n",
       "1         40.758743           13  40.4   10.0  6.5  22.9  48.0  37.0  0.03   \n",
       "2         40.759426            8  40.4   10.0  6.5  22.9  48.0  37.0  0.03   \n",
       "3          0.000000            3  40.4   10.0  6.5  22.9  48.0  37.0  0.03   \n",
       "4         40.743851            1  40.4   10.0  6.5  22.9  48.0  37.0  0.03   \n",
       "\n",
       "    sndp fog rain_drizzle snow_ice_pellets hail thunder  distance_in_km  \n",
       "0  999.9   0            0                0    0       0        2.523361  \n",
       "1  999.9   0            0                0    0       0        3.967209  \n",
       "2  999.9   0            0                0    0       0        1.724558  \n",
       "3  999.9   0            0                0    0       0        0.000000  \n",
       "4  999.9   0            0                0    0       0        1.297900  "
      ]
     },
     "execution_count": 17,
     "metadata": {},
     "output_type": "execute_result"
    }
   ],
   "source": [
    "data.head(5)"
   ]
  },
  {
   "cell_type": "markdown",
   "metadata": {},
   "source": [
    "## EDA"
   ]
  },
  {
   "cell_type": "code",
   "execution_count": 67,
   "metadata": {},
   "outputs": [
    {
     "ename": "NameError",
     "evalue": "name 'time' is not defined",
     "output_type": "error",
     "traceback": [
      "\u001b[1;31m---------------------------------------------------------------------------\u001b[0m",
      "\u001b[1;31mNameError\u001b[0m                                 Traceback (most recent call last)",
      "\u001b[1;32m<ipython-input-67-6a4dbc71b659>\u001b[0m in \u001b[0;36m<module>\u001b[1;34m()\u001b[0m\n\u001b[0;32m      1\u001b[0m \u001b[0mget_ipython\u001b[0m\u001b[1;33m(\u001b[0m\u001b[1;33m)\u001b[0m\u001b[1;33m.\u001b[0m\u001b[0mrun_line_magic\u001b[0m\u001b[1;33m(\u001b[0m\u001b[1;34m'matplotlib'\u001b[0m\u001b[1;33m,\u001b[0m \u001b[1;34m'inline'\u001b[0m\u001b[1;33m)\u001b[0m\u001b[1;33m\u001b[0m\u001b[0m\n\u001b[1;32m----> 2\u001b[1;33m \u001b[0mstart\u001b[0m \u001b[1;33m=\u001b[0m \u001b[0mtime\u001b[0m\u001b[1;33m.\u001b[0m\u001b[0mtime\u001b[0m\u001b[1;33m(\u001b[0m\u001b[1;33m)\u001b[0m\u001b[1;33m\u001b[0m\u001b[0m\n\u001b[0m\u001b[0;32m      3\u001b[0m \u001b[0msns\u001b[0m\u001b[1;33m.\u001b[0m\u001b[0mset\u001b[0m\u001b[1;33m(\u001b[0m\u001b[0mstyle\u001b[0m\u001b[1;33m=\u001b[0m\u001b[1;34m\"white\"\u001b[0m\u001b[1;33m,\u001b[0m \u001b[0mpalette\u001b[0m\u001b[1;33m=\u001b[0m\u001b[1;34m\"muted\"\u001b[0m\u001b[1;33m,\u001b[0m \u001b[0mcolor_codes\u001b[0m\u001b[1;33m=\u001b[0m\u001b[1;32mTrue\u001b[0m\u001b[1;33m)\u001b[0m\u001b[1;33m\u001b[0m\u001b[0m\n\u001b[0;32m      4\u001b[0m \u001b[0mf\u001b[0m\u001b[1;33m,\u001b[0m \u001b[0maxes\u001b[0m \u001b[1;33m=\u001b[0m \u001b[0mplt\u001b[0m\u001b[1;33m.\u001b[0m\u001b[0msubplots\u001b[0m\u001b[1;33m(\u001b[0m\u001b[1;36m1\u001b[0m\u001b[1;33m,\u001b[0m \u001b[1;36m1\u001b[0m\u001b[1;33m,\u001b[0m \u001b[0mfigsize\u001b[0m\u001b[1;33m=\u001b[0m\u001b[1;33m(\u001b[0m\u001b[1;36m11\u001b[0m\u001b[1;33m,\u001b[0m \u001b[1;36m7\u001b[0m\u001b[1;33m)\u001b[0m\u001b[1;33m,\u001b[0m \u001b[0msharex\u001b[0m\u001b[1;33m=\u001b[0m\u001b[1;32mTrue\u001b[0m\u001b[1;33m)\u001b[0m\u001b[1;33m\u001b[0m\u001b[0m\n\u001b[0;32m      5\u001b[0m \u001b[0msns\u001b[0m\u001b[1;33m.\u001b[0m\u001b[0mdespine\u001b[0m\u001b[1;33m(\u001b[0m\u001b[0mleft\u001b[0m\u001b[1;33m=\u001b[0m\u001b[1;32mTrue\u001b[0m\u001b[1;33m)\u001b[0m\u001b[1;33m\u001b[0m\u001b[0m\n",
      "\u001b[1;31mNameError\u001b[0m: name 'time' is not defined"
     ]
    }
   ],
   "source": [
    "%matplotlib inline\n",
    "start = time.time()\n",
    "sns.set(style=\"white\", palette=\"muted\", color_codes=True)\n",
    "f, axes = plt.subplots(1, 1, figsize=(11, 7), sharex=True)\n",
    "sns.despine(left=True)\n",
    "sns.distplot(np.log(train_df['trip_duration'].values+1), axlabel = 'Log(trip_duration)', label = 'log(trip_duration)', bins = 50, color=\"r\")\n",
    "plt.setp(axes, yticks=[])\n",
    "plt.tight_layout()\n",
    "end = time.time()\n",
    "print(\"Time taken by above cell is {}.\".format((end-start)))\n",
    "plt.show()"
   ]
  },
  {
   "cell_type": "code",
   "execution_count": 54,
   "metadata": {},
   "outputs": [
    {
     "data": {
      "text/plain": [
       "159312"
      ]
     },
     "execution_count": 54,
     "metadata": {},
     "output_type": "execute_result"
    }
   ],
   "source": [
    "sum(np.isnan(data['distance_in_km'] ))"
   ]
  },
  {
   "cell_type": "code",
   "execution_count": 80,
   "metadata": {},
   "outputs": [
    {
     "ename": "NameError",
     "evalue": "name 'system' is not defined",
     "output_type": "error",
     "traceback": [
      "\u001b[1;31m---------------------------------------------------------------------------\u001b[0m",
      "\u001b[1;31mNameError\u001b[0m                                 Traceback (most recent call last)",
      "\u001b[1;32m<ipython-input-80-47610231a01e>\u001b[0m in \u001b[0;36m<module>\u001b[1;34m()\u001b[0m\n\u001b[1;32m----> 1\u001b[1;33m \u001b[0msystem\u001b[0m\u001b[1;33m.\u001b[0m\u001b[0mtime\u001b[0m\u001b[1;33m(\u001b[0m\u001b[1;33m)\u001b[0m\u001b[1;33m\u001b[0m\u001b[0m\n\u001b[0m",
      "\u001b[1;31mNameError\u001b[0m: name 'system' is not defined"
     ]
    }
   ],
   "source": [
    "system.time()"
   ]
  },
  {
   "cell_type": "code",
   "execution_count": null,
   "metadata": {},
   "outputs": [],
   "source": []
  },
  {
   "cell_type": "code",
   "execution_count": 79,
   "metadata": {},
   "outputs": [],
   "source": [
    "import plotly.plotly as py\n",
    "import plotly.graph_objs as go\n",
    "import plotly\n",
    "plotly.tools.set_credentials_file(username='zxf71699', api_key='BkltlyEFcOkOAgCSdkjt')"
   ]
  }
 ],
 "metadata": {
  "kernelspec": {
   "display_name": "Python 3",
   "language": "python",
   "name": "python3"
  },
  "language_info": {
   "codemirror_mode": {
    "name": "ipython",
    "version": 3
   },
   "file_extension": ".py",
   "mimetype": "text/x-python",
   "name": "python",
   "nbconvert_exporter": "python",
   "pygments_lexer": "ipython3",
   "version": "3.7.0"
  }
 },
 "nbformat": 4,
 "nbformat_minor": 2
}
