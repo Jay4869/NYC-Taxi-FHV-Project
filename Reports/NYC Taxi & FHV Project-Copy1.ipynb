{
 "cells": [
  {
   "cell_type": "markdown",
   "metadata": {},
   "source": [
    "# NYC-Taxi-FHV-Project\n"
   ]
  },
  {
   "cell_type": "code",
   "execution_count": 56,
   "metadata": {},
   "outputs": [],
   "source": [
    "import pandas as pd #DataFrame\n",
    "import numpy as np #For array\n",
    "import os #for os commands\n",
    "from math import sin, cos, sqrt, atan2, radians, log #For calculation\n",
    "import time           #to get the system time\n",
    "import datetime       #for datetime operations\n",
    "import holidays       #For extract date time of holidays\n",
    "import calendar       #For calendar for datetime operations\n",
    "\n",
    "\n",
    "pd.set_option('display.max_columns', 500)\n",
    "os.environ[\"GOOGLE_APPLICATION_CREDENTIALS\"]=\"E:/GitHub/NYU-Taxi-project/My First Project-b3735f3b3a9d.json\"\n",
    "#os.environ[\"GOOGLE_APPLICATION_CREDENTIALS\"]=\"./My Project 14295-223aab171173.json\"\n",
    "from google.cloud import bigquery\n",
    "client = bigquery.Client()\n",
    "\n",
    "#For geospatial data\n",
    "import geopandas as gpd   #For geospatial data\n",
    "import shapely\n",
    "import pysal as ps\n",
    "from fiona.crs import from_epsg\n",
    "from shapely.geometry import Polygon\n",
    "from descartes.patch import PolygonPatch\n",
    "import geohash_hilbert as ghh # For geohash code\n",
    "import shapefile\n",
    "\n",
    "#For machine learning models\n",
    "import sklearn\n",
    "from sklearn.linear_model import LinearRegression, Ridge,BayesianRidge #For lasso and ridge\n",
    "from sklearn.model_selection import train_test_split\n",
    "from sklearn.model_selection import GridSearchCV\n",
    "from sklearn.metrics import mean_squared_error, mean_squared_log_error, r2_score, make_scorer\n",
    "from sklearn.ensemble import RandomForestRegressor\n",
    "from sklearn.ensemble import GradientBoostingRegressor\n",
    "from sklearn.cluster import MiniBatchKMeans\n",
    "from sklearn.cluster import KMeans\n",
    "from sklearn.neighbors import KNeighborsClassifier\n",
    "import xgboost as xgb\n",
    "\n",
    "#For visualization purpose\n",
    "from scipy.misc import imread, imresize, imsave \n",
    "from pandas.plotting import scatter_matrix\n",
    "import scipy         #for other dependancies\n",
    "import seaborn as sns #for making plots\n",
    "from scipy.misc import imread, imresize, imsave  \n",
    "from bokeh.palettes import Spectral4\n",
    "from bokeh.plotting import figure, output_notebook, show\n",
    "from IPython.display import HTML\n",
    "from matplotlib.pyplot import *\n",
    "from matplotlib import cm\n",
    "from matplotlib import animation\n",
    "from scipy.misc import imread, imresize, imsave  \n",
    "import matplotlib.pyplot as plt\n",
    "%matplotlib inline\n",
    "\n",
    "plt.style.use('seaborn')"
   ]
  },
  {
   "cell_type": "markdown",
   "metadata": {},
   "source": [
    "## 1. Data Processing"
   ]
  },
  {
   "cell_type": "markdown",
   "metadata": {},
   "source": [
    "### 1.1 Query Taxi Data from BigQuery"
   ]
  },
  {
   "cell_type": "code",
   "execution_count": 69,
   "metadata": {
    "scrolled": true
   },
   "outputs": [
    {
     "name": "stdout",
     "output_type": "stream",
     "text": [
      "Time taken by above cell is 0.6 mins.\n"
     ]
    }
   ],
   "source": [
    "start = time.time()\n",
    "query = (\n",
    "\"\"\"\n",
    "SELECT x.travel_time,\n",
    "    pickup_datetime,\n",
    "    dropoff_datetime,\n",
    "    x.date,\n",
    "    x.month,\n",
    "    x.day,\n",
    "    FORMAT_DATE('%A', x.date) as wkday,\n",
    "    pick_hour,\n",
    "    pickup_location_id,\n",
    "    dropoff_location_id,\n",
    "    'Taxi' as type,\n",
    "    wdsp as AWND,\n",
    "    prcp as PRCP,\n",
    "    snow_ice_pellets as SNOW,\n",
    "    sndp as SNWD,\n",
    "    max as TMAX,\n",
    "    min as TMIN\n",
    "FROM\n",
    "(\n",
    "      SELECT *,ROW_NUMBER() OVER(partition by date, pick_hour) as row_number\n",
    "      FROM\n",
    "      (\n",
    "            SELECT pickup_datetime, dropoff_datetime, pickup_location_id, dropoff_location_id,\n",
    "            EXTRACT (HOUR FROM pickup_datetime) as pick_hour,\n",
    "            EXTRACT (DAY FROM pickup_datetime) as day,\n",
    "            EXTRACT (MONTH FROM pickup_datetime) as month,\n",
    "            EXTRACT (DATE FROM pickup_datetime) as date,\n",
    "            TIMESTAMP_DIFF(TIMESTAMP(dropoff_datetime), TIMESTAMP(pickup_datetime), SECOND) as travel_time,\n",
    "            passenger_count\n",
    "            FROM `bigquery-public-data.new_york_taxi_trips.tlc_yellow_trips_2018`\n",
    "      ) x\n",
    "      where x.travel_time > 0 and pickup_location_id <= '263' and dropoff_location_id <= '263'\n",
    ") x\n",
    "JOIN\n",
    "(\n",
    " select cast(mo as int64) as month,cast(da as int64) as day,temp,visib,mxpsd,wdsp,gust,max,min,prcp,sndp,fog,rain_drizzle,snow_ice_pellets,hail,thunder\n",
    " from `bigquery-public-data.noaa_gsod.gsod2018` where stn='725053'\n",
    ") y on x.month = y.month and x.day = y.day\n",
    "where x.row_number <= 20\n",
    "\"\"\"\n",
    ")\n",
    "Taxi = pd.io.gbq.read_gbq(query,dialect='standard')\n",
    "       \n",
    "end = time.time()\n",
    "print(\"Time taken by above cell is {} mins.\".format(round((end-start)/60,2)))"
   ]
  },
  {
   "cell_type": "markdown",
   "metadata": {},
   "source": [
    "### 1.2 Combine and Clean Taxi and FHV Data"
   ]
  },
  {
   "cell_type": "markdown",
   "metadata": {},
   "source": [
    "Loading and combining Uber, Lyft,Via data from local to Taxi data"
   ]
  },
  {
   "cell_type": "code",
   "execution_count": 71,
   "metadata": {},
   "outputs": [
    {
     "data": {
      "text/html": [
       "<div>\n",
       "<style scoped>\n",
       "    .dataframe tbody tr th:only-of-type {\n",
       "        vertical-align: middle;\n",
       "    }\n",
       "\n",
       "    .dataframe tbody tr th {\n",
       "        vertical-align: top;\n",
       "    }\n",
       "\n",
       "    .dataframe thead th {\n",
       "        text-align: right;\n",
       "    }\n",
       "</style>\n",
       "<table border=\"1\" class=\"dataframe\">\n",
       "  <thead>\n",
       "    <tr style=\"text-align: right;\">\n",
       "      <th></th>\n",
       "      <th>travel_time</th>\n",
       "      <th>pickup_datetime</th>\n",
       "      <th>dropoff_datetime</th>\n",
       "      <th>date</th>\n",
       "      <th>month</th>\n",
       "      <th>day</th>\n",
       "      <th>wkday</th>\n",
       "      <th>pick_hour</th>\n",
       "      <th>pickup_location_id</th>\n",
       "      <th>dropoff_location_id</th>\n",
       "      <th>type</th>\n",
       "      <th>AWND</th>\n",
       "      <th>PRCP</th>\n",
       "      <th>SNOW</th>\n",
       "      <th>SNWD</th>\n",
       "      <th>TMAX</th>\n",
       "      <th>TMIN</th>\n",
       "    </tr>\n",
       "  </thead>\n",
       "  <tbody>\n",
       "    <tr>\n",
       "      <th>0</th>\n",
       "      <td>483</td>\n",
       "      <td>2018-03-07 13:02:47</td>\n",
       "      <td>2018-03-07 13:10:50</td>\n",
       "      <td>2018-03-07 00:00:00</td>\n",
       "      <td>3</td>\n",
       "      <td>7</td>\n",
       "      <td>Wednesday</td>\n",
       "      <td>13</td>\n",
       "      <td>170</td>\n",
       "      <td>141</td>\n",
       "      <td>Taxi</td>\n",
       "      <td>8.7</td>\n",
       "      <td>0.11</td>\n",
       "      <td>1</td>\n",
       "      <td>999.9</td>\n",
       "      <td>46.9</td>\n",
       "      <td>32.0</td>\n",
       "    </tr>\n",
       "    <tr>\n",
       "      <th>1</th>\n",
       "      <td>681</td>\n",
       "      <td>2018-03-07 13:47:54</td>\n",
       "      <td>2018-03-07 13:59:15</td>\n",
       "      <td>2018-03-07 00:00:00</td>\n",
       "      <td>3</td>\n",
       "      <td>7</td>\n",
       "      <td>Wednesday</td>\n",
       "      <td>13</td>\n",
       "      <td>163</td>\n",
       "      <td>230</td>\n",
       "      <td>Taxi</td>\n",
       "      <td>8.7</td>\n",
       "      <td>0.11</td>\n",
       "      <td>1</td>\n",
       "      <td>999.9</td>\n",
       "      <td>46.9</td>\n",
       "      <td>32.0</td>\n",
       "    </tr>\n",
       "    <tr>\n",
       "      <th>2</th>\n",
       "      <td>590</td>\n",
       "      <td>2018-03-07 13:24:32</td>\n",
       "      <td>2018-03-07 13:34:22</td>\n",
       "      <td>2018-03-07 00:00:00</td>\n",
       "      <td>3</td>\n",
       "      <td>7</td>\n",
       "      <td>Wednesday</td>\n",
       "      <td>13</td>\n",
       "      <td>233</td>\n",
       "      <td>224</td>\n",
       "      <td>Taxi</td>\n",
       "      <td>8.7</td>\n",
       "      <td>0.11</td>\n",
       "      <td>1</td>\n",
       "      <td>999.9</td>\n",
       "      <td>46.9</td>\n",
       "      <td>32.0</td>\n",
       "    </tr>\n",
       "    <tr>\n",
       "      <th>3</th>\n",
       "      <td>379</td>\n",
       "      <td>2018-03-07 13:51:58</td>\n",
       "      <td>2018-03-07 13:58:17</td>\n",
       "      <td>2018-03-07 00:00:00</td>\n",
       "      <td>3</td>\n",
       "      <td>7</td>\n",
       "      <td>Wednesday</td>\n",
       "      <td>13</td>\n",
       "      <td>186</td>\n",
       "      <td>246</td>\n",
       "      <td>Taxi</td>\n",
       "      <td>8.7</td>\n",
       "      <td>0.11</td>\n",
       "      <td>1</td>\n",
       "      <td>999.9</td>\n",
       "      <td>46.9</td>\n",
       "      <td>32.0</td>\n",
       "    </tr>\n",
       "    <tr>\n",
       "      <th>4</th>\n",
       "      <td>351</td>\n",
       "      <td>2018-03-07 13:27:14</td>\n",
       "      <td>2018-03-07 13:33:05</td>\n",
       "      <td>2018-03-07 00:00:00</td>\n",
       "      <td>3</td>\n",
       "      <td>7</td>\n",
       "      <td>Wednesday</td>\n",
       "      <td>13</td>\n",
       "      <td>162</td>\n",
       "      <td>237</td>\n",
       "      <td>Taxi</td>\n",
       "      <td>8.7</td>\n",
       "      <td>0.11</td>\n",
       "      <td>1</td>\n",
       "      <td>999.9</td>\n",
       "      <td>46.9</td>\n",
       "      <td>32.0</td>\n",
       "    </tr>\n",
       "  </tbody>\n",
       "</table>\n",
       "</div>"
      ],
      "text/plain": [
       "   travel_time      pickup_datetime     dropoff_datetime                 date  \\\n",
       "0          483  2018-03-07 13:02:47  2018-03-07 13:10:50  2018-03-07 00:00:00   \n",
       "1          681  2018-03-07 13:47:54  2018-03-07 13:59:15  2018-03-07 00:00:00   \n",
       "2          590  2018-03-07 13:24:32  2018-03-07 13:34:22  2018-03-07 00:00:00   \n",
       "3          379  2018-03-07 13:51:58  2018-03-07 13:58:17  2018-03-07 00:00:00   \n",
       "4          351  2018-03-07 13:27:14  2018-03-07 13:33:05  2018-03-07 00:00:00   \n",
       "\n",
       "   month  day      wkday  pick_hour pickup_location_id dropoff_location_id  \\\n",
       "0      3    7  Wednesday         13                170                 141   \n",
       "1      3    7  Wednesday         13                163                 230   \n",
       "2      3    7  Wednesday         13                233                 224   \n",
       "3      3    7  Wednesday         13                186                 246   \n",
       "4      3    7  Wednesday         13                162                 237   \n",
       "\n",
       "   type AWND  PRCP SNOW   SNWD  TMAX  TMIN  \n",
       "0  Taxi  8.7  0.11    1  999.9  46.9  32.0  \n",
       "1  Taxi  8.7  0.11    1  999.9  46.9  32.0  \n",
       "2  Taxi  8.7  0.11    1  999.9  46.9  32.0  \n",
       "3  Taxi  8.7  0.11    1  999.9  46.9  32.0  \n",
       "4  Taxi  8.7  0.11    1  999.9  46.9  32.0  "
      ]
     },
     "execution_count": 71,
     "metadata": {},
     "output_type": "execute_result"
    }
   ],
   "source": [
    "FHV = pd.read_csv('../Data/1-12_weather_mini.csv')\n",
    "data = pd.concat([Taxi, FHV], axis=0, sort=False)\n",
    "data.head()"
   ]
  },
  {
   "cell_type": "markdown",
   "metadata": {},
   "source": [
    "Generating **heatmap** to check missing value pattern, and also check missing value by each feature "
   ]
  },
  {
   "cell_type": "code",
   "execution_count": 72,
   "metadata": {},
   "outputs": [
    {
     "name": "stdout",
     "output_type": "stream",
     "text": [
      "                     counts\n",
      "AWND                  38825\n",
      "dropoff_location_id      76\n",
      "pickup_location_id        1\n",
      "TMAX                      0\n",
      "SNWD                      0\n",
      "SNOW                      0\n",
      "PRCP                      0\n",
      "type                      0\n",
      "travel_time               0\n",
      "pickup_datetime           0\n",
      "pick_hour                 0\n",
      "wkday                     0\n",
      "day                       0\n",
      "month                     0\n",
      "date                      0\n",
      "dropoff_datetime          0\n",
      "TMIN                      0\n"
     ]
    },
    {
     "data": {
      "image/png": "[encoded data removed]",
      "text/plain": [
       "<Figure size 720x432 with 2 Axes>"
      ]
     },
     "metadata": {},
     "output_type": "display_data"
    }
   ],
   "source": [
    "print(pd.DataFrame(data.isna().sum(axis=0),columns=['counts']).sort_values(by='counts',ascending=False))\n",
    "\n",
    "plt.figure(figsize=(10,6))\n",
    "sns.heatmap(data.isna(),cmap=\"YlGnBu\")\n",
    "plt.show()"
   ]
  },
  {
   "cell_type": "markdown",
   "metadata": {},
   "source": [
    "Removing missing value for pickup and droppoff location, and replaceing `AWND` missing by median "
   ]
  },
  {
   "cell_type": "code",
   "execution_count": 78,
   "metadata": {},
   "outputs": [],
   "source": [
    "data.AWND.replace(np.NaN, data.AWND.median(), inplace=True)\n",
    "\n",
    "data.dropna(axis=0, inplace=True)\n",
    "\n",
    "data.pickup_location_id = data.pickup_location_id.astype(int)\n",
    "data.dropoff_location_id = data.dropoff_location_id.astype(int)\n",
    "data = data.loc[(data.dropoff_location_id <= 263) & (data.pickup_location_id <= 263), :]"
   ]
  },
  {
   "cell_type": "markdown",
   "metadata": {},
   "source": [
    "### 1.3 Define Trip Distance"
   ]
  },
  {
   "cell_type": "code",
   "execution_count": 81,
   "metadata": {},
   "outputs": [],
   "source": [
    "def get_lat_lon(sf):\n",
    "    content = []\n",
    "    for sr in sf.shapeRecords():\n",
    "        shape = sr.shape\n",
    "        rec = sr.record\n",
    "        loc_id = rec[shp_dic['location_i']]\n",
    "        \n",
    "        x = (shape.bbox[0]+shape.bbox[2])/2\n",
    "        y = (shape.bbox[1]+shape.bbox[3])/2\n",
    "        \n",
    "        content.append((loc_id, x, y))\n",
    "    return pd.DataFrame(content, columns=[\"location_i\", \"longitude\", \"latitude\"])\n",
    "\n",
    "def get_boundaries(sf):\n",
    "    lat, lon = [], []\n",
    "    for shape in list(sf.iterShapes()):\n",
    "        lat.extend([shape.bbox[0], shape.bbox[2]])\n",
    "        lon.extend([shape.bbox[1], shape.bbox[3]])\n",
    "\n",
    "    margin = 0.01 # buffer to add to the range\n",
    "    lat_min = min(lat) - margin\n",
    "    lat_max = max(lat) + margin\n",
    "    lon_min = min(lon) - margin\n",
    "    lon_max = max(lon) + margin\n",
    "\n",
    "    return lat_min, lat_max, lon_min, lon_max\n",
    "\n",
    "# great circle distance\n",
    "def haversine_(lat1, lng1, lat2, lng2):\n",
    "    \"\"\"calculate haversine distance between two co-ordinates\"\"\"\n",
    "    lat1, lng1, lat2, lng2 = map(np.radians, (lat1, lng1, lat2, lng2))\n",
    "    AVG_EARTH_RADIUS = 6371  # in km\n",
    "    lat = lat2 - lat1\n",
    "    lng = lng2 - lng1\n",
    "    d = np.sin(lat * 0.5) ** 2 + np.cos(lat1) * np.cos(lat2) * np.sin(lng * 0.5) ** 2\n",
    "    h = 2 * AVG_EARTH_RADIUS * np.arcsin(np.sqrt(d))\n",
    "    return(h)\n",
    "\n",
    "# manhattan distance\n",
    "def manhattan_distance_pd(lat1, lng1, lat2, lng2):\n",
    "    \"\"\"calculate manhatten distance between pick_drop\"\"\"\n",
    "    a = haversine_(lat1, lng1, lat1, lng2)\n",
    "    b = haversine_(lat1, lng1, lat2, lng1)\n",
    "    return a + b"
   ]
  },
  {
   "cell_type": "code",
   "execution_count": 82,
   "metadata": {
    "scrolled": true
   },
   "outputs": [
    {
     "data": {
      "text/html": [
       "<div>\n",
       "<style scoped>\n",
       "    .dataframe tbody tr th:only-of-type {\n",
       "        vertical-align: middle;\n",
       "    }\n",
       "\n",
       "    .dataframe tbody tr th {\n",
       "        vertical-align: top;\n",
       "    }\n",
       "\n",
       "    .dataframe thead th {\n",
       "        text-align: right;\n",
       "    }\n",
       "</style>\n",
       "<table border=\"1\" class=\"dataframe\">\n",
       "  <thead>\n",
       "    <tr style=\"text-align: right;\">\n",
       "      <th></th>\n",
       "      <th>borough</th>\n",
       "      <th>location_i</th>\n",
       "      <th>objectid</th>\n",
       "      <th>shape_area</th>\n",
       "      <th>shape_leng</th>\n",
       "      <th>zone</th>\n",
       "      <th>longitude</th>\n",
       "      <th>latitude</th>\n",
       "    </tr>\n",
       "  </thead>\n",
       "  <tbody>\n",
       "    <tr>\n",
       "      <th>0</th>\n",
       "      <td>EWR</td>\n",
       "      <td>1.0</td>\n",
       "      <td>1.0</td>\n",
       "      <td>0.000782</td>\n",
       "      <td>0.116357</td>\n",
       "      <td>Newark Airport</td>\n",
       "      <td>-74.171533</td>\n",
       "      <td>40.689483</td>\n",
       "    </tr>\n",
       "    <tr>\n",
       "      <th>1</th>\n",
       "      <td>Queens</td>\n",
       "      <td>2.0</td>\n",
       "      <td>2.0</td>\n",
       "      <td>0.004866</td>\n",
       "      <td>0.433470</td>\n",
       "      <td>Jamaica Bay</td>\n",
       "      <td>-73.822478</td>\n",
       "      <td>40.610824</td>\n",
       "    </tr>\n",
       "    <tr>\n",
       "      <th>2</th>\n",
       "      <td>Bronx</td>\n",
       "      <td>3.0</td>\n",
       "      <td>3.0</td>\n",
       "      <td>0.000314</td>\n",
       "      <td>0.084341</td>\n",
       "      <td>Allerton/Pelham Gardens</td>\n",
       "      <td>-73.844953</td>\n",
       "      <td>40.865747</td>\n",
       "    </tr>\n",
       "    <tr>\n",
       "      <th>3</th>\n",
       "      <td>Manhattan</td>\n",
       "      <td>4.0</td>\n",
       "      <td>4.0</td>\n",
       "      <td>0.000112</td>\n",
       "      <td>0.043567</td>\n",
       "      <td>Alphabet City</td>\n",
       "      <td>-73.977725</td>\n",
       "      <td>40.724137</td>\n",
       "    </tr>\n",
       "    <tr>\n",
       "      <th>4</th>\n",
       "      <td>Staten Island</td>\n",
       "      <td>5.0</td>\n",
       "      <td>5.0</td>\n",
       "      <td>0.000498</td>\n",
       "      <td>0.092146</td>\n",
       "      <td>Arden Heights</td>\n",
       "      <td>-74.187558</td>\n",
       "      <td>40.550664</td>\n",
       "    </tr>\n",
       "  </tbody>\n",
       "</table>\n",
       "</div>"
      ],
      "text/plain": [
       "         borough  location_i  objectid  shape_area  shape_leng  \\\n",
       "0            EWR         1.0       1.0    0.000782    0.116357   \n",
       "1         Queens         2.0       2.0    0.004866    0.433470   \n",
       "2          Bronx         3.0       3.0    0.000314    0.084341   \n",
       "3      Manhattan         4.0       4.0    0.000112    0.043567   \n",
       "4  Staten Island         5.0       5.0    0.000498    0.092146   \n",
       "\n",
       "                      zone  longitude   latitude  \n",
       "0           Newark Airport -74.171533  40.689483  \n",
       "1              Jamaica Bay -73.822478  40.610824  \n",
       "2  Allerton/Pelham Gardens -73.844953  40.865747  \n",
       "3            Alphabet City -73.977725  40.724137  \n",
       "4            Arden Heights -74.187558  40.550664  "
      ]
     },
     "execution_count": 82,
     "metadata": {},
     "output_type": "execute_result"
    }
   ],
   "source": [
    "sf = shapefile.Reader(\"../Data/taxi_zones/geo_export_5c667c84-e344-4ff1-896e-9b2483684b97.shp\")\n",
    "fields_name = [field[0] for field in sf.fields[1:]]\n",
    "shp_dic = dict(zip(fields_name, list(range(len(fields_name)))))\n",
    "attributes = sf.records()\n",
    "shp_attr = [dict(zip(fields_name, attr)) for attr in attributes]\n",
    "\n",
    "df_loc = pd.DataFrame(shp_attr).join(get_lat_lon(sf).set_index('location_i'), on='location_i')\n",
    "df_loc.head()"
   ]
  },
  {
   "cell_type": "code",
   "execution_count": 83,
   "metadata": {
    "scrolled": true
   },
   "outputs": [
    {
     "data": {
      "text/html": [
       "<div>\n",
       "<style scoped>\n",
       "    .dataframe tbody tr th:only-of-type {\n",
       "        vertical-align: middle;\n",
       "    }\n",
       "\n",
       "    .dataframe tbody tr th {\n",
       "        vertical-align: top;\n",
       "    }\n",
       "\n",
       "    .dataframe thead th {\n",
       "        text-align: right;\n",
       "    }\n",
       "</style>\n",
       "<table border=\"1\" class=\"dataframe\">\n",
       "  <thead>\n",
       "    <tr style=\"text-align: right;\">\n",
       "      <th></th>\n",
       "      <th>travel_time</th>\n",
       "      <th>pickup_datetime</th>\n",
       "      <th>dropoff_datetime</th>\n",
       "      <th>date</th>\n",
       "      <th>month</th>\n",
       "      <th>day</th>\n",
       "      <th>wkday</th>\n",
       "      <th>pick_hour</th>\n",
       "      <th>pickup_location_id</th>\n",
       "      <th>dropoff_location_id</th>\n",
       "      <th>type</th>\n",
       "      <th>AWND</th>\n",
       "      <th>PRCP</th>\n",
       "      <th>SNOW</th>\n",
       "      <th>SNWD</th>\n",
       "      <th>TMAX</th>\n",
       "      <th>TMIN</th>\n",
       "      <th>pickup_borough</th>\n",
       "      <th>pickup_zone</th>\n",
       "      <th>pickup_longitude</th>\n",
       "      <th>pickup_latitude</th>\n",
       "      <th>dropoff_borough</th>\n",
       "      <th>dropoff_zone</th>\n",
       "      <th>dropoff_longitude</th>\n",
       "      <th>dropoff_latitude</th>\n",
       "    </tr>\n",
       "  </thead>\n",
       "  <tbody>\n",
       "    <tr>\n",
       "      <th>0</th>\n",
       "      <td>483</td>\n",
       "      <td>2018-03-07 13:02:47</td>\n",
       "      <td>2018-03-07 13:10:50</td>\n",
       "      <td>2018-03-07 00:00:00</td>\n",
       "      <td>3</td>\n",
       "      <td>7</td>\n",
       "      <td>Wednesday</td>\n",
       "      <td>13</td>\n",
       "      <td>170</td>\n",
       "      <td>141</td>\n",
       "      <td>Taxi</td>\n",
       "      <td>8.7</td>\n",
       "      <td>0.11</td>\n",
       "      <td>1</td>\n",
       "      <td>999.9</td>\n",
       "      <td>46.9</td>\n",
       "      <td>32.0</td>\n",
       "      <td>Manhattan</td>\n",
       "      <td>Murray Hill</td>\n",
       "      <td>-73.977648</td>\n",
       "      <td>40.747725</td>\n",
       "      <td>Manhattan</td>\n",
       "      <td>Lenox Hill West</td>\n",
       "      <td>-73.959634</td>\n",
       "      <td>40.766952</td>\n",
       "    </tr>\n",
       "    <tr>\n",
       "      <th>1</th>\n",
       "      <td>681</td>\n",
       "      <td>2018-03-07 13:47:54</td>\n",
       "      <td>2018-03-07 13:59:15</td>\n",
       "      <td>2018-03-07 00:00:00</td>\n",
       "      <td>3</td>\n",
       "      <td>7</td>\n",
       "      <td>Wednesday</td>\n",
       "      <td>13</td>\n",
       "      <td>163</td>\n",
       "      <td>230</td>\n",
       "      <td>Taxi</td>\n",
       "      <td>8.7</td>\n",
       "      <td>0.11</td>\n",
       "      <td>1</td>\n",
       "      <td>999.9</td>\n",
       "      <td>46.9</td>\n",
       "      <td>32.0</td>\n",
       "      <td>Manhattan</td>\n",
       "      <td>Midtown North</td>\n",
       "      <td>-73.977041</td>\n",
       "      <td>40.764387</td>\n",
       "      <td>Manhattan</td>\n",
       "      <td>Times Sq/Theatre District</td>\n",
       "      <td>-73.984196</td>\n",
       "      <td>40.759817</td>\n",
       "    </tr>\n",
       "    <tr>\n",
       "      <th>2</th>\n",
       "      <td>590</td>\n",
       "      <td>2018-03-07 13:24:32</td>\n",
       "      <td>2018-03-07 13:34:22</td>\n",
       "      <td>2018-03-07 00:00:00</td>\n",
       "      <td>3</td>\n",
       "      <td>7</td>\n",
       "      <td>Wednesday</td>\n",
       "      <td>13</td>\n",
       "      <td>233</td>\n",
       "      <td>224</td>\n",
       "      <td>Taxi</td>\n",
       "      <td>8.7</td>\n",
       "      <td>0.11</td>\n",
       "      <td>1</td>\n",
       "      <td>999.9</td>\n",
       "      <td>46.9</td>\n",
       "      <td>32.0</td>\n",
       "      <td>Manhattan</td>\n",
       "      <td>UN/Turtle Bay South</td>\n",
       "      <td>-73.969980</td>\n",
       "      <td>40.749124</td>\n",
       "      <td>Manhattan</td>\n",
       "      <td>Stuy Town/Peter Cooper Village</td>\n",
       "      <td>-73.976981</td>\n",
       "      <td>40.731710</td>\n",
       "    </tr>\n",
       "    <tr>\n",
       "      <th>3</th>\n",
       "      <td>379</td>\n",
       "      <td>2018-03-07 13:51:58</td>\n",
       "      <td>2018-03-07 13:58:17</td>\n",
       "      <td>2018-03-07 00:00:00</td>\n",
       "      <td>3</td>\n",
       "      <td>7</td>\n",
       "      <td>Wednesday</td>\n",
       "      <td>13</td>\n",
       "      <td>186</td>\n",
       "      <td>246</td>\n",
       "      <td>Taxi</td>\n",
       "      <td>8.7</td>\n",
       "      <td>0.11</td>\n",
       "      <td>1</td>\n",
       "      <td>999.9</td>\n",
       "      <td>46.9</td>\n",
       "      <td>32.0</td>\n",
       "      <td>Manhattan</td>\n",
       "      <td>Penn Station/Madison Sq West</td>\n",
       "      <td>-73.992434</td>\n",
       "      <td>40.748496</td>\n",
       "      <td>Manhattan</td>\n",
       "      <td>West Chelsea/Hudson Yards</td>\n",
       "      <td>-74.003811</td>\n",
       "      <td>40.752412</td>\n",
       "    </tr>\n",
       "    <tr>\n",
       "      <th>4</th>\n",
       "      <td>351</td>\n",
       "      <td>2018-03-07 13:27:14</td>\n",
       "      <td>2018-03-07 13:33:05</td>\n",
       "      <td>2018-03-07 00:00:00</td>\n",
       "      <td>3</td>\n",
       "      <td>7</td>\n",
       "      <td>Wednesday</td>\n",
       "      <td>13</td>\n",
       "      <td>162</td>\n",
       "      <td>237</td>\n",
       "      <td>Taxi</td>\n",
       "      <td>8.7</td>\n",
       "      <td>0.11</td>\n",
       "      <td>1</td>\n",
       "      <td>999.9</td>\n",
       "      <td>46.9</td>\n",
       "      <td>32.0</td>\n",
       "      <td>Manhattan</td>\n",
       "      <td>Midtown East</td>\n",
       "      <td>-73.972471</td>\n",
       "      <td>40.756840</td>\n",
       "      <td>Manhattan</td>\n",
       "      <td>Upper East Side South</td>\n",
       "      <td>-73.965635</td>\n",
       "      <td>40.768614</td>\n",
       "    </tr>\n",
       "  </tbody>\n",
       "</table>\n",
       "</div>"
      ],
      "text/plain": [
       "   travel_time      pickup_datetime     dropoff_datetime                 date  \\\n",
       "0          483  2018-03-07 13:02:47  2018-03-07 13:10:50  2018-03-07 00:00:00   \n",
       "1          681  2018-03-07 13:47:54  2018-03-07 13:59:15  2018-03-07 00:00:00   \n",
       "2          590  2018-03-07 13:24:32  2018-03-07 13:34:22  2018-03-07 00:00:00   \n",
       "3          379  2018-03-07 13:51:58  2018-03-07 13:58:17  2018-03-07 00:00:00   \n",
       "4          351  2018-03-07 13:27:14  2018-03-07 13:33:05  2018-03-07 00:00:00   \n",
       "\n",
       "   month  day      wkday  pick_hour  pickup_location_id  dropoff_location_id  \\\n",
       "0      3    7  Wednesday         13                 170                  141   \n",
       "1      3    7  Wednesday         13                 163                  230   \n",
       "2      3    7  Wednesday         13                 233                  224   \n",
       "3      3    7  Wednesday         13                 186                  246   \n",
       "4      3    7  Wednesday         13                 162                  237   \n",
       "\n",
       "   type AWND  PRCP SNOW   SNWD  TMAX  TMIN pickup_borough  \\\n",
       "0  Taxi  8.7  0.11    1  999.9  46.9  32.0      Manhattan   \n",
       "1  Taxi  8.7  0.11    1  999.9  46.9  32.0      Manhattan   \n",
       "2  Taxi  8.7  0.11    1  999.9  46.9  32.0      Manhattan   \n",
       "3  Taxi  8.7  0.11    1  999.9  46.9  32.0      Manhattan   \n",
       "4  Taxi  8.7  0.11    1  999.9  46.9  32.0      Manhattan   \n",
       "\n",
       "                    pickup_zone  pickup_longitude  pickup_latitude  \\\n",
       "0                   Murray Hill        -73.977648        40.747725   \n",
       "1                 Midtown North        -73.977041        40.764387   \n",
       "2           UN/Turtle Bay South        -73.969980        40.749124   \n",
       "3  Penn Station/Madison Sq West        -73.992434        40.748496   \n",
       "4                  Midtown East        -73.972471        40.756840   \n",
       "\n",
       "  dropoff_borough                    dropoff_zone  dropoff_longitude  \\\n",
       "0       Manhattan                 Lenox Hill West         -73.959634   \n",
       "1       Manhattan       Times Sq/Theatre District         -73.984196   \n",
       "2       Manhattan  Stuy Town/Peter Cooper Village         -73.976981   \n",
       "3       Manhattan       West Chelsea/Hudson Yards         -74.003811   \n",
       "4       Manhattan           Upper East Side South         -73.965635   \n",
       "\n",
       "   dropoff_latitude  \n",
       "0         40.766952  \n",
       "1         40.759817  \n",
       "2         40.731710  \n",
       "3         40.752412  \n",
       "4         40.768614  "
      ]
     },
     "execution_count": 83,
     "metadata": {},
     "output_type": "execute_result"
    }
   ],
   "source": [
    "data.pickup_location_id = data.pickup_location_id.astype(int)\n",
    "data.dropoff_location_id = data.dropoff_location_id.astype(int)\n",
    "\n",
    "data_backup  = data.copy()\n",
    "\n",
    "result = pd.merge(data, df_loc[['location_i', 'borough', 'zone', 'longitude', 'latitude']],\n",
    "                  left_on = 'pickup_location_id', right_on = 'location_i', how='left').drop(columns='location_i')\n",
    "\n",
    "result = pd.merge(result, df_loc[['location_i', 'borough', 'zone', 'longitude', 'latitude']],\n",
    "                  left_on = 'dropoff_location_id', right_on = 'location_i', how='left').drop(columns='location_i')\n",
    "\n",
    "result.columns = ['travel_time', 'pickup_datetime', 'dropoff_datetime', 'date', 'month','day', 'wkday', 'pick_hour', 'pickup_location_id',\n",
    "                  'dropoff_location_id', 'type', 'AWND', 'PRCP', 'SNOW', 'SNWD', 'TMAX','TMIN',\n",
    "                  'pickup_borough', 'pickup_zone', 'pickup_longitude','pickup_latitude',\n",
    "                  'dropoff_borough', 'dropoff_zone', 'dropoff_longitude', 'dropoff_latitude']\n",
    "result.head()"
   ]
  },
  {
   "cell_type": "code",
   "execution_count": 27,
   "metadata": {
    "scrolled": true
   },
   "outputs": [
    {
     "name": "stderr",
     "output_type": "stream",
     "text": [
      "E:\\Program Files\\Anaconda3\\lib\\site-packages\\ipykernel_launcher.py:22: RuntimeWarning: invalid value encountered in arcsin\n"
     ]
    }
   ],
   "source": [
    "data['haversine_distance'] = round(haversine_(data.pickup_latitude,data.pickup_longitude,data.dropoff_latitude,data.dropoff_longitude),3)\n",
    "data['manhattan_distance'] = round(manhattan_distance_pd(data.pickup_latitude,data.pickup_longitude,data.dropoff_latitude,data.dropoff_longitude),3)"
   ]
  },
  {
   "cell_type": "code",
   "execution_count": 68,
   "metadata": {},
   "outputs": [
    {
     "data": {
      "text/plain": [
       "265"
      ]
     },
     "execution_count": 68,
     "metadata": {},
     "output_type": "execute_result"
    }
   ],
   "source": [
    "result.dropoff_location_id.max()"
   ]
  },
  {
   "cell_type": "code",
   "execution_count": 90,
   "metadata": {},
   "outputs": [
    {
     "name": "stderr",
     "output_type": "stream",
     "text": [
      "E:\\Program Files\\Anaconda3\\lib\\site-packages\\ipykernel_launcher.py:36: RuntimeWarning: invalid value encountered in arcsin\n"
     ]
    },
    {
     "data": {
      "text/plain": [
       "178483   NaN\n",
       "181317   NaN\n",
       "184459   NaN\n",
       "192753   NaN\n",
       "195536   NaN\n",
       "195537   NaN\n",
       "195538   NaN\n",
       "195539   NaN\n",
       "207014   NaN\n",
       "235301   NaN\n",
       "238332   NaN\n",
       "244776   NaN\n",
       "245243   NaN\n",
       "248081   NaN\n",
       "251703   NaN\n",
       "252078   NaN\n",
       "263605   NaN\n",
       "265065   NaN\n",
       "269677   NaN\n",
       "271745   NaN\n",
       "274630   NaN\n",
       "276050   NaN\n",
       "279285   NaN\n",
       "280083   NaN\n",
       "285815   NaN\n",
       "288674   NaN\n",
       "293314   NaN\n",
       "294455   NaN\n",
       "295716   NaN\n",
       "300501   NaN\n",
       "301394   NaN\n",
       "314949   NaN\n",
       "dtype: float64"
      ]
     },
     "execution_count": 90,
     "metadata": {},
     "output_type": "execute_result"
    }
   ],
   "source": [
    "round(haversine_(result.pickup_latitude,result.pickup_longitude,result.dropoff_latitude,result.dropoff_longitude),3)[round(haversine_(result.pickup_latitude,result.pickup_longitude,result.dropoff_latitude,result.dropoff_longitude),3).isna()]"
   ]
  },
  {
   "cell_type": "code",
   "execution_count": 91,
   "metadata": {},
   "outputs": [
    {
     "data": {
      "text/plain": [
       "travel_time                                        1285\n",
       "pickup_datetime                    2018-02-03T22:09:58Z\n",
       "dropoff_datetime                   2018-02-03T22:31:23Z\n",
       "date                                         2018-02-03\n",
       "month                                                 2\n",
       "day                                                   3\n",
       "wkday                                          Saturday\n",
       "pick_hour                                            22\n",
       "pickup_location_id                                   57\n",
       "dropoff_location_id                                  69\n",
       "type                                               Uber\n",
       "AWND                                               7.61\n",
       "PRCP                                                  0\n",
       "SNOW                                                  0\n",
       "SNWD                                                  0\n",
       "TMAX                                                 31\n",
       "TMIN                                                 16\n",
       "pickup_borough                                      NaN\n",
       "pickup_zone                                         NaN\n",
       "pickup_longitude                                    NaN\n",
       "pickup_latitude                                     NaN\n",
       "dropoff_borough                                   Bronx\n",
       "dropoff_zone           East Concourse/Concourse Village\n",
       "dropoff_longitude                              -73.9162\n",
       "dropoff_latitude                                40.8306\n",
       "Name: 178483, dtype: object"
      ]
     },
     "execution_count": 91,
     "metadata": {},
     "output_type": "execute_result"
    }
   ],
   "source": [
    "result.iloc[178483,]"
   ]
  },
  {
   "cell_type": "code",
   "execution_count": 92,
   "metadata": {},
   "outputs": [
    {
     "data": {
      "text/html": [
       "<div>\n",
       "<style scoped>\n",
       "    .dataframe tbody tr th:only-of-type {\n",
       "        vertical-align: middle;\n",
       "    }\n",
       "\n",
       "    .dataframe tbody tr th {\n",
       "        vertical-align: top;\n",
       "    }\n",
       "\n",
       "    .dataframe thead th {\n",
       "        text-align: right;\n",
       "    }\n",
       "</style>\n",
       "<table border=\"1\" class=\"dataframe\">\n",
       "  <thead>\n",
       "    <tr style=\"text-align: right;\">\n",
       "      <th></th>\n",
       "      <th>borough</th>\n",
       "      <th>location_i</th>\n",
       "      <th>objectid</th>\n",
       "      <th>shape_area</th>\n",
       "      <th>shape_leng</th>\n",
       "      <th>zone</th>\n",
       "      <th>longitude</th>\n",
       "      <th>latitude</th>\n",
       "    </tr>\n",
       "  </thead>\n",
       "  <tbody>\n",
       "  </tbody>\n",
       "</table>\n",
       "</div>"
      ],
      "text/plain": [
       "Empty DataFrame\n",
       "Columns: [borough, location_i, objectid, shape_area, shape_leng, zone, longitude, latitude]\n",
       "Index: []"
      ]
     },
     "execution_count": 92,
     "metadata": {},
     "output_type": "execute_result"
    }
   ],
   "source": [
    "df_loc.loc[df_loc.location_i==57,:]"
   ]
  },
  {
   "cell_type": "markdown",
   "metadata": {},
   "source": [
    "### 1.2 Remove Outlier"
   ]
  },
  {
   "cell_type": "markdown",
   "metadata": {},
   "source": [
    "###  1.2.1 Remove Short & Large Distance"
   ]
  },
  {
   "cell_type": "markdown",
   "metadata": {},
   "source": [
    "#### Some passengers get on taxi then get off immediately, so the time and distance is near zero. Many rows do have zero for pickup or drop off location or almost same location for pick up and drop off. \n",
    "\n",
    "#### Therefore, we are only considered the travel time is at least 60 second and no longer than 5 hours. And, we investage on the distance between 0 and 50 miles"
   ]
  },
  {
   "cell_type": "code",
   "execution_count": null,
   "metadata": {
    "scrolled": false
   },
   "outputs": [],
   "source": [
    "data.plot(x='haversine_distance',y='travel_time',kind='scatter')"
   ]
  },
  {
   "cell_type": "code",
   "execution_count": null,
   "metadata": {},
   "outputs": [],
   "source": [
    "data.loc[(data.haversine_distance == 0) & (data.travel_time <= 60), ['travel_time', 'haversine_distance']].head(10)"
   ]
  },
  {
   "cell_type": "code",
   "execution_count": null,
   "metadata": {},
   "outputs": [],
   "source": [
    "data = data.loc[(data['haversine_distance'] > 0.5) & (data['haversine_distance']<50)]"
   ]
  },
  {
   "cell_type": "markdown",
   "metadata": {},
   "source": [
    "###  1.2.2 Remove Short & Large Trip Time"
   ]
  },
  {
   "cell_type": "markdown",
   "metadata": {},
   "source": [
    "#### In NYC"
   ]
  },
  {
   "cell_type": "code",
   "execution_count": null,
   "metadata": {},
   "outputs": [],
   "source": [
    "data = data.loc[(data['travel_time'] > 60) & (data['travel_time'] < 20000)]\n",
    "data.plot(x='haversine_distance',y='travel_time',kind='scatter')"
   ]
  },
  {
   "cell_type": "markdown",
   "metadata": {},
   "source": [
    "### 1.2.3 Clean GPS Coordinates"
   ]
  },
  {
   "cell_type": "code",
   "execution_count": null,
   "metadata": {},
   "outputs": [],
   "source": [
    "# clean any pickup not in the NYC\n",
    "xlim = [-74.03, -73.77]\n",
    "ylim = [40.63, 40.85]\n",
    "data = data[(data.pickup_longitude> xlim[0]) & (data.pickup_longitude < xlim[1])]\n",
    "data = data[(data.dropoff_longitude> xlim[0]) & (data.dropoff_longitude < xlim[1])]\n",
    "data = data[(data.pickup_latitude> ylim[0]) & (data.pickup_latitude < ylim[1])]\n",
    "data = data[(data.dropoff_latitude> ylim[0]) & (data.dropoff_latitude < ylim[1])]"
   ]
  },
  {
   "cell_type": "markdown",
   "metadata": {},
   "source": [
    "### 1.2.4 Remove No Passenger Trip"
   ]
  },
  {
   "cell_type": "code",
   "execution_count": null,
   "metadata": {},
   "outputs": [],
   "source": [
    "data = data.loc[data.passenger_count > 0]"
   ]
  },
  {
   "cell_type": "markdown",
   "metadata": {},
   "source": [
    "### 1.2.5 Clean Weather Data"
   ]
  },
  {
   "cell_type": "code",
   "execution_count": null,
   "metadata": {},
   "outputs": [],
   "source": [
    "# refill visib using forward or backward\n",
    "data['visib'] = data['visib'].replace(999.9, np.nan).fillna(method='ffill')\n",
    "\n",
    "# refill mxpsd using forward or backward\n",
    "data['mxpsd'] = data['mxpsd'].replace(999.9, np.nan).fillna(method='ffill')              \n",
    "\n",
    "# refill wdsp using forward or backward\n",
    "data['wdsp'] = data['wdsp'].replace(999.9, np.nan).fillna(method='ffill')              \n",
    "\n",
    "# refill gust as 0\n",
    "data.loc[(data['gust'] == 999.9), 'gust'] = 0\n",
    "\n",
    "# refit sndp as 0\n",
    "data.loc[data['sndp'] == 999.9, 'sndp'] = 0"
   ]
  },
  {
   "cell_type": "markdown",
   "metadata": {},
   "source": [
    "## 2. Exploratory Data Analysis & Process"
   ]
  },
  {
   "cell_type": "markdown",
   "metadata": {},
   "source": [
    "### Trip Duration vs Hours, Day of Week and Month"
   ]
  },
  {
   "cell_type": "markdown",
   "metadata": {},
   "source": [
    "#### Hourly Duration"
   ]
  },
  {
   "cell_type": "code",
   "execution_count": null,
   "metadata": {
    "scrolled": false
   },
   "outputs": [],
   "source": [
    "summary_hour_duration = pd.DataFrame(data.groupby('pickup_hour')['travel_time'].median())\n",
    "summary_hour_duration.reset_index(inplace = True)\n",
    "summary_hour_duration['unit']=1\n",
    "sns.set(style=\"white\", palette=\"muted\", color_codes=False)\n",
    "sns.set_context(\"poster\")\n",
    "sns.tsplot(data=summary_hour_duration, time=\"pickup_hour\", unit = \"unit\", value=\"travel_time\")\n",
    "sns.despine(bottom = True)"
   ]
  },
  {
   "cell_type": "code",
   "execution_count": null,
   "metadata": {},
   "outputs": [],
   "source": [
    "summary_hour_duration = pd.DataFrame(data.groupby(['weekday','pickup_hour'])['travel_time'].median())\n",
    "summary_hour_duration.reset_index(inplace = True)\n",
    "summary_hour_duration['unit']=1\n",
    "sns.set(style=\"white\", palette=\"muted\", color_codes=False)\n",
    "sns.set_context(\"poster\")\n",
    "sns.tsplot(data=summary_hour_duration, time=\"pickup_hour\", unit = \"unit\", condition=\"weekday\", value=\"travel_time\")\n",
    "sns.despine(bottom = True)"
   ]
  },
  {
   "cell_type": "code",
   "execution_count": null,
   "metadata": {},
   "outputs": [],
   "source": [
    "heatmap_data1 = summary_hour_duration.pivot(index = 'weekday',columns = 'pickup_hour',values = 'travel_time')\n",
    "fig,ax=plt.subplots(figsize = (20,7))\n",
    "plt.title('Hourly duration by weekday')\n",
    "sns.heatmap(heatmap_data1, cbar_kws={'label': 'Median Duration'}, cmap=\"YlGn\")"
   ]
  },
  {
   "cell_type": "code",
   "execution_count": null,
   "metadata": {},
   "outputs": [],
   "source": [
    "sns.set(style=\"ticks\")\n",
    "sns.set_context(\"poster\")\n",
    "sns.boxplot(x=\"pickup_hour\", y=\"travel_time\", data=data, palette=\"PRGn\")\n",
    "plt.ylim(120, 5000)\n",
    "sns.despine(offset=10, trim=True)\n",
    "print(data.travel_time.max())"
   ]
  },
  {
   "cell_type": "markdown",
   "metadata": {},
   "source": [
    "####  Weekly Durations"
   ]
  },
  {
   "cell_type": "code",
   "execution_count": null,
   "metadata": {},
   "outputs": [],
   "source": [
    "summary_week_duration = pd.DataFrame(data.groupby(['weekday'])['travel_time'].median())\n",
    "summary_week_duration.reset_index(inplace = True)\n",
    "summary_week_duration['unit']=1\n",
    "sns.set(style=\"white\", palette=\"muted\", color_codes=False)\n",
    "sns.set_context(\"poster\")\n",
    "sns.tsplot(data=summary_week_duration, time=\"weekday\", unit = \"unit\", value=\"travel_time\")\n",
    "sns.despine(bottom = True)"
   ]
  },
  {
   "cell_type": "code",
   "execution_count": null,
   "metadata": {},
   "outputs": [],
   "source": [
    "summary_weekday_duration = pd.DataFrame(data.groupby(['weekday','month_of_year'])['travel_time'].median())\n",
    "summary_weekday_duration.reset_index(inplace = True)\n",
    "summary_weekday_duration['unit']=1\n",
    "sns.set(style=\"white\", palette=\"muted\", color_codes=False)\n",
    "sns.set_context(\"poster\")\n",
    "sns.tsplot(data=summary_weekday_duration, time=\"weekday\", unit = \"unit\", condition=\"month_of_year\", value=\"travel_time\")\n",
    "sns.despine(bottom = True)"
   ]
  },
  {
   "cell_type": "code",
   "execution_count": null,
   "metadata": {},
   "outputs": [],
   "source": [
    "heatmap_data2 = summary_weekday_duration.pivot(index = 'month_of_year',columns = 'weekday',values = 'travel_time')\n",
    "fig,ax=plt.subplots(figsize = (20,7))\n",
    "plt.title('Hourly duration by weekday')\n",
    "ax.axis\n",
    "sns.heatmap(heatmap_data2, cbar_kws={'label': 'Median Duration'}, cmap=\"YlGn\")"
   ]
  },
  {
   "cell_type": "code",
   "execution_count": null,
   "metadata": {},
   "outputs": [],
   "source": [
    "sns.set(style=\"ticks\")\n",
    "sns.set_context(\"poster\")\n",
    "sns.boxplot(x=\"weekday\", y=\"travel_time\", data=data, palette=\"PRGn\")\n",
    "plt.ylim(0, 5000)\n",
    "sns.despine(offset=10, trim=True)\n",
    "print(data.travel_time.max())"
   ]
  },
  {
   "cell_type": "markdown",
   "metadata": {},
   "source": [
    "#### Monthly Duration"
   ]
  },
  {
   "cell_type": "code",
   "execution_count": null,
   "metadata": {},
   "outputs": [],
   "source": [
    "summary_month_duration = pd.DataFrame(data.groupby(['month_of_year'])['travel_time'].median())\n",
    "summary_month_duration.reset_index(inplace = True)\n",
    "summary_month_duration['unit']=1\n",
    "sns.set(style=\"white\", palette=\"muted\", color_codes=False)\n",
    "sns.set_context(\"poster\")\n",
    "sns.tsplot(data=summary_month_duration, time=\"month_of_year\", unit = \"unit\", value=\"travel_time\")\n",
    "sns.despine(bottom = True)"
   ]
  },
  {
   "cell_type": "code",
   "execution_count": null,
   "metadata": {},
   "outputs": [],
   "source": [
    "sns.set(style=\"ticks\")\n",
    "sns.set_context(\"poster\")\n",
    "sns.boxplot(x=\"month_of_year\", y=\"travel_time\", data=data, palette=\"PRGn\")\n",
    "plt.ylim(0, 5000)\n",
    "sns.despine(offset=10, trim=True)\n",
    "print(data.travel_time.max())"
   ]
  },
  {
   "cell_type": "markdown",
   "metadata": {},
   "source": [
    "### Summary of Weather Data"
   ]
  },
  {
   "cell_type": "code",
   "execution_count": null,
   "metadata": {},
   "outputs": [],
   "source": [
    "df_weather = pd.read_csv(\"./Data/tables/weather_2016_cleaned.csv\")"
   ]
  },
  {
   "cell_type": "code",
   "execution_count": null,
   "metadata": {},
   "outputs": [],
   "source": [
    "df_weather.boxplot(figsize=(30,5))"
   ]
  },
  {
   "cell_type": "code",
   "execution_count": null,
   "metadata": {},
   "outputs": [],
   "source": [
    "df_weather.hist(figsize=(8,15))"
   ]
  },
  {
   "cell_type": "code",
   "execution_count": null,
   "metadata": {},
   "outputs": [],
   "source": [
    "corr = df_weather.corr()\n",
    "cmap = sns.diverging_palette(250, 10, sep=20, as_cmap=True)\n",
    "sns.heatmap(corr, xticklabels=corr.columns, yticklabels=corr.columns, cmap=cmap)"
   ]
  },
  {
   "cell_type": "markdown",
   "metadata": {},
   "source": [
    "### Weather vs Trip Duration"
   ]
  },
  {
   "cell_type": "code",
   "execution_count": null,
   "metadata": {},
   "outputs": [],
   "source": [
    "df = data[['date_of_year','travel_time', 'temp','visib','mxpsd', 'wdsp', 'gust', 'max', 'min', 'prcp', 'sndp', \n",
    "             'fog', 'rain_drizzle', 'snow_ice_pellets', 'hail', 'thunder']]\n",
    "corr = df.corr()\n",
    "cmap = sns.diverging_palette(250, 10, sep=20, as_cmap=True)\n",
    "sns.heatmap(corr, xticklabels=corr.columns, yticklabels=corr.columns, cmap=cmap)"
   ]
  },
  {
   "cell_type": "markdown",
   "metadata": {},
   "source": [
    "## 3. Feature Engineer"
   ]
  },
  {
   "cell_type": "markdown",
   "metadata": {},
   "source": [
    "### 3.1 Transformation of Trip Duration"
   ]
  },
  {
   "cell_type": "code",
   "execution_count": null,
   "metadata": {
    "scrolled": false
   },
   "outputs": [],
   "source": [
    "sns.set(style=\"white\", palette=\"muted\", color_codes=True)\n",
    "ff, axes = plt.subplots(1,1, figsize=(8, 6), sharex=True)\n",
    "sns.despine(left=True)\n",
    "\n",
    "sns.distplot(data['travel_time'].values+1, axlabel = 'Distance', label = 'Histogrqm of Distance', bins = 50, color=\"r\")\n",
    "plt.setp(axes, yticks=[])\n",
    "plt.tight_layout()"
   ]
  },
  {
   "cell_type": "code",
   "execution_count": null,
   "metadata": {},
   "outputs": [],
   "source": [
    "data['travel_time'] = np.log(data['travel_time']).values+1\n",
    "\n",
    "sns.set(style=\"white\", palette=\"muted\", color_codes=True)\n",
    "ff, axes = plt.subplots(1,1, figsize=(8, 6), sharex=True)\n",
    "sns.distplot(data['travel_time'], axlabel = 'Log Distance', label = 'Histogrqm of Distance', bins = 50, color=\"r\")\n"
   ]
  },
  {
   "cell_type": "markdown",
   "metadata": {},
   "source": [
    "### 3.2 Weekday"
   ]
  },
  {
   "cell_type": "code",
   "execution_count": null,
   "metadata": {},
   "outputs": [],
   "source": [
    "data['weekday'] = data['date'].dt.weekday"
   ]
  },
  {
   "cell_type": "markdown",
   "metadata": {},
   "source": [
    "### 3.3 Holiday"
   ]
  },
  {
   "cell_type": "code",
   "execution_count": null,
   "metadata": {},
   "outputs": [],
   "source": [
    "us_holidays = holidays.UnitedStates()\n",
    "data['holiday'] = data['date'].apply(lambda x: 1 if x in us_holidays else 0)"
   ]
  },
  {
   "cell_type": "markdown",
   "metadata": {},
   "source": [
    "### 3.4 Rush Hour"
   ]
  },
  {
   "cell_type": "code",
   "execution_count": null,
   "metadata": {},
   "outputs": [],
   "source": [
    "# create dummy for rush hour\n",
    "data[\"rush_hour\"] = 0\n",
    "data.loc[(data[\"pickup_hour\"] >= 8) & (data[\"pickup_hour\"] <= 16),\"rush_hour\"] = 1"
   ]
  },
  {
   "cell_type": "markdown",
   "metadata": {},
   "source": [
    "### 3.5 Bearing"
   ]
  },
  {
   "cell_type": "code",
   "execution_count": null,
   "metadata": {},
   "outputs": [],
   "source": [
    "def bearing_array(lat1, lng1, lat2, lng2):\n",
    "    \"\"\"calculate bearing for each trip\"\"\"\n",
    "    AVG_EARTH_RADIUS = 6371  # in km\n",
    "    lng_delta_rad = np.radians(lng2 - lng1)\n",
    "    lat1, lng1, lat2, lng2 = map(np.radians, (lat1, lng1, lat2, lng2))\n",
    "    y = np.sin(lng_delta_rad) * np.cos(lat2)\n",
    "    x = np.cos(lat1) * np.sin(lat2) - np.sin(lat1) * np.cos(lat2) * np.cos(lng_delta_rad)\n",
    "    return np.degrees(np.arctan2(y, x))\n",
    "\n",
    "data['bearing'] = round(bearing_array(data.pickup_latitude,data.pickup_longitude,data.dropoff_latitude,data.dropoff_longitude),3)"
   ]
  },
  {
   "cell_type": "markdown",
   "metadata": {},
   "source": [
    "### 3.6 Airport Trip"
   ]
  },
  {
   "cell_type": "code",
   "execution_count": null,
   "metadata": {},
   "outputs": [],
   "source": [
    "data['airport'] = 0\n",
    "xlim = [-73.80, -73.77]\n",
    "ylim = [40.63, 40.65]\n",
    "data.loc[(data.pickup_longitude> xlim[0]) & (data.pickup_longitude < xlim[1]) &\n",
    "         (data.pickup_latitude> ylim[0]) & (data.pickup_latitude < ylim[1]), 'airport'] = 1\n",
    "data.loc[(data.dropoff_longitude> xlim[0]) & (data.dropoff_longitude < xlim[1]) &\n",
    "         (data.dropoff_latitude> ylim[0]) & (data.dropoff_latitude < ylim[1]), 'airport'] = 1\n",
    "\n",
    "xlim = [-73.88, -73.85]\n",
    "ylim = [40.76, 40.78]\n",
    "data.loc[(data.pickup_longitude> xlim[0]) & (data.pickup_longitude < xlim[1]) &\n",
    "     (data.pickup_latitude> ylim[0]) & (data.pickup_latitude < ylim[1]), 'airport'] = 1\n",
    "data.loc[(data.dropoff_longitude> xlim[0]) & (data.dropoff_longitude < xlim[1]) &\n",
    "     (data.dropoff_latitude> ylim[0]) & (data.dropoff_latitude < ylim[1]), 'airport'] = 1"
   ]
  },
  {
   "cell_type": "markdown",
   "metadata": {},
   "source": [
    "## K-means Cluster\n",
    "#### Cluster pickup and dropoff locations¶"
   ]
  },
  {
   "cell_type": "code",
   "execution_count": null,
   "metadata": {},
   "outputs": [],
   "source": [
    "start = time.time()\n",
    "loc_df = pd.DataFrame()\n",
    "loc_df['longitude'] = data.pickup_longitude\n",
    "loc_df['latitude'] = data.pickup_latitude\n",
    "loc_df[\"dropoff_lat\"] = data.dropoff_latitude\n",
    "loc_df['dropoff_long'] = data.dropoff_longitude\n",
    "\n",
    "kmeans = KMeans(n_clusters=25, random_state=2, n_init = 10).fit(loc_df)\n",
    "loc_df['label'] = kmeans.labels_\n",
    "plt.figure(figsize = (10,10))\n",
    "for label in loc_df.label.unique():\n",
    "    plt.plot(loc_df.longitude[loc_df.label == label],loc_df.latitude[loc_df.label == label],'.', alpha = 0.3, markersize = 10)\n",
    "\n",
    "end = time.time()\n",
    "print(\"Time taken by above cell is {}.\".format(round((end-start)/60,2)))\n",
    "    \n",
    "plt.title('Clusters of New York')\n",
    "plt.show()\n",
    "\n",
    "data['cluster'] = loc_df.label"
   ]
  },
  {
   "cell_type": "markdown",
   "metadata": {},
   "source": [
    "### Geohash"
   ]
  },
  {
   "cell_type": "markdown",
   "metadata": {},
   "source": [
    "#### Add geohash to represent location"
   ]
  },
  {
   "cell_type": "code",
   "execution_count": null,
   "metadata": {},
   "outputs": [],
   "source": [
    "start = time.time()\n",
    "pickup = []\n",
    "dropoff = []\n",
    "for i in range(len(data)):\n",
    "    \n",
    "    dropoff.append(ghh.encode(data.dropoff_longitude.iloc[i], data.dropoff_latitude.iloc[i], precision=5))\n",
    "\n",
    "\n",
    "data['dropoff_geo'] = dropoff\n",
    "data[\"dropoff_geo_recode\"] = data[\"dropoff_geo\"].astype('category').cat.codes\n",
    "\n",
    "end = time.time()\n",
    "print(\"Time taken by above cell is {}.\".format(round((end-start)/60,2)))"
   ]
  },
  {
   "cell_type": "markdown",
   "metadata": {},
   "source": [
    "#### Plot geohash map"
   ]
  },
  {
   "cell_type": "code",
   "execution_count": null,
   "metadata": {
    "scrolled": false
   },
   "outputs": [],
   "source": [
    "from IPython.display import Image\n",
    "Image(filename='geohash_pickup.png', width=500, height=300)"
   ]
  },
  {
   "cell_type": "markdown",
   "metadata": {},
   "source": [
    "### Taxi Zone"
   ]
  },
  {
   "cell_type": "markdown",
   "metadata": {},
   "source": [
    "## 4. Optimize the memory usage"
   ]
  },
  {
   "cell_type": "code",
   "execution_count": null,
   "metadata": {},
   "outputs": [],
   "source": [
    "data = data.drop(['wdsp', 'gust', 'snow_ice_pellets', 'hail', 'thunder','dropoff_geo'], axis = 1)"
   ]
  },
  {
   "cell_type": "code",
   "execution_count": null,
   "metadata": {
    "scrolled": true
   },
   "outputs": [],
   "source": [
    "# Create a function to be calculating memory usage\n",
    "def get_usage(obj):\n",
    "    if isinstance(obj, pd.DataFrame):\n",
    "        usage = obj.memory_usage(deep=True).sum()\n",
    "    else:\n",
    "        usage = obj.memory_usage(deep=True)\n",
    "    return \"{:03.2f} MB\".format(usage / (1024**2))\n",
    "\n",
    "# Convert object to int\n",
    "obj = data.select_dtypes(include = 'object')\n",
    "obj = obj.iloc[:,0:7]\n",
    "obj_f32 = obj.apply(pd.to_numeric, downcast='unsigned')\n",
    "\n",
    "# Convert int64 to int8\n",
    "obj = data.select_dtypes(include = 'int64')\n",
    "obj_int = obj.apply(pd.to_numeric, downcast='unsigned')\n",
    "\n",
    "# Convert float64 to float32\n",
    "obj = data.select_dtypes(include = 'float64')\n",
    "obj_f = obj.apply(pd.to_numeric, downcast='float')\n",
    "\n",
    "# Calculated the memory we reduced by down grade int and float\n",
    "print(\"Original memory usage: \", get_usage(data))\n",
    "data[obj_f32.columns] = obj_f32\n",
    "data[obj_int.columns] = obj_int\n",
    "data[obj_f.columns] = obj_f\n",
    "print(\"After converting int and float memory usage: \", get_usage(data))"
   ]
  },
  {
   "cell_type": "code",
   "execution_count": null,
   "metadata": {},
   "outputs": [],
   "source": [
    "data.head()"
   ]
  },
  {
   "cell_type": "markdown",
   "metadata": {},
   "source": [
    "## Modeling"
   ]
  },
  {
   "cell_type": "code",
   "execution_count": null,
   "metadata": {},
   "outputs": [],
   "source": [
    "selected_features = ['month', 'pickup_hour', 'weekday', 'holiday','rush_hour',\n",
    "                     'pickup_longitude', 'pickup_latitude', 'dropoff_longitude', 'dropoff_latitude',\n",
    "                     'temp', 'visib', 'mxpsd',  'prcp', 'sndp', 'fog', 'passenger_count',\n",
    "                     'bearing', 'airport','manhattan_distance','haversine_distance', 'dropoff_geo_recode'\n",
    "                    ]\n",
    "\n",
    "x = data[selected_features]\n",
    "y = data['travel_time']\n",
    "\n",
    "x_train, x_test, y_train, y_test = train_test_split(x, y, test_size=0.2, random_state=2)"
   ]
  },
  {
   "cell_type": "code",
   "execution_count": null,
   "metadata": {
    "scrolled": false
   },
   "outputs": [],
   "source": [
    "def train_test_model_performance(clf, x_train = x_train, y_train = y_train, x_test = x_test, y_test = y_test):\n",
    "    \n",
    "    # Fit a model by providing X and y from training set\n",
    "    clf.fit(x_train, y_train)\n",
    "    print(clf)\n",
    "    # Make prediction on the training data\n",
    "    y_train_pred = clf.predict(x_train)\n",
    "\n",
    "    # Make predictions on test data\n",
    "    y_test_pred = clf.predict(x_test)\n",
    "    \n",
    "    # Evaluate\n",
    "    R2_Train = clf.score(x_train,y_train)\n",
    "    R2_Test = clf.score(x_test,y_test)\n",
    "    RMSE_Train = sqrt(mean_squared_error(y_train, y_train_pred))\n",
    "    RMSE_Test = sqrt(mean_squared_error(y_test, y_test_pred))\n",
    "#     RMSLE_Train = sqrt(mean_squared_log_error(y_train, y_train_pred))\n",
    "#     RMSLE_Test = sqrt(mean_squared_log_error(y_test, y_test_pred))\n",
    "    \n",
    "    metric_names = ['R2','RMSE']\n",
    "    metric_values_train = [R2_Train, RMSE_Train]\n",
    "    metric_values_test = [R2_Test, RMSE_Test]\n",
    "    all_metrics = pd.DataFrame({'metrics':metric_names,\n",
    "                                'train':metric_values_train,\n",
    "                                'test':metric_values_test},columns=['metrics','train','test']).set_index('metrics')\n",
    "    print(all_metrics)"
   ]
  },
  {
   "cell_type": "code",
   "execution_count": null,
   "metadata": {},
   "outputs": [],
   "source": [
    "def cv_model_performance(clf, x_train = x_train, y_train = y_train, x_test = x_test, y_test = y_test):\n",
    "    \n",
    "    # Fit a model by providing X and y from training set\n",
    "    clf.fit(x_train, y_train)\n",
    "    model = clf.best_estimator_\n",
    "    print(model)\n",
    "    \n",
    "    # Make prediction on the training data\n",
    "    y_train_pred = model.predict(x_train)\n",
    "\n",
    "    # Make predictions on test data\n",
    "    y_test_pred = model.predict(x_test)\n",
    "    \n",
    "    # Evaluate\n",
    "    R2_Train = model.score(x_train,y_train)\n",
    "    R2_Test = model.score(x_test,y_test)\n",
    "    RMSE_Train = sqrt(mean_squared_error(y_train, y_train_pred))\n",
    "    RMSE_Test = sqrt(mean_squared_error(y_test, y_test_pred))\n",
    "    RMSLE_Train = sqrt(mean_squared_log_error(y_train, y_train_pred))\n",
    "    RMSLE_Test = sqrt(mean_squared_log_error(y_test, y_test_pred))\n",
    "    \n",
    "    metric_names = ['R2','RMSE','RMSLE']\n",
    "    metric_values_train = [R2_Train, RMSE_Train, RMSLE_Train]\n",
    "    metric_values_test = [R2_Test, RMSE_Test, RMSLE_Test]\n",
    "    all_metrics = pd.DataFrame({'metrics':metric_names,\n",
    "                                'train':metric_values_train,\n",
    "                                'test':metric_values_test},columns=['metrics','train','test']).set_index('metrics')\n",
    "    print(all_metrics)"
   ]
  },
  {
   "cell_type": "markdown",
   "metadata": {},
   "source": [
    "### Random Forest"
   ]
  },
  {
   "cell_type": "markdown",
   "metadata": {},
   "source": [
    "#### Cross Validation"
   ]
  },
  {
   "cell_type": "code",
   "execution_count": null,
   "metadata": {},
   "outputs": [],
   "source": [
    "start = time.time()\n",
    "\n",
    "# Choose the type of classifier. /\n",
    "rf = RandomForestRegressor()\n",
    "\n",
    "# Choose some parameter combinations to try\n",
    "param_grid = {'n_estimators': [300,400], \n",
    "              'max_features': ['auto'], \n",
    "              'max_depth': [40,50], \n",
    "              'min_samples_split': [30, 50],\n",
    "              'n_jobs':[-1]\n",
    "             }\n",
    "\n",
    "# read theory\n",
    "grid_obj = GridSearchCV(rf, param_grid, cv=3, n_jobs = 8, iid=False, verbose=10, scoring='r2')\n",
    "cv_model_performance(grid_obj)\n",
    "\n",
    "end = time.time()\n",
    "print(\"Time taken by above cell is {}.\".format((end-start)/60))"
   ]
  },
  {
   "cell_type": "markdown",
   "metadata": {},
   "source": [
    "#### Train RF"
   ]
  },
  {
   "cell_type": "markdown",
   "metadata": {},
   "source": [
    "#### Feature Importance"
   ]
  },
  {
   "cell_type": "code",
   "execution_count": null,
   "metadata": {
    "scrolled": true
   },
   "outputs": [],
   "source": [
    "start = time.time()\n",
    "# parameters = {'n_estimators': 300,\n",
    "#              'max_features': 'auto',\n",
    "#               'max_depth': 50,\n",
    "#               'min_samples_split': 40,\n",
    "#               'random_state': 2,\n",
    "#               'n_jobs': -1,\n",
    "#               }\n",
    "# 0.899009  0.839094 25\n",
    "\n",
    "parameters = {'n_estimators': 300,\n",
    "             'max_features': 'auto',\n",
    "              'max_depth': 50,\n",
    "              'min_samples_split': 150,\n",
    "              'random_state': 2,\n",
    "              'n_jobs': -1\n",
    "              }\n",
    "\n",
    "rf = RandomForestRegressor(**parameters)\n",
    "train_test_model_performance(rf)\n",
    "\n",
    "end = time.time()\n",
    "print(\"Time taken by above cell is {}.\".format(round(end-start)/60,2))"
   ]
  },
  {
   "cell_type": "code",
   "execution_count": null,
   "metadata": {
    "scrolled": true
   },
   "outputs": [],
   "source": [
    "features = pd.DataFrame(list(zip(selected_features, rf.feature_importances_))).sort_values(by=[1], ascending=False)\n",
    "features.columns = ['feature', 'value']\n",
    "\n",
    "ax = features.iloc[0:10].plot.barh()\n",
    "t = np.arange(11)\n",
    "ax.set_yticks(t)\n",
    "ax.set_yticklabels(features['feature'])\n",
    "plt.show()"
   ]
  },
  {
   "cell_type": "markdown",
   "metadata": {},
   "source": [
    "### Gradient Boosting Trees"
   ]
  },
  {
   "cell_type": "markdown",
   "metadata": {},
   "source": [
    "#### Cross Validation"
   ]
  },
  {
   "cell_type": "code",
   "execution_count": null,
   "metadata": {
    "scrolled": false
   },
   "outputs": [],
   "source": [
    "start = time.time()\n",
    "GBDT = GradientBoostingRegressor()\n",
    "\n",
    "# Choose some parameter combinations to try\n",
    "param_grid = {'n_estimators': [250, 300], \n",
    "              'max_depth': [10, 11], \n",
    "              'learning_rate': [0.2],\n",
    "              'min_samples_split': [50, 55],\n",
    "              'subsample':[0.9],\n",
    "              'random_state': [2]\n",
    "             }\n",
    "\n",
    "# read theory\n",
    "grid_obj = GridSearchCV(GBDT, param_grid, cv=3, n_jobs=8, iid=False, verbose=10, scoring='r2')\n",
    "cv_model_performance(grid_obj)\n",
    "\n",
    "end = time.time()\n",
    "print(\"Time taken by above cell is {}.\".format((end-start)/60))"
   ]
  },
  {
   "cell_type": "markdown",
   "metadata": {},
   "source": [
    "#### Train GBDT"
   ]
  },
  {
   "cell_type": "code",
   "execution_count": null,
   "metadata": {},
   "outputs": [],
   "source": [
    "start = time.time()\n",
    "\n",
    "#Choose some parameter combinations to try\n",
    "# parameters = {\n",
    "#     'n_estimators': 150,\n",
    "#     'max_depth': 7,\n",
    "#     'learning_rate': 0.2,\n",
    "#     'min_samples_split': 30,\n",
    "#     'max_features': 'auto',\n",
    "#     'subsample': 0.7,\n",
    "#     'random_state': 2\n",
    "# }\n",
    "\n",
    "#0.797\n",
    "parameters = {\n",
    "    'n_estimators': 300,\n",
    "    'max_depth': 9,\n",
    "    'learning_rate': 0.2,\n",
    "    'min_samples_split': 50,\n",
    "    'subsample': 0.9,\n",
    "    'random_state': 2\n",
    "}\n",
    "\n",
    "GBDT = GradientBoostingRegressor(**parameters)\n",
    "train_test_model_performance(GBDT)\n",
    "\n",
    "end = time.time()\n",
    "print(\"Time taken by above cell is {}.\".format(round((end-start)/60),2))"
   ]
  },
  {
   "cell_type": "markdown",
   "metadata": {},
   "source": [
    "#### Feature Improtance"
   ]
  },
  {
   "cell_type": "code",
   "execution_count": null,
   "metadata": {
    "scrolled": true
   },
   "outputs": [],
   "source": [
    "features = pd.DataFrame(list(zip(selected_features, GBDT.feature_importances_))).sort_values(by=[1], ascending=False)\n",
    "features.columns = ['feature', 'value']\n",
    "features.head(10)\n",
    "\n",
    "ax = features.iloc[0:10].plot.barh()\n",
    "t = np.arange(11)\n",
    "ax.set_yticks(t)\n",
    "ax.set_yticklabels(features['feature'])\n",
    "plt.show()"
   ]
  },
  {
   "cell_type": "markdown",
   "metadata": {},
   "source": [
    "### Extremely Gradient Boosting (XGB)"
   ]
  },
  {
   "cell_type": "markdown",
   "metadata": {},
   "source": [
    "#### Spliting Train and Test Data"
   ]
  },
  {
   "cell_type": "code",
   "execution_count": null,
   "metadata": {},
   "outputs": [],
   "source": [
    "selected_features = ['month_of_year', 'day_of_year', 'pickup_hour', 'pickup_longitude', 'pickup_latitude', 'dropoff_longitude',\n",
    "      'dropoff_latitude', 'passenger_count',  'prcp', 'sndp', 'fog', 'weekday', 'holiday', \n",
    "                     'haversine_distance','cluster','bearing','manhattan_distance']\n",
    "x = data[selected_features]\n",
    "y = np.log(data['travel_time'])\n",
    "\n",
    "x_train, x_test, y_train, y_test = train_test_split(x, y, test_size=0.2, random_state=2)\n"
   ]
  },
  {
   "cell_type": "code",
   "execution_count": null,
   "metadata": {},
   "outputs": [],
   "source": [
    "dtrain = xgb.DMatrix(x_train, label=y_train)\n",
    "dvalid = xgb.DMatrix(x_test, label=y_test)\n",
    "watchlist = [(dtrain, 'train'), (dvalid, 'valid')]"
   ]
  },
  {
   "cell_type": "markdown",
   "metadata": {},
   "source": [
    "#### Grid Search CV for parameter selection"
   ]
  },
  {
   "cell_type": "code",
   "execution_count": null,
   "metadata": {
    "scrolled": false
   },
   "outputs": [],
   "source": [
    "from sklearn.grid_search import GridSearchCV \n",
    "\n",
    "parameters_for_testing = {\n",
    "   'min_child_weight':[10,15],\n",
    "   'max_depth':[15,17],\n",
    "   'alpha':[10,15]\n",
    "    \n",
    "}\n",
    "          \n",
    "xgb_model = xgb.XGBRegressor(learning_rate =0.1, n_estimators=200, max_depth=12,\n",
    "    min_child_weight=10, subsample=0.6, colsample_bytree=0.6, nthread= 8, scale_pos_weight=1, seed=27)\n",
    "\n",
    "gsearch1 = GridSearchCV(estimator = xgb_model, param_grid = parameters_for_testing, cv=3, n_jobs=8,iid=False, verbose=10,scoring='r2')\n",
    "gsearch1.fit(x_train,y_train)\n",
    "print (gsearch1.grid_scores_)\n",
    "print('best params')\n",
    "print (gsearch1.best_params_)\n",
    "print('best score')\n",
    "print (gsearch1.best_score_)"
   ]
  },
  {
   "cell_type": "markdown",
   "metadata": {},
   "source": [
    "#### Train model "
   ]
  },
  {
   "cell_type": "code",
   "execution_count": null,
   "metadata": {
    "scrolled": false
   },
   "outputs": [],
   "source": [
    "start = time.time()\n",
    "xgb_pars = {'min_child_weight': 15, 'eta': 0.1, 'colsample_bytree': 0.7, \n",
    "            'max_depth': 15, 'alpha' : 15,\n",
    "            'subsample': 0.7,'nthread': -1, 'booster' : 'gbtree', 'silent': 1,\n",
    "            'eval_metric': 'rmse', 'objective': 'reg:linear','lambda':1}\n",
    "model = xgb.train(xgb_pars, dtrain, 250, watchlist, early_stopping_rounds=2,\n",
    "      maximize=False, verbose_eval=1)\n",
    "print('Modeling RMSE %.5f' % model.best_score)\n",
    "\n",
    "end = time.time()\n",
    "print(\"Time taken by above cell is {}.\".format(round((end-start)/60),2))"
   ]
  },
  {
   "cell_type": "markdown",
   "metadata": {},
   "source": [
    "#### Feature Improtance"
   ]
  },
  {
   "cell_type": "code",
   "execution_count": null,
   "metadata": {},
   "outputs": [],
   "source": [
    "xgb.plot_importance(model, max_num_features=28, height=0.5)"
   ]
  },
  {
   "cell_type": "markdown",
   "metadata": {},
   "source": [
    "#### Evaluate model performance"
   ]
  },
  {
   "cell_type": "code",
   "execution_count": null,
   "metadata": {
    "scrolled": true
   },
   "outputs": [],
   "source": [
    "# Make prediction on the training data\n",
    "y_train_pred = model.predict(dtrain)\n",
    "\n",
    "# Make predictions on test data\n",
    "y_test_pred = model.predict(dvalid)\n",
    "\n",
    "# Evaluate\n",
    "R2_Train = r2_score(y_train_pred, y_train)\n",
    "R2_Test = r2_score(y_test_pred, y_test)\n",
    "RMSE_Train = sqrt(mean_squared_error(y_train, y_train_pred))\n",
    "RMSE_Test = sqrt(mean_squared_error(y_test, y_test_pred))\n",
    "\n",
    "metric_names = ['R2','RMSE']\n",
    "metric_values_train = [R2_Train, RMSE_Train]\n",
    "metric_values_test = [R2_Test, RMSE_Test]\n",
    "all_metrics = pd.DataFrame({'metrics':metric_names,\n",
    "                            'train':metric_values_train,\n",
    "                            'test':metric_values_test},columns=['metrics','train','test']).set_index('metrics')\n",
    "print(all_metrics)\n"
   ]
  },
  {
   "cell_type": "code",
   "execution_count": null,
   "metadata": {},
   "outputs": [],
   "source": [
    "# Make prediction on the training data\n",
    "y_train_pred = model.predict(dtrain)\n",
    "\n",
    "# Make predictions on test data\n",
    "y_test_pred = model.predict(dvalid)\n",
    "\n",
    "# Evaluate\n",
    "R2_Train = r2_score(y_train_pred, y_train)\n",
    "R2_Test = r2_score(y_test_pred, y_test)\n",
    "RMSE_Train = sqrt(mean_squared_error(y_train, y_train_pred))\n",
    "RMSE_Test = sqrt(mean_squared_error(y_test, y_test_pred))\n",
    "\n",
    "metric_names = ['R2','RMSE']\n",
    "metric_values_train = [R2_Train, RMSE_Train]\n",
    "metric_values_test = [R2_Test, RMSE_Test]\n",
    "all_metrics = pd.DataFrame({'metrics':metric_names,\n",
    "                            'train':metric_values_train,\n",
    "                            'test':metric_values_test},columns=['metrics','train','test']).set_index('metrics')\n",
    "print(all_metrics)"
   ]
  },
  {
   "cell_type": "code",
   "execution_count": null,
   "metadata": {},
   "outputs": [],
   "source": [
    "data.shape"
   ]
  },
  {
   "cell_type": "markdown",
   "metadata": {},
   "source": [
    "## Prediction"
   ]
  },
  {
   "cell_type": "code",
   "execution_count": null,
   "metadata": {},
   "outputs": [],
   "source": [
    "def haversine_(lat1, lng1, lat2, lng2):\n",
    "    \"\"\"function to calculate haversine distance between two co-ordinates\"\"\"\n",
    "    lat1, lng1, lat2, lng2 = map(np.radians, (lat1, lng1, lat2, lng2))\n",
    "    AVG_EARTH_RADIUS = 6371  # in km\n",
    "    lat = lat2 - lat1\n",
    "    lng = lng2 - lng1\n",
    "    d = np.sin(lat * 0.5) ** 2 + np.cos(lat1) * np.cos(lat2) * np.sin(lng * 0.5) ** 2\n",
    "    h = round(2 * AVG_EARTH_RADIUS * np.arcsin(np.sqrt(d)),3)\n",
    "    return(h)\n",
    "\n",
    "def manhattan_distance_pd(lat1, lng1, lat2, lng2):\n",
    "    \"\"\"function to calculate manhatten distance between pick_drop\"\"\"\n",
    "    a = haversine_(lat1, lng1, lat1, lng2)\n",
    "    b = haversine_(lat1, lng1, lat2, lng1)\n",
    "    return a + b\n",
    "\n",
    "def feature_engineer(data):\n",
    "    start = time.time()\n",
    "    \n",
    "    # create distance_in_km\n",
    "    data['haversine_distance'] = haversine_(data.pickup_latitude,data.pickup_longitude,data.dropoff_latitude,data.dropoff_longitude)\n",
    "\n",
    "    # create mahattan dist\n",
    "    data['manhattan_distance'] = manhattan_distance_pd(data.pickup_latitude,data.pickup_longitude,data.dropoff_latitude,data.dropoff_longitude)\n",
    "\n",
    "    # create bearing\n",
    "    data['bearing'] = bearing_array(data.pickup_latitude,data.pickup_longitude,data.dropoff_latitude,data.dropoff_longitude)\n",
    "\n",
    "    # create weekday\n",
    "    data[\"weekday\"] = data['pickup_datetime'].dt.dayofweek\n",
    "\n",
    "    # create holiday\n",
    "    us_holidays = holidays.UnitedStates()\n",
    "    data['holiday'] = data['date_of_year'].apply(lambda x: 1 if x in us_holidays else 0)\n",
    "    \n",
    "    # K-means clustering\n",
    "    location = data.loc[:, ['pickup_longitude', 'pickup_latitude', 'dropoff_longitude', 'dropoff_latitude']]\n",
    "    kmeans = KMeans(n_clusters=50, random_state=123, n_init = 10, n_jobs = 4).fit(location)\n",
    "    data['cluster'] = kmeans.labels_\n",
    "  \n",
    "    # create geo hash (clustering the pickup and dropoff spots)\n",
    "#     pickup = []\n",
    "    dropoff = []\n",
    "    for i in range(len(data)):\n",
    "        dropoff.append(ghh.encode(data.dropoff_longitude.iloc[i], data.dropoff_latitude.iloc[i], precision=5))\n",
    "\n",
    "    data['dropoff_geo_recode'] = dropoff\n",
    "    data[\"dropoff_geo_recode\"] = data[\"dropoff_geo_recode\"].astype('category').cat.codes\n",
    "\n",
    "    \n",
    "    end = time.time()\n",
    "    print(\"Time taken by above function is {}.\".format((end-start)/60))\n",
    "    \n",
    "    return(data)"
   ]
  },
  {
   "cell_type": "code",
   "execution_count": null,
   "metadata": {},
   "outputs": [],
   "source": [
    "# Create a function to be calculating memory usage\n",
    "def get_usage(obj):\n",
    "    if isinstance(obj, pd.DataFrame):\n",
    "        usage = obj.memory_usage(deep=True).sum()\n",
    "    else:\n",
    "        usage = obj.memory_usage(deep=True)\n",
    "    return \"{:03.2f} MB\".format(usage / (1024**2))\n",
    "\n",
    "def optimizing(data):\n",
    "    start = time.time()\n",
    "        \n",
    "    # Convert object to int\n",
    "    obj = data.select_dtypes(include = 'object')\n",
    "    obj_f32 = obj.apply(pd.to_numeric, downcast='unsigned')\n",
    "\n",
    "    # Convert int64 to int8\n",
    "    obj = data.select_dtypes(include = 'int64')\n",
    "    obj_int = obj.apply(pd.to_numeric, downcast='unsigned')\n",
    "\n",
    "    # Convert float64 to float32\n",
    "    obj = data.select_dtypes(include = 'float64')\n",
    "    obj_f = obj.apply(pd.to_numeric, downcast='float')\n",
    "\n",
    "    # Calculated the memory we reduced by down grade int and float\n",
    "    print(\"Original memory usage: \", get_usage(data))\n",
    "    data[obj_f32.columns] = obj_f32\n",
    "    data[obj_int.columns] = obj_int\n",
    "    data[obj_f.columns] = obj_f\n",
    "    print(\"After converting int and float memory usage: \", get_usage(data))\n",
    "    \n",
    "    end = time.time()\n",
    "    print(\"Time taken by above function is {}.\".format((end-start)/60))\n",
    "    \n",
    "    return(data)"
   ]
  },
  {
   "cell_type": "code",
   "execution_count": null,
   "metadata": {},
   "outputs": [],
   "source": [
    "def pre_processing(data, weather):\n",
    "    data = data.reset_index()\n",
    "    weather = weather[['day', 'month', 'prcp', 'sndp', 'fog', 'visib', 'mxpsd', 'wdsp','gust']]\n",
    "    data['pickup_datetime'] = pd.to_datetime(data['pickup_datetime'])\n",
    "    data['date_of_year'] = pd.to_datetime(data['pickup_datetime'].dt.date)\n",
    "    data['month_of_year'] = data['pickup_datetime'].dt.month\n",
    "    data['pickup_hour'] = data['pickup_datetime'].dt.hour\n",
    "    data['day_of_year'] = data['pickup_datetime'].dt.day\n",
    "    data = pd.merge(data, weather, how = 'inner', left_on = ['day_of_year','month_of_year'], right_on = ['day','month'])\n",
    "    data = data.sort_values(by=['index']).reset_index()\n",
    "    return(data)"
   ]
  },
  {
   "cell_type": "markdown",
   "metadata": {},
   "source": [
    "#### Loading Testing Data"
   ]
  },
  {
   "cell_type": "code",
   "execution_count": null,
   "metadata": {},
   "outputs": [],
   "source": [
    "taxi = pd.read_csv(\"./APM4990_final_test_data_filtered.csv\")\n",
    "weather_2015 = pd.read_csv(\"./weather_2015_cleaned.csv\")"
   ]
  },
  {
   "cell_type": "markdown",
   "metadata": {},
   "source": [
    "#### Pre-processing"
   ]
  },
  {
   "cell_type": "code",
   "execution_count": null,
   "metadata": {},
   "outputs": [],
   "source": [
    "test = pre_processing(taxi, weather_2015)"
   ]
  },
  {
   "cell_type": "markdown",
   "metadata": {},
   "source": [
    "#### Feature Engineer"
   ]
  },
  {
   "cell_type": "code",
   "execution_count": null,
   "metadata": {},
   "outputs": [],
   "source": [
    "test = feature_engineer(test)"
   ]
  },
  {
   "cell_type": "markdown",
   "metadata": {},
   "source": [
    "#### Data Optimiziing"
   ]
  },
  {
   "cell_type": "code",
   "execution_count": null,
   "metadata": {},
   "outputs": [],
   "source": [
    "test = optimizing(test)"
   ]
  },
  {
   "cell_type": "code",
   "execution_count": null,
   "metadata": {},
   "outputs": [],
   "source": [
    "selected_features = ['month_of_year', 'day_of_year', 'pickup_hour', 'pickup_longitude', 'pickup_latitude', 'dropoff_longitude', 'cluster',\n",
    "       'dropoff_latitude', 'passenger_count', 'bearing',  'prcp', 'sndp', 'fog', 'weekday', 'holiday', 'manhattan_distance','haversine_distance','dropoff_geo_recode']\n",
    "\n",
    "test = test[selected_features]"
   ]
  },
  {
   "cell_type": "code",
   "execution_count": null,
   "metadata": {},
   "outputs": [],
   "source": [
    "y_pred_GBDT = np.exp(GBDT.predict(test))"
   ]
  },
  {
   "cell_type": "code",
   "execution_count": null,
   "metadata": {},
   "outputs": [],
   "source": [
    "result = pd.DataFrame({'predictions':y_pred_GBDT})"
   ]
  },
  {
   "cell_type": "code",
   "execution_count": null,
   "metadata": {},
   "outputs": [],
   "source": [
    "result.to_csv('./result.csv',index = False)"
   ]
  },
  {
   "cell_type": "code",
   "execution_count": null,
   "metadata": {},
   "outputs": [],
   "source": []
  }
 ],
 "metadata": {
  "kernelspec": {
   "display_name": "Python 3",
   "language": "python",
   "name": "python3"
  },
  "language_info": {
   "codemirror_mode": {
    "name": "ipython",
    "version": 3
   },
   "file_extension": ".py",
   "mimetype": "text/x-python",
   "name": "python",
   "nbconvert_exporter": "python",
   "pygments_lexer": "ipython3",
   "version": "3.7.2"
  }
 },
 "nbformat": 4,
 "nbformat_minor": 2
}
